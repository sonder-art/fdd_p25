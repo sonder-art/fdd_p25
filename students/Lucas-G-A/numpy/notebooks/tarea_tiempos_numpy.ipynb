{
  "cells": [
    {
      "cell_type": "markdown",
      "metadata": {},
      "source": [
        "<a target=\"_blank\" href=\"https://colab.research.google.com/github/sonder-art/fdd_p25/blob/main/professor/numpy/notebooks/tarea_tiempos_numpy.ipynb\">\n",
        "  <img src=\"https://colab.research.google.com/assets/colab-badge.svg\" alt=\"Open In Colab\"/>\n",
        "</a>\n"
      ]
    },
    {
      "cell_type": "markdown",
      "metadata": {},
      "source": [
        "# Tarea — Tiempos con distintas estrategias (Python vs NumPy)\n",
        "\n",
        "Objetivo: practicar varias formas de programar en Python y comparar su rendimiento con NumPy.\n",
        "\n",
        "Qué harás:\n",
        "- Implementar 3 problemas (P1 sencillo, P2 intermedio, P3 un poco más complejo).\n",
        "- Para cada problema, crear 4 versiones: for, list comprehension, generator (yield/generador), y NumPy vectorizado.\n",
        "- Medir tiempos con `timeit` de forma justa y compararlos.\n",
        "\n",
        "Reglas mínimas:\n",
        "- Verifica primero que todas las versiones producen el mismo resultado lógico (mismo tamaño/forma, mismos valores o valores equivalentes).\n",
        "- Sé consistente: no mezcles listas y arreglos sin aclarar el formato final esperado.\n",
        "- Para medir generadores, materializa con `list(...)` en el cronómetro para compararlo con las otras estrategias.\n",
        "- No copies soluciones externas; escribe tu implementación.\n",
        "\n",
        "Referencia: `07_Vectorizacion_vs_For_vs_Comprehensions.ipynb`.\n",
        "\n"
      ]
    },
    {
      "cell_type": "code",
      "execution_count": null,
      "metadata": {},
      "outputs": [],
      "source": [
        "# Instalación rápida (si la necesitas)\n",
        "\n",
        "import numpy as np\n",
        "import timeit\n"
      ]
    },
    {
      "cell_type": "markdown",
      "metadata": {},
      "source": [
        "## Problema 1 — Escalar un vector por una constante\n",
        "\n",
        "Descripción: dado un arreglo 1D `a` y una constante escalar `c`, produce una salida equivalente a `a * c`.\n",
        "\n",
        "Requisitos:\n",
        "- Entrada: `a` (1D), `c` (float/int).\n",
        "- Salida: misma longitud que `a`, valores escalados por `c`.\n",
        "- Mantén el tipo de salida consistente entre versiones (lista vs ndarray), o documenta la diferencia.\n",
        "\n",
        "Implementa 4 versiones:\n",
        "- for loop (acumula resultados con append)\n",
        "- list comprehension\n",
        "- generator (yield o expresión generadora)\n",
        "- NumPy vectorizado\n",
        "\n",
        "Datos sugeridos: `a = np.arange(n, dtype=float)`, `c = 2.0`.\n"
      ]
    },
    {
      "cell_type": "code",
      "execution_count": null,
      "metadata": {},
      "outputs": [],
      "source": [
        "# P1 — Stubs (completa las funciones)\n",
        "\n",
        "def p1_for(a: np.ndarray, c: float):\n",
        "    \"\"\"Devuelve a*c usando for y append.\"\"\"\n",
        "    raise NotImplementedError\n",
        "\n",
        "\n",
        "def p1_comp(a: np.ndarray, c: float):\n",
        "    \"\"\"Devuelve a*c usando list comprehension.\"\"\"\n",
        "    raise NotImplementedError\n",
        "\n",
        "\n",
        "def p1_gen(a: np.ndarray, c: float):\n",
        "    \"\"\"Devuelve (como generador) a*c usando yield o gen expr.\"\"\"\n",
        "    raise NotImplementedError\n",
        "\n",
        "\n",
        "def p1_np(a: np.ndarray, c: float):\n",
        "    \"\"\"Devuelve a*c usando NumPy vectorizado.\"\"\"\n",
        "    raise NotImplementedError\n"
      ]
    },
    {
      "cell_type": "code",
      "execution_count": null,
      "metadata": {},
      "outputs": [],
      "source": [
        "# P1 — Harness de tiempos (ajusta n y number)\n",
        "\n",
        "def time_p1(n=100_000, number=5):\n",
        "    a = np.arange(n, dtype=float)\n",
        "    c = 2.0\n",
        "    return (\n",
        "        timeit.timeit(lambda: p1_for(a, c), number=number),\n",
        "        timeit.timeit(lambda: p1_comp(a, c), number=number),\n",
        "        timeit.timeit(lambda: list(p1_gen(a, c)), number=number),\n",
        "        timeit.timeit(lambda: p1_np(a, c), number=number),\n",
        "    )\n",
        "\n",
        "# time_p1()  # descomenta para probar\n"
      ]
    },
    {
      "cell_type": "markdown",
      "metadata": {},
      "source": [
        "## Problema 2 — Suma de vecinos 1D (ventana)\n",
        "\n",
        "Descripción: dado `a` (1D) y una ventana `k` impar (p. ej. 3), calcular `b[i]` como la suma de los `k` vecinos centrados en `i`.\n",
        "\n",
        "Requisitos:\n",
        "- Entrada: `a` (1D), `k` impar ≥ 3.\n",
        "- Borde: puedes ignorar índices fuera de rango, recortar el resultado o replicar/extender bordes; explica tu elección.\n",
        "- Salida: 1D; documenta si su longitud cambia por tu manejo de bordes.\n",
        "\n",
        "Implementa 4 versiones: for, list comprehension, generator, NumPy vectorizado (pistas: slicing con desplazamientos, `np.roll`, o una convolución simple).\n",
        "\n",
        "Datos sugeridos: `a = np.arange(n, dtype=float)`, `k = 3`. \n"
      ]
    },
    {
      "cell_type": "code",
      "execution_count": null,
      "metadata": {},
      "outputs": [],
      "source": [
        "# P2 — Stubs (completa las funciones)\n",
        "\n",
        "def p2_for(a: np.ndarray, k: int = 3):\n",
        "    \"\"\"Devuelve suma de vecinos (1D) con for. Manejo de bordes a tu elección.\"\"\"\n",
        "    raise NotImplementedError\n",
        "\n",
        "\n",
        "def p2_comp(a: np.ndarray, k: int = 3):\n",
        "    \"\"\"List comprehension.\"\"\"\n",
        "    raise NotImplementedError\n",
        "\n",
        "\n",
        "def p2_gen(a: np.ndarray, k: int = 3):\n",
        "    \"\"\"Generator (yield o gen expr).\"\"\"\n",
        "    raise NotImplementedError\n",
        "\n",
        "\n",
        "def p2_np(a: np.ndarray, k: int = 3):\n",
        "    \"\"\"NumPy vectorizado (slicing/roll/convolución simple).\"\"\"\n",
        "    raise NotImplementedError\n"
      ]
    },
    {
      "cell_type": "code",
      "execution_count": null,
      "metadata": {},
      "outputs": [],
      "source": [
        "# P2 — Harness de tiempos\n",
        "\n",
        "def time_p2(n=100_000, number=3):\n",
        "    a = np.arange(n, dtype=float)\n",
        "    k = 3\n",
        "    return (\n",
        "        timeit.timeit(lambda: p2_for(a, k), number=number),\n",
        "        timeit.timeit(lambda: p2_comp(a, k), number=number),\n",
        "        timeit.timeit(lambda: list(p2_gen(a, k)), number=number),\n",
        "        timeit.timeit(lambda: p2_np(a, k), number=number),\n",
        "    )\n",
        "\n",
        "# time_p2()  # descomenta para probar\n"
      ]
    },
    {
      "cell_type": "markdown",
      "metadata": {},
      "source": [
        "## Problema 3 — Transformación no lineal y filtrado\n",
        "\n",
        "Descripción: dado `a` (1D float), aplica una transformación no lineal y filtra con un umbral.\n",
        "\n",
        "Requisitos:\n",
        "- Transformación propuesta (de ejemplo): `np.sin(a) + a**2`.\n",
        "- Entrada: `a` (1D float), `umbral` (float).\n",
        "- Salida: colección con los elementos resultantes que superan `umbral`.\n",
        "- Mantén clara la diferencia entre devolver lista vs ndarray.\n",
        "\n",
        "Implementa 4 versiones: for, list comprehension, generator, NumPy vectorizado (ufuncs + máscara booleana).\n",
        "\n",
        "Datos sugeridos: `a = np.linspace(0, 1000, n)`, `umbral = 10.0`. \n"
      ]
    },
    {
      "cell_type": "code",
      "execution_count": null,
      "metadata": {},
      "outputs": [],
      "source": [
        "# P3 — Stubs (completa las funciones)\n",
        "\n",
        "def p3_for(a: np.ndarray, umbral: float):\n",
        "    \"\"\"Filtra tras transformación no lineal con for.\"\"\"\n",
        "    raise NotImplementedError\n",
        "\n",
        "\n",
        "def p3_comp(a: np.ndarray, umbral: float):\n",
        "    \"\"\"List comprehension.\"\"\"\n",
        "    raise NotImplementedError\n",
        "\n",
        "\n",
        "def p3_gen(a: np.ndarray, umbral: float):\n",
        "    \"\"\"Generator (yield o gen expr).\"\"\"\n",
        "    raise NotImplementedError\n",
        "\n",
        "\n",
        "def p3_np(a: np.ndarray, umbral: float):\n",
        "    \"\"\"NumPy vectorizado (ufuncs + máscara booleana).\"\"\"\n",
        "    raise NotImplementedError\n"
      ]
    },
    {
      "cell_type": "code",
      "execution_count": null,
      "metadata": {},
      "outputs": [],
      "source": [
        "# P3 — Harness de tiempos\n",
        "\n",
        "def time_p3(n=200_000, number=3):\n",
        "    a = np.linspace(0, 1000, n, dtype=float)\n",
        "    umbral = 10.0\n",
        "    return (\n",
        "        timeit.timeit(lambda: p3_for(a, umbral), number=number),\n",
        "        timeit.timeit(lambda: p3_comp(a, umbral), number=number),\n",
        "        timeit.timeit(lambda: list(p3_gen(a, umbral)), number=number),\n",
        "        timeit.timeit(lambda: p3_np(a, umbral), number=number),\n",
        "    )\n",
        "\n",
        "# time_p3()  # descomenta para probar\n"
      ]
    },
    {
      "cell_type": "markdown",
      "metadata": {},
      "source": [
        "## Guía de medición y reporte\n",
        "\n",
        "- Usa `timeit.timeit` con el mismo `number` de repeticiones para todas las versiones.\n",
        "- Antes de medir, ejecuta cada función una vez (warm‑up) si tu entorno lo requiere.\n",
        "- Reporta tiempos en una tabla simple o tupla por problema: `(for, comp, gen, numpy)`.\n",
        "- Interpreta resultados: ¿qué versión gana?, ¿por cuánto?, ¿cambia con `n`?\n",
        "- Evita medir al mismo tiempo código que imprime o muestra gráficos.\n",
        "\n",
        "Sugerencia: prueba varios tamaños `n` (por ejemplo: 10^4, 10^5, 10^6) y observa tendencias.\n"
      ]
    }
  ],
  "metadata": {
    "language_info": {
      "name": "python"
    }
  },
  "nbformat": 4,
  "nbformat_minor": 2
}
