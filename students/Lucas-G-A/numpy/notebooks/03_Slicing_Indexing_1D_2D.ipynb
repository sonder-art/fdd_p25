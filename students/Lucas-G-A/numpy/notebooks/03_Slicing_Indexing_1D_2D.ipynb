{
  "cells": [
    {
      "cell_type": "markdown",
      "metadata": {},
      "source": [
        "<a target=\"_blank\" href=\"https://colab.research.google.com/github/sonder-art/fdd_p25/blob/main/professor/numpy/notebooks/03_Slicing_Indexing_1D_2D.ipynb\">\n",
        "  <img src=\"https://colab.research.google.com/assets/colab-badge.svg\" alt=\"Open In Colab\"/>\n",
        "<"
      ]
    },
    {
      "cell_type": "markdown",
      "metadata": {},
      "source": [
        "# 03 — Slicing e Indexación (1D y 2D)\n",
        "\n",
        "- Indexación básica y booleana\n",
        "- Slicing por rangos y saltos\n",
        "- `None` para agregar ejes: `n x 1` vs `n x None`\n",
        "- Diferencias entre 1D y 2D\n",
        "\n"
      ]
    },
    {
      "cell_type": "code",
      "execution_count": 1,
      "metadata": {},
      "outputs": [
        {
          "data": {
            "text/plain": [
              "(array([2, 3, 4, 5]), array([1, 3, 5]), array([1, 3, 5]), array([1, 3, 5]))"
            ]
          },
          "execution_count": 1,
          "metadata": {},
          "output_type": "execute_result"
        }
      ],
      "source": [
        "import numpy as np\n",
        "\n",
        "arr = np.array([1,2,3,4,5])\n",
        "idx = arr[[0,2,4]]\n",
        "mask = arr % 2 == 1\n",
        "(arr[1:], arr[::2], idx, arr[mask])\n"
      ]
    },
    {
      "cell_type": "code",
      "execution_count": 2,
      "metadata": {},
      "outputs": [
        {
          "data": {
            "text/plain": [
              "((5,), (5, 1), (1, 5))"
            ]
          },
          "execution_count": 2,
          "metadata": {},
          "output_type": "execute_result"
        }
      ],
      "source": [
        "# None agrega un eje nuevo\n",
        "v = np.arange(5)\n",
        "col = v[:, None]   # n x 1\n",
        "row = v[None, :]   # 1 x n\n",
        "(v.shape, col.shape, row.shape)\n"
      ]
    },
    {
      "cell_type": "code",
      "execution_count": 3,
      "metadata": {},
      "outputs": [
        {
          "data": {
            "text/plain": [
              "(array([[ 1,  2,  3,  4],\n",
              "        [ 5,  6,  7,  8],\n",
              "        [ 9, 10, 11, 12]]),\n",
              " array([1, 2, 3, 4]),\n",
              " array([1, 5, 9]),\n",
              " array([[ 6,  7],\n",
              "        [10, 11]]))"
            ]
          },
          "execution_count": 3,
          "metadata": {},
          "output_type": "execute_result"
        }
      ],
      "source": [
        "# 2D slicing\n",
        "M = np.arange(1, 13).reshape(3,4)\n",
        "(\n",
        "    M,\n",
        "    M[0, :],      # primera fila\n",
        "    M[:, 0],      # primera columna\n",
        "    M[1:, 1:3],   # submatriz\n",
        ")\n"
      ]
    }
  ],
  "metadata": {
    "kernelspec": {
      "display_name": ".venv",
      "language": "python",
      "name": "python3"
    },
    "language_info": {
      "codemirror_mode": {
        "name": "ipython",
        "version": 3
      },
      "file_extension": ".py",
      "mimetype": "text/x-python",
      "name": "python",
      "nbconvert_exporter": "python",
      "pygments_lexer": "ipython3",
      "version": "3.13.3"
    }
  },
  "nbformat": 4,
  "nbformat_minor": 2
}
