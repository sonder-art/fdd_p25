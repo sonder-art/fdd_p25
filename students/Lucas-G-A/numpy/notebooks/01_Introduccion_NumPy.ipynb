{
  "cells": [
    {
      "cell_type": "markdown",
      "metadata": {},
      "source": [
        "<a target=\"_blank\" href=\"https://colab.research.google.com/github/sonder-art/fdd_p25/blob/main/professor/numpy/notebooks/01_Introduccion_NumPy.ipynb\">\n",
        "  <img src=\"https://colab.research.google.com/assets/colab-badge.svg\" alt=\"Open In Colab\"/>\n",
        "</a>\n"
      ]
    },
    {
      "cell_type": "markdown",
      "metadata": {},
      "source": [
        "# 01 — Introducción a NumPy\n",
        "\n",
        "Objetivo: comprender qué es NumPy, por qué usar `ndarray` y cómo se compara con listas de Python.\n",
        "\n",
        "- ¿Qué es un `ndarray`?\n",
        "- Ventajas (vectorización, memoria contigua, broadcasting)\n",
        "- Import básico y versión\n",
        "- Primer array y su `shape`\n",
        "- Comparación con listas"
      ]
    },
    {
      "cell_type": "code",
      "execution_count": 2,
      "metadata": {},
      "outputs": [
        {
          "name": "stdout",
          "output_type": "stream",
          "text": [
            "Collecting numpy\n",
            "  Downloading numpy-2.3.4-cp313-cp313-macosx_14_0_arm64.whl.metadata (62 kB)\n",
            "Collecting matplotlib\n",
            "  Downloading matplotlib-3.10.7-cp313-cp313-macosx_11_0_arm64.whl.metadata (11 kB)\n",
            "Requirement already satisfied: ipykernel in /Users/lucasgarcia/Desktop/Lucas_FD/fdd_p25/.venv/lib/python3.13/site-packages (6.30.1)\n",
            "Collecting contourpy>=1.0.1 (from matplotlib)\n",
            "  Downloading contourpy-1.3.3-cp313-cp313-macosx_11_0_arm64.whl.metadata (5.5 kB)\n",
            "Collecting cycler>=0.10 (from matplotlib)\n",
            "  Using cached cycler-0.12.1-py3-none-any.whl.metadata (3.8 kB)\n",
            "Collecting fonttools>=4.22.0 (from matplotlib)\n",
            "  Downloading fonttools-4.60.1-cp313-cp313-macosx_10_13_universal2.whl.metadata (112 kB)\n",
            "Collecting kiwisolver>=1.3.1 (from matplotlib)\n",
            "  Downloading kiwisolver-1.4.9-cp313-cp313-macosx_11_0_arm64.whl.metadata (6.3 kB)\n",
            "Requirement already satisfied: packaging>=20.0 in /Users/lucasgarcia/Desktop/Lucas_FD/fdd_p25/.venv/lib/python3.13/site-packages (from matplotlib) (25.0)\n",
            "Collecting pillow>=8 (from matplotlib)\n",
            "  Downloading pillow-12.0.0-cp313-cp313-macosx_11_0_arm64.whl.metadata (8.8 kB)\n",
            "Collecting pyparsing>=3 (from matplotlib)\n",
            "  Using cached pyparsing-3.2.5-py3-none-any.whl.metadata (5.0 kB)\n",
            "Requirement already satisfied: python-dateutil>=2.7 in /Users/lucasgarcia/Desktop/Lucas_FD/fdd_p25/.venv/lib/python3.13/site-packages (from matplotlib) (2.9.0.post0)\n",
            "Requirement already satisfied: appnope>=0.1.2 in /Users/lucasgarcia/Desktop/Lucas_FD/fdd_p25/.venv/lib/python3.13/site-packages (from ipykernel) (0.1.4)\n",
            "Requirement already satisfied: comm>=0.1.1 in /Users/lucasgarcia/Desktop/Lucas_FD/fdd_p25/.venv/lib/python3.13/site-packages (from ipykernel) (0.2.3)\n",
            "Requirement already satisfied: debugpy>=1.6.5 in /Users/lucasgarcia/Desktop/Lucas_FD/fdd_p25/.venv/lib/python3.13/site-packages (from ipykernel) (1.8.17)\n",
            "Requirement already satisfied: ipython>=7.23.1 in /Users/lucasgarcia/Desktop/Lucas_FD/fdd_p25/.venv/lib/python3.13/site-packages (from ipykernel) (9.6.0)\n",
            "Requirement already satisfied: jupyter-client>=8.0.0 in /Users/lucasgarcia/Desktop/Lucas_FD/fdd_p25/.venv/lib/python3.13/site-packages (from ipykernel) (8.6.3)\n",
            "Requirement already satisfied: jupyter-core!=5.0.*,>=4.12 in /Users/lucasgarcia/Desktop/Lucas_FD/fdd_p25/.venv/lib/python3.13/site-packages (from ipykernel) (5.8.1)\n",
            "Requirement already satisfied: matplotlib-inline>=0.1 in /Users/lucasgarcia/Desktop/Lucas_FD/fdd_p25/.venv/lib/python3.13/site-packages (from ipykernel) (0.1.7)\n",
            "Requirement already satisfied: nest-asyncio>=1.4 in /Users/lucasgarcia/Desktop/Lucas_FD/fdd_p25/.venv/lib/python3.13/site-packages (from ipykernel) (1.6.0)\n",
            "Requirement already satisfied: psutil>=5.7 in /Users/lucasgarcia/Desktop/Lucas_FD/fdd_p25/.venv/lib/python3.13/site-packages (from ipykernel) (7.1.0)\n",
            "Requirement already satisfied: pyzmq>=25 in /Users/lucasgarcia/Desktop/Lucas_FD/fdd_p25/.venv/lib/python3.13/site-packages (from ipykernel) (27.1.0)\n",
            "Requirement already satisfied: tornado>=6.2 in /Users/lucasgarcia/Desktop/Lucas_FD/fdd_p25/.venv/lib/python3.13/site-packages (from ipykernel) (6.5.2)\n",
            "Requirement already satisfied: traitlets>=5.4.0 in /Users/lucasgarcia/Desktop/Lucas_FD/fdd_p25/.venv/lib/python3.13/site-packages (from ipykernel) (5.14.3)\n",
            "Requirement already satisfied: decorator in /Users/lucasgarcia/Desktop/Lucas_FD/fdd_p25/.venv/lib/python3.13/site-packages (from ipython>=7.23.1->ipykernel) (5.2.1)\n",
            "Requirement already satisfied: ipython-pygments-lexers in /Users/lucasgarcia/Desktop/Lucas_FD/fdd_p25/.venv/lib/python3.13/site-packages (from ipython>=7.23.1->ipykernel) (1.1.1)\n",
            "Requirement already satisfied: jedi>=0.16 in /Users/lucasgarcia/Desktop/Lucas_FD/fdd_p25/.venv/lib/python3.13/site-packages (from ipython>=7.23.1->ipykernel) (0.19.2)\n",
            "Requirement already satisfied: pexpect>4.3 in /Users/lucasgarcia/Desktop/Lucas_FD/fdd_p25/.venv/lib/python3.13/site-packages (from ipython>=7.23.1->ipykernel) (4.9.0)\n",
            "Requirement already satisfied: prompt_toolkit<3.1.0,>=3.0.41 in /Users/lucasgarcia/Desktop/Lucas_FD/fdd_p25/.venv/lib/python3.13/site-packages (from ipython>=7.23.1->ipykernel) (3.0.52)\n",
            "Requirement already satisfied: pygments>=2.4.0 in /Users/lucasgarcia/Desktop/Lucas_FD/fdd_p25/.venv/lib/python3.13/site-packages (from ipython>=7.23.1->ipykernel) (2.19.2)\n",
            "Requirement already satisfied: stack_data in /Users/lucasgarcia/Desktop/Lucas_FD/fdd_p25/.venv/lib/python3.13/site-packages (from ipython>=7.23.1->ipykernel) (0.6.3)\n",
            "Requirement already satisfied: wcwidth in /Users/lucasgarcia/Desktop/Lucas_FD/fdd_p25/.venv/lib/python3.13/site-packages (from prompt_toolkit<3.1.0,>=3.0.41->ipython>=7.23.1->ipykernel) (0.2.14)\n",
            "Requirement already satisfied: parso<0.9.0,>=0.8.4 in /Users/lucasgarcia/Desktop/Lucas_FD/fdd_p25/.venv/lib/python3.13/site-packages (from jedi>=0.16->ipython>=7.23.1->ipykernel) (0.8.5)\n",
            "Requirement already satisfied: platformdirs>=2.5 in /Users/lucasgarcia/Desktop/Lucas_FD/fdd_p25/.venv/lib/python3.13/site-packages (from jupyter-core!=5.0.*,>=4.12->ipykernel) (4.5.0)\n",
            "Requirement already satisfied: ptyprocess>=0.5 in /Users/lucasgarcia/Desktop/Lucas_FD/fdd_p25/.venv/lib/python3.13/site-packages (from pexpect>4.3->ipython>=7.23.1->ipykernel) (0.7.0)\n",
            "Requirement already satisfied: six>=1.5 in /Users/lucasgarcia/Desktop/Lucas_FD/fdd_p25/.venv/lib/python3.13/site-packages (from python-dateutil>=2.7->matplotlib) (1.17.0)\n",
            "Requirement already satisfied: executing>=1.2.0 in /Users/lucasgarcia/Desktop/Lucas_FD/fdd_p25/.venv/lib/python3.13/site-packages (from stack_data->ipython>=7.23.1->ipykernel) (2.2.1)\n",
            "Requirement already satisfied: asttokens>=2.1.0 in /Users/lucasgarcia/Desktop/Lucas_FD/fdd_p25/.venv/lib/python3.13/site-packages (from stack_data->ipython>=7.23.1->ipykernel) (3.0.0)\n",
            "Requirement already satisfied: pure-eval in /Users/lucasgarcia/Desktop/Lucas_FD/fdd_p25/.venv/lib/python3.13/site-packages (from stack_data->ipython>=7.23.1->ipykernel) (0.2.3)\n",
            "Downloading numpy-2.3.4-cp313-cp313-macosx_14_0_arm64.whl (5.1 MB)\n",
            "\u001b[2K   \u001b[90m━━━━━━━━━━━━━━━━━━━━━━━━━━━━━━━━━━━━━━━━\u001b[0m \u001b[32m5.1/5.1 MB\u001b[0m \u001b[31m3.8 MB/s\u001b[0m  \u001b[33m0:00:01\u001b[0m eta \u001b[36m0:00:01\u001b[0mm\n",
            "\u001b[?25hDownloading matplotlib-3.10.7-cp313-cp313-macosx_11_0_arm64.whl (8.1 MB)\n",
            "\u001b[2K   \u001b[90m━━━━━━━━━━━━━━━━━━━━━━━━━━━━━━━━━━━━━━━━\u001b[0m \u001b[32m8.1/8.1 MB\u001b[0m \u001b[31m684.8 kB/s\u001b[0m  \u001b[33m0:00:11\u001b[0m eta \u001b[36m0:00:01\u001b[0m\n",
            "\u001b[?25hDownloading contourpy-1.3.3-cp313-cp313-macosx_11_0_arm64.whl (274 kB)\n",
            "Using cached cycler-0.12.1-py3-none-any.whl (8.3 kB)\n",
            "Downloading fonttools-4.60.1-cp313-cp313-macosx_10_13_universal2.whl (2.8 MB)\n",
            "\u001b[2K   \u001b[90m━━━━━━━━━━━━━━━━━━━━━━━━━━━━━━━━━━━━━━━━\u001b[0m \u001b[32m2.8/2.8 MB\u001b[0m \u001b[31m507.2 kB/s\u001b[0m  \u001b[33m0:00:05\u001b[0m eta \u001b[36m0:00:01\u001b[0m\n",
            "\u001b[?25hDownloading kiwisolver-1.4.9-cp313-cp313-macosx_11_0_arm64.whl (64 kB)\n",
            "Downloading pillow-12.0.0-cp313-cp313-macosx_11_0_arm64.whl (4.7 MB)\n",
            "\u001b[2K   \u001b[90m━━━━━━━━━━━━━━━━━━━━━━━━━━━━━━━━━━━━━━━━\u001b[0m \u001b[32m4.7/4.7 MB\u001b[0m \u001b[31m831.2 kB/s\u001b[0m  \u001b[33m0:00:05\u001b[0m eta \u001b[36m0:00:01\u001b[0m\n",
            "\u001b[?25hUsing cached pyparsing-3.2.5-py3-none-any.whl (113 kB)\n",
            "Installing collected packages: pyparsing, pillow, numpy, kiwisolver, fonttools, cycler, contourpy, matplotlib\n",
            "\u001b[2K   \u001b[90m━━━━━━━━━━━━━━━━━━━━━━━━━━━━━━━━━━━━━━━━\u001b[0m \u001b[32m8/8\u001b[0m [matplotlib]8\u001b[0m [matplotlib]\n",
            "\u001b[1A\u001b[2KSuccessfully installed contourpy-1.3.3 cycler-0.12.1 fonttools-4.60.1 kiwisolver-1.4.9 matplotlib-3.10.7 numpy-2.3.4 pillow-12.0.0 pyparsing-3.2.5\n"
          ]
        }
      ],
      "source": [
        "# mala practica deberian instalarlo con requirements, pero es para colab\n",
        "!pip install numpy matplotlib ipykernel\n"
      ]
    },
    {
      "cell_type": "code",
      "execution_count": 3,
      "metadata": {},
      "outputs": [
        {
          "data": {
            "text/plain": [
              "'2.3.4'"
            ]
          },
          "execution_count": 3,
          "metadata": {},
          "output_type": "execute_result"
        }
      ],
      "source": [
        "import numpy as np\n",
        "np.__version__\n"
      ]
    },
    {
      "cell_type": "code",
      "execution_count": 4,
      "metadata": {},
      "outputs": [
        {
          "data": {
            "text/plain": [
              "(array([1, 2, 3, 4, 5]), (5,))"
            ]
          },
          "execution_count": 4,
          "metadata": {},
          "output_type": "execute_result"
        }
      ],
      "source": [
        "# Primer ndarray y shape\n",
        "arr = np.array([1, 2, 3, 4, 5])\n",
        "arr, arr.shape\n"
      ]
    },
    {
      "cell_type": "markdown",
      "metadata": {},
      "source": [
        "## Listas vs ndarrays (coste y operaciones)\n",
        "- Listas: objetos heterogéneos, operaciones elemento a elemento con bucles\n",
        "- NumPy: vectorización y operaciones en bloque\n",
        "\n"
      ]
    },
    {
      "cell_type": "code",
      "execution_count": 5,
      "metadata": {},
      "outputs": [
        {
          "data": {
            "text/plain": [
              "([0, 2, 4, 6, 8, 10, 12, 14, 16, 18],\n",
              " array([ 0,  2,  4,  6,  8, 10, 12, 14, 16, 18]))"
            ]
          },
          "execution_count": 5,
          "metadata": {},
          "output_type": "execute_result"
        }
      ],
      "source": [
        "# Comparación básica: multiplicar por 2\n",
        "lista = list(range(10))\n",
        "arr = np.arange(10)\n",
        "\n",
        "lista_doble = [x*2 for x in lista]\n",
        "arr_doble = arr * 2\n",
        "\n",
        "lista_doble, arr_doble\n"
      ]
    }
  ],
  "metadata": {
    "kernelspec": {
      "display_name": ".venv",
      "language": "python",
      "name": "python3"
    },
    "language_info": {
      "codemirror_mode": {
        "name": "ipython",
        "version": 3
      },
      "file_extension": ".py",
      "mimetype": "text/x-python",
      "name": "python",
      "nbconvert_exporter": "python",
      "pygments_lexer": "ipython3",
      "version": "3.13.3"
    }
  },
  "nbformat": 4,
  "nbformat_minor": 2
}
