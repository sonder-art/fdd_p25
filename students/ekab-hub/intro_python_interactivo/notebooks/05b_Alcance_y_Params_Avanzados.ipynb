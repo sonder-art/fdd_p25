{
  "cells": [
    {
      "cell_type": "markdown",
      "metadata": {},
      "source": [
        "[![Open in Colab](https://colab.research.google.com/assets/colab-badge.svg)](https://colab.research.google.com/github/sonder-art/fdd_p25/blob/main/professor/intro_python_interactivo/notebooks/05b_Alcance_y_Params_Avanzados.ipynb)\n"
      ]
    },
    {
      "cell_type": "markdown",
      "metadata": {},
      "source": [
        "# 05b · Alcance (LEGB) y Parámetros Avanzados — comprensión profunda\n",
        "\n",
        "Objetivo: dominar cómo Python pasa y resuelve nombres (LEGB), entender mutabilidad vs reasignación y copias vs alias, y aprender patrones avanzados de firmas (*args/**kwargs). También veremos lambdas/closures (late binding) y una nota de recursión. Avanzaremos paso a paso con explicaciones detalladas y código comentado.\n"
      ]
    },
    {
      "cell_type": "markdown",
      "metadata": {},
      "source": [
        "## 1) Passing semantics — primeros pasos\n",
        "\n",
        "Vamos a diferenciar qué ocurre al pasar inmutables (int/str/tuple) y mutables (list/dict/set). Lo mostraremos con “antes/después” y comentarios dentro del código.\n"
      ]
    },
    {
      "cell_type": "code",
      "execution_count": 1,
      "metadata": {},
      "outputs": [
        {
          "name": "stdout",
          "output_type": "stream",
          "text": [
            "(antes) n: 5\n",
            "(func) x local: 15\n",
            "(después) n: 5\n",
            "(antes) arr: [1, 2]\n",
            "(func) xs local: [1, 2, 99]\n",
            "(después) arr: [1, 2, 99]\n"
          ]
        }
      ],
      "source": [
        "# Inmutable: reasignar dentro NO afecta al llamador\n",
        "\n",
        "def toca_int(x: int) -> None:\n",
        "    # Dentro, x es un nombre local. Reasignarlo no cambia fuera.\n",
        "    x = x + 10\n",
        "    print(\"(func) x local:\", x)\n",
        "\n",
        "n = 5\n",
        "print(\"(antes) n:\", n)\n",
        "toca_int(n)\n",
        "print(\"(después) n:\", n)\n",
        "\n",
        "# Mutable: mutar SÍ afecta al llamador\n",
        "\n",
        "def agrega_elemento(xs: list[int]) -> None:\n",
        "    # Mutación in-place: esto cambia el mismo objeto que ve el llamador\n",
        "    xs.append(99)\n",
        "    print(\"(func) xs local:\", xs)\n",
        "\n",
        "arr = [1, 2]\n",
        "print(\"(antes) arr:\", arr)\n",
        "agrega_elemento(arr)\n",
        "print(\"(después) arr:\", arr)\n",
        "\n"
      ]
    },
    {
      "cell_type": "markdown",
      "metadata": {},
      "source": [
        "## 2) Reasignar nombre vs mutar objeto\n",
        "\n",
        "- Reasignar un nombre local crea un nuevo vínculo (no afecta afuera).\n",
        "- Mutar un objeto cambia el estado del mismo objeto referenciado.\n"
      ]
    },
    {
      "cell_type": "code",
      "execution_count": 2,
      "metadata": {},
      "outputs": [
        {
          "name": "stdout",
          "output_type": "stream",
          "text": [
            "(antes) base: [1, 2, 3]\n",
            "(func) xs reasignada: [0]\n",
            "(después reasigna) base: [1, 2, 3]\n",
            "(func) xs mutada: [1, 2, 3, 42]\n",
            "(después muta) base: [1, 2, 3, 42]\n"
          ]
        }
      ],
      "source": [
        "def reasigna_lista(xs: list[int]) -> None:\n",
        "    # Reasignar el nombre local 'xs' NO afecta la variable del llamador\n",
        "    xs = [0]  # nuevo objeto, solo dentro de la función\n",
        "    print(\"(func) xs reasignada:\", xs)\n",
        "\n",
        "def muta_lista(xs: list[int]) -> None:\n",
        "    # Mutación in-place SÍ se refleja fuera\n",
        "    xs.append(42)\n",
        "    print(\"(func) xs mutada:\", xs)\n",
        "\n",
        "base = [1, 2, 3]\n",
        "print(\"(antes) base:\", base)\n",
        "reasigna_lista(base)\n",
        "print(\"(después reasigna) base:\", base)\n",
        "muta_lista(base)\n",
        "print(\"(después muta) base:\", base)\n",
        "\n"
      ]
    },
    {
      "cell_type": "markdown",
      "metadata": {},
      "source": [
        "## 3) Copias vs alias (recordatorio breve)\n",
        "\n",
        "- Alias: `b = a` apunta al MISMO objeto (mutar en un lado afecta el otro).\n",
        "- Copia superficial (shallow): `a.copy()`, `list(a)`, `a[:]` crean un NUEVO contenedor, pero sub‑objetos siguen compartidos.\n",
        "- Copia profunda (deepcopy): duplica recursivamente sub‑objetos (útil con anidados).\n"
      ]
    },
    {
      "cell_type": "code",
      "execution_count": 3,
      "metadata": {},
      "outputs": [
        {
          "name": "stdout",
          "output_type": "stream",
          "text": [
            "a: [1, [2, 3, 4]]\n",
            "b (alias): [1, [2, 3, 4]]\n",
            "c (shallow): [1, [2, 3, 4]]\n",
            "d (deepcopy): [1, [2, 3, 4]]\n"
          ]
        }
      ],
      "source": [
        "a = [1, [2, 3]]\n",
        "b = a              # alias\n",
        "c = a[:]           # shallow copy\n",
        "\n",
        "# Mutación de sub‑lista afecta alias y copia superficial\n",
        "a[1].append(4)\n",
        "print(\"a:\", a)\n",
        "print(\"b (alias):\", b)\n",
        "print(\"c (shallow):\", c)\n",
        "\n",
        "import copy\n",
        "d = copy.deepcopy(a)\n",
        "a[1].append(5)\n",
        "print(\"d (deepcopy):\", d)\n",
        "\n"
      ]
    },
    {
      "cell_type": "markdown",
      "metadata": {},
      "source": [
        "## 4) LEGB — resolución de nombres (muy detallado)\n",
        "\n",
        "Orden de búsqueda de nombres: Local → Enclosing → Global → Builtins. Vamos a verlo en capas, con ejemplos breves y comentarios explícitos.\n"
      ]
    },
    {
      "cell_type": "code",
      "execution_count": 4,
      "metadata": {},
      "outputs": [
        {
          "name": "stdout",
          "output_type": "stream",
          "text": [
            "X global: global\n",
            "X visto dentro: global\n"
          ]
        }
      ],
      "source": [
        "# 4.1 Local vs Global\n",
        "X = \"global\"\n",
        "\n",
        "def muestra():\n",
        "    # Python busca X: Local (no), luego Global (sí)\n",
        "    print(\"X visto dentro:\", X)\n",
        "\n",
        "print(\"X global:\", X)\n",
        "muestra()\n",
        "\n"
      ]
    },
    {
      "cell_type": "code",
      "execution_count": 5,
      "metadata": {},
      "outputs": [
        {
          "name": "stdout",
          "output_type": "stream",
          "text": [
            "mensaje visto por interna: enclosing\n"
          ]
        }
      ],
      "source": [
        "# 4.2 Enclosing: función dentro de función (lectura)\n",
        "\n",
        "def externa():\n",
        "    mensaje = \"enclosing\"\n",
        "    def interna():\n",
        "        # No hay 'mensaje' local, sube al enclosing y lo encuentra\n",
        "        print(\"mensaje visto por interna:\", mensaje)\n",
        "    interna()\n",
        "\n",
        "externa()\n",
        "\n"
      ]
    },
    {
      "cell_type": "code",
      "execution_count": 6,
      "metadata": {},
      "outputs": [
        {
          "name": "stdout",
          "output_type": "stream",
          "text": [
            "11\n",
            "12\n"
          ]
        }
      ],
      "source": [
        "# 4.3 nonlocal: modificar variable del enclosing\n",
        "\n",
        "def fabrica_contador(inicial=0):\n",
        "    cuenta = inicial  # variable en el enclosing\n",
        "    def sumar():\n",
        "        nonlocal cuenta        # indica que queremos modificar la del enclosing\n",
        "        cuenta += 1            # sin nonlocal, esto crearía un nombre local y fallaría\n",
        "        return cuenta\n",
        "    return sumar\n",
        "\n",
        "c = fabrica_contador(10)\n",
        "print(c())\n",
        "print(c())\n",
        "\n"
      ]
    },
    {
      "cell_type": "code",
      "execution_count": 7,
      "metadata": {},
      "outputs": [
        {
          "name": "stdout",
          "output_type": "stream",
          "text": [
            "Y antes: 0\n",
            "Y después: 99\n"
          ]
        }
      ],
      "source": [
        "# 4.4 global: evita su uso salvo casos muy puntuales\n",
        "\n",
        "Y = 0\n",
        "\n",
        "def toca_global():\n",
        "    global Y\n",
        "    Y = 99         # rebind en el espacio global (difícil de razonar y testear)\n",
        "\n",
        "print(\"Y antes:\", Y)\n",
        "toca_global()\n",
        "print(\"Y después:\", Y)\n",
        "\n"
      ]
    },
    {
      "cell_type": "markdown",
      "metadata": {},
      "source": [
        "### 4.5 Edge cases de LEGB (sombreado y “cuándo” se evalúa)\n",
        "\n",
        "- Sombreado (shadowing): un nombre local con el mismo identificador “tapa” al externo en ese bloque.\n",
        "- Cierres (closures) y tiempos: la función interna ve la variable por nombre; según el patrón, puede evaluarse más tarde (ej. en lambdas dentro de bucles).\n"
      ]
    },
    {
      "cell_type": "code",
      "execution_count": 8,
      "metadata": {},
      "outputs": [
        {
          "name": "stdout",
          "output_type": "stream",
          "text": [
            "dentro: local\n",
            "fuera: global\n",
            "[2, 2, 2]\n",
            "[0, 1, 2]\n"
          ]
        }
      ],
      "source": [
        "# Sombreado: el nombre local 'X' oculta al global dentro del bloque\n",
        "X = \"global\"\n",
        "\n",
        "def sombra():\n",
        "    X = \"local\"   # sombreado\n",
        "    print(\"dentro:\", X)  # muestra 'local'\n",
        "\n",
        "sombra()\n",
        "print(\"fuera:\", X)       # sigue siendo 'global'\n",
        "\n",
        "# Timing con cierre (closure) — se evalúa al usarlo\n",
        "funcs = []\n",
        "for i in range(3):\n",
        "    def f():\n",
        "        # f usa 'i' por nombre; todas verán el último valor si no fijamos i\n",
        "        return i\n",
        "    funcs.append(f)\n",
        "print([fn() for fn in funcs])  # late binding clásico\n",
        "\n",
        "# Solución: fijar i como arg por defecto\n",
        "funcs2 = []\n",
        "for i in range(3):\n",
        "    def f(i=i):\n",
        "        return i\n",
        "    funcs2.append(f)\n",
        "print([fn() for fn in funcs2])\n",
        "\n"
      ]
    },
    {
      "cell_type": "markdown",
      "metadata": {},
      "source": [
        "## 5) *args y **kwargs — avanzado y claro\n",
        "\n",
        "Orden recomendado en la firma: posicionales, *args, keyword‑only (tras *), **kwargs. También veremos desempaque al llamar con * y **, y cómo inspeccionar lo recibido con prints etiquetados.\n"
      ]
    },
    {
      "cell_type": "code",
      "execution_count": 9,
      "metadata": {},
      "outputs": [
        {
          "name": "stdout",
          "output_type": "stream",
          "text": [
            "a=1 b=0 args=() escala=1 kwargs={}\n",
            "llamada simple: 1\n",
            "a=1 b=2 args=(3, 4) escala=1 kwargs={}\n",
            "con *args: 10\n",
            "a=1 b=0 args=() escala=10 kwargs={}\n",
            "keyword-only: 10\n",
            "a=1 b=2 args=(3,) escala=2 kwargs={'x': 99}\n",
            "mezcla: 12\n",
            "a=5 b=6 args=(7,) escala=3 kwargs={'extra': True}\n",
            "desempaque: 54\n"
          ]
        }
      ],
      "source": [
        "def firma(a, b=0, *args, escala=1, **kwargs):\n",
        "    # Imprime todo lo recibido para inspeccionar\n",
        "    print(f\"a={a!r} b={b!r} args={args!r} escala={escala!r} kwargs={kwargs!r}\")\n",
        "    total = (a + b + sum(args)) * escala\n",
        "    return total\n",
        "\n",
        "print(\"llamada simple:\", firma(1))\n",
        "print(\"con *args:\", firma(1, 2, 3, 4))\n",
        "print(\"keyword-only:\", firma(1, escala=10))\n",
        "print(\"mezcla:\", firma(1, 2, 3, escala=2, x=99))\n",
        "\n",
        "# Desempaque al llamar con * y **\n",
        "pos = (5, 6, 7)\n",
        "nom = {\"escala\": 3, \"extra\": True}\n",
        "print(\"desempaque:\", firma(*pos, **nom))\n",
        "\n"
      ]
    },
    {
      "cell_type": "markdown",
      "metadata": {},
      "source": [
        "### Nota sobre f-strings: `!r`, `!s`, `!a` y formateo con `:`\n",
        "\n",
        "- `f\"{expr!r}\"` aplica `repr(expr)` antes de incrustar el valor. `repr` es útil para depurar: muestra comillas, saltos de línea como `\\n`, etc.\n",
        "- `f\"{expr!s}\"` aplica `str(expr)` (es la conversión por defecto de `print`). Suele ser más “amigable” pero menos precisa para depurar.\n",
        "- `f\"{expr!a}\"` aplica `ascii(expr)` (convierte a ASCII escapando caracteres no ASCII).\n",
        "- Puedes combinar conversión con especificadores de formato usando `:`: por ejemplo `f\"{num:08d}\"` (entero con ceros a la izquierda) o `f\"{pi:.3f}\"` (3 decimales).\n",
        "\n",
        "En la línea `print(f\"a={a!r} b={b!r} args={args!r} escala={escala!r} kwargs={kwargs!r}\")` usamos `!r` para ver las representaciones “fiables” (repr) de todos los argumentos, ideal para inspeccionar qué llegó realmente a la función.\n"
      ]
    },
    {
      "cell_type": "markdown",
      "metadata": {},
      "source": [
        "## 6) Lambdas, cierres y late binding (con solución)\n",
        "\n",
        "- Lambdas: funciones pequeñas “en línea”; úsalas cuando la simplicidad lo permita.\n",
        "- Closure: una función interna puede “ver” nombres del enclosing.\n",
        "- Late binding: lambdas en bucles capturan el nombre, no el valor; usa `i=i` para fijar el valor actual.\n"
      ]
    },
    {
      "cell_type": "code",
      "execution_count": 10,
      "metadata": {},
      "outputs": [
        {
          "name": "stdout",
          "output_type": "stream",
          "text": [
            "late binding: [2, 2, 2]\n",
            "fijado con i=i: [0, 1, 2]\n"
          ]
        }
      ],
      "source": [
        "# Demostración breve con lambda y solución\n",
        "fns = []\n",
        "for i in range(3):\n",
        "    fns.append(lambda: i)   # late binding: todas verán el último i\n",
        "print(\"late binding:\", [f() for f in fns])\n",
        "\n",
        "fns_fix = []\n",
        "for i in range(3):\n",
        "    fns_fix.append(lambda i=i: i)  # fijamos el valor actual como default\n",
        "print(\"fijado con i=i:\", [f() for f in fns_fix])\n",
        "\n"
      ]
    },
    {
      "cell_type": "markdown",
      "metadata": {},
      "source": [
        "## 7) Recursión — nota breve\n",
        "\n",
        "- Siempre define un caso base claro y uno recursivo.\n",
        "- Cuidado con la profundidad de recursión (por defecto ~1000 llamadas).\n",
        "- Cuando el problema crece mucho, considera una versión iterativa u otras técnicas.\n"
      ]
    },
    {
      "cell_type": "markdown",
      "metadata": {},
      "source": [
        "## 8) Resumen y enlaces\n",
        "\n",
        "- Diferencias clave: inmutable vs mutable, reasignar vs mutar, alias vs copias.\n",
        "- LEGB detallado: Local → Enclosing → Global → Builtins; nonlocal/global y sus efectos.\n",
        "- Firmas avanzadas: *args/**kwargs, keyword‑only, desempaque.\n",
        "- Lambdas/closures y late binding; solución con `i=i`.\n",
        "- Recursión: caso base y límites prácticos.\n",
        "\n",
        "Enlaces:\n",
        "- Tutorial oficial (namespaces y scope)\n",
        "- Módulo `copy` (deepcopy)\n",
        "- Referencia a 03 (copias), 06 (comprehensions/map/filter), 07 (errores/raise), 08 (generadores/closures)\n"
      ]
    }
  ],
  "metadata": {
    "kernelspec": {
      "display_name": ".venv",
      "language": "python",
      "name": "python3"
    },
    "language_info": {
      "codemirror_mode": {
        "name": "ipython",
        "version": 3
      },
      "file_extension": ".py",
      "mimetype": "text/x-python",
      "name": "python",
      "nbconvert_exporter": "python",
      "pygments_lexer": "ipython3",
      "version": "3.10.12"
    }
  },
  "nbformat": 4,
  "nbformat_minor": 2
}
