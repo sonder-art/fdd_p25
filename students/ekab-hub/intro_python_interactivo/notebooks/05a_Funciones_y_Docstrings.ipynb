{
  "cells": [
    {
      "cell_type": "markdown",
      "metadata": {},
      "source": [
        "[![Open in Colab](https://colab.research.google.com/assets/colab-badge.svg)](https://colab.research.google.com/github/sonder-art/fdd_p25/blob/main/professor/intro_python_interactivo/notebooks/05a_Funciones_y_Docstrings.ipynb)\n"
      ]
    },
    {
      "cell_type": "markdown",
      "metadata": {},
      "source": [
        "# 05a · Funciones y Docstrings — fundamentos claros y progresivos\n",
        "\n",
        "Objetivo: aprender a definir funciones paso a paso, escribir docstrings útiles (PEP 257), usar `help`, llamar funciones con parámetros posicionales y por nombre, manejar valores por defecto correctamente y comprender qué aportan los type hints. Todo con ejemplos pequeños, impresiones etiquetadas y comentarios dentro del código.\n"
      ]
    },
    {
      "cell_type": "markdown",
      "metadata": {},
      "source": [
        "## 1) Motivación: ¿por qué funciones?\n",
        "\n",
        "- Reutilizas lógica y reduces duplicación.\n",
        "- Nombras pasos con intención (más fácil de leer y probar).\n",
        "- Diferencia clave: `return` (valor que “sale” de la función) vs `print` (solo muestra texto en pantalla).\n"
      ]
    },
    {
      "cell_type": "markdown",
      "metadata": {},
      "source": [
        "## 2) Anatomía de una función (muy básico)\n",
        "\n",
        "- Estructura: `def nombre(parámetros):` + bloque indentado + `return` opcional.\n",
        "- Convenciones: `snake_case`, responsabilidad única, nombres expresivos.\n",
        "- Veremos ejemplos con impresiones etiquetadas (Entrada:/Salida:) y comentarios en línea.\n"
      ]
    },
    {
      "cell_type": "code",
      "execution_count": null,
      "metadata": {},
      "outputs": [],
      "source": [
        "# Ejemplo mínimo, con comentarios claros\n",
        "\n",
        "def saluda(nombre: str) -> str:\n",
        "    # Regresa un saludo (return). No imprime por sí misma.\n",
        "    # Tipos (hints) ayudan a humanos/herramientas; Python no los impone en runtime.\n",
        "    return f\"Hola, {nombre}\"\n",
        "\n",
        "entrada = \"Ana\"\n",
        "salida = saluda(entrada)\n",
        "print(\"Entrada:\", entrada)\n",
        "print(\"Salida:\", salida)\n",
        "\n"
      ]
    },
    {
      "cell_type": "markdown",
      "metadata": {},
      "source": [
        "## 3) Docstrings (PEP 257) y `help`\n",
        "\n",
        "- La docstring va justo bajo `def`, entre triple comillas.\n",
        "- Primera línea: resumen en imperativo. Luego línea en blanco y secciones (Args, Returns, Raises).\n",
        "- `help(func)` muestra firma + docstring. Úsalo para explorar y validar documentación.\n"
      ]
    },
    {
      "cell_type": "code",
      "execution_count": null,
      "metadata": {},
      "outputs": [],
      "source": [
        "def dividir(a: float, b: float) -> float:\n",
        "    \"\"\"Divide `a` entre `b`.\n",
        "\n",
        "    Calcula el cociente y explica posibles errores.\n",
        "\n",
        "    Args:\n",
        "        a: dividendo.\n",
        "        b: divisor (debe ser distinto de 0).\n",
        "    Returns:\n",
        "        Cociente como número de punto flotante.\n",
        "    Raises:\n",
        "        ZeroDivisionError: si `b` es 0.\n",
        "    \"\"\"\n",
        "    return a / b\n",
        "\n",
        "# help imprime la firma y la docstring formateada\n",
        "help(dividir)\n",
        "\n"
      ]
    },
    {
      "cell_type": "markdown",
      "metadata": {},
      "source": [
        "## 4) Parámetros y llamadas (flujo natural)\n",
        "\n",
        "En Python puedes llamar funciones pasando argumentos por posición o por nombre (keywords). Usar keywords mejora la legibilidad y evita confusiones con el orden.\n"
      ]
    },
    {
      "cell_type": "code",
      "execution_count": null,
      "metadata": {},
      "outputs": [],
      "source": [
        "def area(base: float, altura: float = 1.0) -> float:\n",
        "    # base y altura son posicionales por defecto; también puedes pasarlos por nombre\n",
        "    return base * altura\n",
        "\n",
        "print(\"posicionales:\", area(2, 3))\n",
        "print(\"por nombre:\", area(base=5))\n",
        "print(\"mixto (claro):\", area(altura=2.5, base=4))\n",
        "\n"
      ]
    },
    {
      "cell_type": "markdown",
      "metadata": {},
      "source": [
        "### Keyword‑only y Positional‑only\n",
        "\n",
        "- Positional‑only (`/`): obliga a pasar esos parámetros por posición (no por nombre).\n",
        "- Keyword‑only (`*`): obliga a pasar estos parámetros por nombre (mejor legibilidad y evolución del API).\n"
      ]
    },
    {
      "cell_type": "code",
      "execution_count": null,
      "metadata": {},
      "outputs": [],
      "source": [
        "def escala(x, /, factor, *, redondear=False):\n",
        "    # x es solo posicional; redondear es keyword-only\n",
        "    valor = x * factor\n",
        "    return round(valor) if redondear else valor\n",
        "\n",
        "print(\"posicional-only + keyword-only:\", escala(2, 2, redondear=True))\n",
        "\n"
      ]
    },
    {
      "cell_type": "markdown",
      "metadata": {},
      "source": [
        "## 5) Valores por defecto (evaluación y buenas prácticas)\n",
        "\n",
        "- Los defaults se evalúan en el momento de definir la función, no en cada llamada.\n",
        "- Evita mutables como default (`[]`, `{}`); usa `None` y crea dentro.\n",
        "- Campos “dinámicos” (fechas/timestamps) deben evaluarse en cada llamada (no como default).\n"
      ]
    },
    {
      "cell_type": "code",
      "execution_count": null,
      "metadata": {},
      "outputs": [],
      "source": [
        "def agrega_malo(x, xs=[]):\n",
        "    # ANTIPATRÓN: esta lista se comparte entre llamadas\n",
        "    xs.append(x)\n",
        "    return xs\n",
        "\n",
        "print(\"malo #1:\", agrega_malo(1))\n",
        "print(\"malo #2:\", agrega_malo(2))\n",
        "\n",
        "\n",
        "def agrega_bien(x, xs=None):\n",
        "    # PATRÓN CORRECTO: crea lista por llamada\n",
        "    if xs is None:\n",
        "        xs = []\n",
        "    xs.append(x)\n",
        "    return xs\n",
        "\n",
        "print(\"bien #1:\", agrega_bien(1))\n",
        "print(\"bien #2:\", agrega_bien(2))\n",
        "\n"
      ]
    },
    {
      "cell_type": "markdown",
      "metadata": {},
      "source": [
        "## 6) Type hints (qué hacen y qué no)\n",
        "\n",
        "- Sirven para documentación y análisis estático (mypy/pyright). No fuerzan tipos en runtime.\n",
        "- Los errores en runtime aparecen cuando operas con tipos incompatibles (no por el hint en sí).\n"
      ]
    },
    {
      "cell_type": "code",
      "execution_count": null,
      "metadata": {},
      "outputs": [],
      "source": [
        "def duplica(x: int) -> int:\n",
        "    # Hint indica intención: int → int\n",
        "    return x * 2\n",
        "\n",
        "print(\"ok:\", duplica(3))\n",
        "# print(duplica(\"3\"))  # Esto lanzaría TypeError por la operación, no por el hint\n",
        "\n"
      ]
    },
    {
      "cell_type": "markdown",
      "metadata": {},
      "source": [
        "## 7) Ayudas prácticas de lectura y prueba\n",
        "\n",
        "- `assert` para checks rápidos durante el desarrollo.\n",
        "- `str` vs `repr` en impresiones: `repr` muestra escapes y es más fiel para depurar.\n",
        "- Prints con etiquetas y f‑strings para que la salida sea autoexplicativa.\n"
      ]
    },
    {
      "cell_type": "code",
      "execution_count": null,
      "metadata": {},
      "outputs": [],
      "source": [
        "texto = \"hola\\npy\"\n",
        "print(\"str:\", texto)\n",
        "print(\"repr:\", repr(texto))\n",
        "\n",
        "# assert (descomenta para probar en desarrollo)\n",
        "# assert duplica(2) == 4, \"duplica debe regresar el doble\"\n",
        "\n"
      ]
    },
    {
      "cell_type": "markdown",
      "metadata": {},
      "source": [
        "## 8) Resumen y enlaces\n",
        "\n",
        "- Definiste funciones y entendiste `return` vs `print`.\n",
        "- Escribiste docstrings (PEP 257) y usaste `help`.\n",
        "- Llamaste funciones por posición y por nombre; conociste keyword‑only/positional‑only.\n",
        "- Entendiste defaults correctos y el porqué de `None` para mutables.\n",
        "- Viste qué aportan los type hints y qué no.\n",
        "\n",
        "Enlaces:\n",
        "- PEP 257 (Docstring Conventions)\n",
        "- Python Tutorial — Defining Functions\n",
        "- Typing — Official docs\n",
        "- mypy / pyright (análisis estático)\n"
      ]
    }
  ],
  "metadata": {
    "language_info": {
      "name": "python"
    }
  },
  "nbformat": 4,
  "nbformat_minor": 2
}
