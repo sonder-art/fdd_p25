{
  "cells": [
    {
      "cell_type": "markdown",
      "metadata": {},
      "source": [
        "[![Open in Colab](https://colab.research.google.com/assets/colab-badge.svg)](https://colab.research.google.com/github/sonder-art/fdd_p25/blob/main/professor/intro_python_interactivo/notebooks/06_Comprehensions_Map_Filter.ipynb)\n"
      ]
    },
    {
      "cell_type": "markdown",
      "metadata": {},
      "source": [
        "# Comprehensions, map y filter (con impresiones claras)\n",
        "\n",
        "Nota sobre `print`: por defecto usa `str(obj)`. Para ver la representación detallada, usa `repr(obj)` o `f\"{obj!r}\"`.\n"
      ]
    },
    {
      "cell_type": "markdown",
      "metadata": {},
      "source": [
        "# Comprehensions, map y filter\n",
        "\n",
        "- List comprehensions: básicas, con filtro, anidadas\n",
        "- map: aplicar función a 1 o más iterables\n",
        "- filter: quedarte con elementos que cumplen un predicado\n",
        "- Comparaciones y buenas prácticas\n",
        "\n",
        "Ejercicios interactivos y pequeños benchmarks.\n"
      ]
    },
    {
      "cell_type": "markdown",
      "metadata": {},
      "source": [
        "## List comprehensions (repaso y práctica)\n",
        "\n",
        "- Básica: `[f(x) for x in xs]`\n",
        "- Con filtro: `[x for x in xs if cond]`\n",
        "- Anidadas: `[(x,y) for x in X for y in Y]`\n"
      ]
    },
    {
      "cell_type": "code",
      "execution_count": null,
      "metadata": {},
      "outputs": [],
      "source": [
        "xs = [1,2,3,4]\n",
        "dobles = [x*2 for x in xs]\n",
        "pares = [x for x in xs if x%2==0]\n",
        "print(dobles, pares)\n",
        "\n"
      ]
    },
    {
      "cell_type": "markdown",
      "metadata": {},
      "source": [
        "## `map` a fondo\n",
        "\n",
        "- `map(f, xs)` aplica `f` a cada elemento y devuelve un iterador.\n",
        "- Con 2 iterables: `map(lambda x,y: x+y, xs, ys)`.\n",
        "- Equivalente común: `list(map(f, xs))` ≈ `[f(x) for x in xs]`.\n"
      ]
    },
    {
      "cell_type": "code",
      "execution_count": null,
      "metadata": {},
      "outputs": [],
      "source": [
        "# uno y dos iterables\n",
        "xs = [\"  hola  \", \" python \"]\n",
        "print(list(map(str.strip, xs)))\n",
        "\n",
        "A = [1,2,3]\n",
        "B = [10,20,30]\n",
        "print(list(map(lambda x,y: x+y, A, B)))\n",
        "\n"
      ]
    },
    {
      "cell_type": "markdown",
      "metadata": {},
      "source": [
        "## `filter` a fondo\n",
        "\n",
        "- `filter(pred, xs)` mantiene elementos donde `pred(x)` es verdadero.\n",
        "- Equivalente: `list(filter(pred, xs))` ≈ `[x for x in xs if pred(x)]`.\n"
      ]
    },
    {
      "cell_type": "code",
      "execution_count": null,
      "metadata": {},
      "outputs": [],
      "source": [
        "xs = [0,1,2,3,4,5]\n",
        "pares = list(filter(lambda x: x%2==0, xs))\n",
        "print(pares)\n",
        "\n"
      ]
    },
    {
      "cell_type": "markdown",
      "metadata": {},
      "source": [
        "## Pequeño benchmark (opcional)\n",
        "\n",
        "Compara comprehension vs map vs generator expression.\n"
      ]
    },
    {
      "cell_type": "code",
      "execution_count": null,
      "metadata": {},
      "outputs": [],
      "source": [
        "import timeit\n",
        "from statistics import mean\n",
        "\n",
        "xs = list(range(50_000))\n",
        "comp = timeit.repeat(lambda: [x*2 for x in xs], number=1, repeat=5)\n",
        "map_ = timeit.repeat(lambda: list(map(lambda x:x*2, xs)), number=1, repeat=5)\n",
        "gen = timeit.repeat(lambda: sum(x*2 for x in xs), number=1, repeat=5)\n",
        "print(\"comp:\", f\"{mean(comp)*1000:.2f} ms\", \"map:\", f\"{mean(map_)*1000:.2f} ms\", \"gen/sum:\", f\"{mean(gen)*1000:.2f} ms\")\n",
        "\n"
      ]
    },
    {
      "cell_type": "markdown",
      "metadata": {},
      "source": [
        "## Dict/Set comprehensions y condicional en expresión\n",
        "\n",
        "- Dict: `{k: v for x in ...}`\n",
        "- Set: `{x for x in ...}`\n",
        "- Condicional expresión: `x if cond else y` (útil dentro de comprehensions).\n"
      ]
    },
    {
      "cell_type": "code",
      "execution_count": null,
      "metadata": {},
      "outputs": [],
      "source": [
        "xs = [\"Ana\", \"luis\", \"Zoe\"]\n",
        "name_len = {s: len(s) for s in xs}\n",
        "print(name_len)\n",
        "\n",
        "# set comp\n",
        "nums = [1,1,2,3,3]\n",
        "cuadrados_unicos = {x*x for x in nums}\n",
        "print(cuadrados_unicos)\n",
        "\n",
        "# condicional expresión en comp\n",
        "clasificacion = [\"par\" if x%2==0 else \"impar\" for x in range(5)]\n",
        "print(clasificacion)\n",
        "\n"
      ]
    },
    {
      "cell_type": "code",
      "execution_count": null,
      "metadata": {},
      "outputs": [],
      "source": [
        "# print con str (por defecto) vs repr\n",
        "xs = [1, 2, 3]\n",
        "print(\"str(xs):\", xs)           # lista usa su representación legible\n",
        "print(\"repr(xs):\", repr(xs))   # explícito (similar aquí)\n",
        "\n",
        "texto = \"hola\\npy\"\n",
        "print(\"str(texto):\", texto)\n",
        "print(\"repr(texto):\", repr(texto))\n",
        "print(f\"f-string con !r: {texto!r}\")\n",
        "\n"
      ]
    },
    {
      "cell_type": "markdown",
      "metadata": {},
      "source": [
        "## Pitfalls comunes\n",
        "\n",
        "- `map`/`filter` son iteradores de un solo uso: si los consumes con `list`, debes recrearlos para usarlos de nuevo.\n",
        "- Evita lógicas demasiado complejas dentro de una sola comprensión; usa `for` normales si pierde legibilidad.\n",
        "- `zip`/`map` con longitudes distintas: se detienen en el más corto.\n"
      ]
    }
  ],
  "metadata": {
    "language_info": {
      "name": "python"
    }
  },
  "nbformat": 4,
  "nbformat_minor": 2
}
