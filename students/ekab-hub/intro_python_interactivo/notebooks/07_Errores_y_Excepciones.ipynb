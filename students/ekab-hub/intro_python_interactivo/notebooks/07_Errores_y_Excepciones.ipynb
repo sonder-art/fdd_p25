{
  "cells": [
    {
      "cell_type": "markdown",
      "metadata": {},
      "source": [
        "[![Open in Colab](https://colab.research.google.com/assets/colab-badge.svg)](https://colab.research.google.com/github/sonder-art/fdd_p25/blob/main/professor/intro_python_interactivo/notebooks/07_Errores_y_Excepciones.ipynb)\n"
      ]
    },
    {
      "cell_type": "markdown",
      "metadata": {},
      "source": [
        "# Errores y Excepciones\n",
        "\n",
        "- Leer Tracebacks\n",
        "- `try`/`except`/`else`/`finally`\n",
        "- `as e` para inspeccionar mensajes\n",
        "- Enlaces: Built-in Exceptions y tutorial oficial\n",
        "\n",
        "Ejercicios de manejo seguro de errores.\n"
      ]
    },
    {
      "cell_type": "markdown",
      "metadata": {},
      "source": [
        "## Leer Tracebacks\n",
        "\n",
        "Mira la última línea para el tipo de error y el mensaje; usa el enlace a la línea en VS Code.\n"
      ]
    },
    {
      "cell_type": "code",
      "execution_count": null,
      "metadata": {},
      "outputs": [],
      "source": [
        "# ZeroDivisionError intencional\n",
        "print(10/0)  # observa el Traceback\n"
      ]
    },
    {
      "cell_type": "markdown",
      "metadata": {},
      "source": [
        "## try / except / else / finally\n",
        "\n",
        "Captura errores específicos, ejecuta `else` si no hubo error y `finally` siempre.\n"
      ]
    },
    {
      "cell_type": "code",
      "execution_count": null,
      "metadata": {},
      "outputs": [],
      "source": [
        "def divide_seguro(a, b):\n",
        "    try:\n",
        "        r = a / b\n",
        "    except ZeroDivisionError as e:\n",
        "        return f\"Error: {e}\"\n",
        "    else:\n",
        "        return r\n",
        "    finally:\n",
        "        pass\n",
        "\n",
        "print(divide_seguro(10,2))\n",
        "print(divide_seguro(10,0))\n",
        "\n"
      ]
    },
    {
      "cell_type": "markdown",
      "metadata": {},
      "source": [
        "## Lanzar (`raise`) y excepciones personalizadas\n",
        "\n",
        "Puedes crear tus propias excepciones para señalar condiciones específicas.\n"
      ]
    },
    {
      "cell_type": "code",
      "execution_count": null,
      "metadata": {},
      "outputs": [],
      "source": [
        "class DatoInvalidoError(ValueError):\n",
        "    pass\n",
        "\n",
        "def procesa(x):\n",
        "    if x < 0:\n",
        "        raise DatoInvalidoError(\"x no puede ser negativo\")\n",
        "    return x*2\n",
        "\n",
        "try:\n",
        "    procesa(-5)\n",
        "except DatoInvalidoError as e:\n",
        "    print(\"Capturado:\", e)\n",
        "\n"
      ]
    },
    {
      "cell_type": "markdown",
      "metadata": {},
      "source": [
        "## Taxonomía y orden de except\n",
        "\n",
        "- Captura primero las excepciones más específicas, luego las generales.\n",
        "- Muchas excepciones heredan de `Exception`.\n",
        "- Documentación: Built-in Exceptions (docs oficiales).\n"
      ]
    },
    {
      "cell_type": "code",
      "execution_count": null,
      "metadata": {},
      "outputs": [],
      "source": [
        "def safe_int(x):\n",
        "    try:\n",
        "        return int(x)\n",
        "    except ValueError as e:  # más específico primero\n",
        "        return f\"No es número: {e}\"\n",
        "    except Exception as e:   # general al final\n",
        "        return f\"Error general: {e}\"\n",
        "\n",
        "print(safe_int(\"10\"))\n",
        "print(safe_int(\"x\"))\n",
        "\n"
      ]
    },
    {
      "cell_type": "markdown",
      "metadata": {},
      "source": [
        "## `raise from` y contexto\n",
        "\n",
        "Permite encadenar excepciones preservando el contexto original para depurar mejor.\n"
      ]
    },
    {
      "cell_type": "code",
      "execution_count": null,
      "metadata": {},
      "outputs": [],
      "source": [
        "def parsear_numero(s):\n",
        "    try:\n",
        "        return int(s)\n",
        "    except ValueError as e:\n",
        "        raise DatoInvalidoError(\"entrada inválida\") from e\n",
        "\n",
        "try:\n",
        "    parsear_numero(\"abc\")\n",
        "except DatoInvalidoError as e:\n",
        "    import traceback\n",
        "    traceback.print_exc()\n",
        "\n"
      ]
    },
    {
      "cell_type": "markdown",
      "metadata": {},
      "source": [
        "## with y manejo de recursos\n",
        "\n",
        "`with` garantiza limpieza (cierre de archivos, etc.) aún si hay errores.\n"
      ]
    },
    {
      "cell_type": "code",
      "execution_count": null,
      "metadata": {},
      "outputs": [],
      "source": [
        "from pathlib import Path\n",
        "p = Path(\"temp_demo.txt\")\n",
        "\n",
        "with p.open(\"w\") as f:\n",
        "    f.write(\"hola\\n\")\n",
        "\n",
        "print(\"escribe y cierra automáticamente:\", p.exists())\n",
        "\n"
      ]
    },
    {
      "cell_type": "markdown",
      "metadata": {},
      "source": [
        "## Cómo imprimir errores: `str(e)` vs `repr(e)`\n",
        "\n",
        "- `str(e)`: mensaje legible.\n",
        "- `repr(e)`: incluye el tipo y detalles útiles para depuración.\n",
        "- f-strings: `f\"{e!r}\"` es similar a `repr(e)`.\n"
      ]
    },
    {
      "cell_type": "code",
      "execution_count": null,
      "metadata": {},
      "outputs": [],
      "source": [
        "try:\n",
        "    int(\"xyz\")\n",
        "except Exception as e:\n",
        "    print(\"str(e):\", str(e))\n",
        "    print(\"repr(e):\", repr(e))\n",
        "    print(f\"con !r: {e!r}\")\n",
        "\n"
      ]
    }
  ],
  "metadata": {
    "language_info": {
      "name": "python"
    }
  },
  "nbformat": 4,
  "nbformat_minor": 2
}
