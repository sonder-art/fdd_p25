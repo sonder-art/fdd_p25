{
  "cells": [
    {
      "cell_type": "markdown",
      "metadata": {},
      "source": [
        "[![Open in Colab](https://colab.research.google.com/assets/colab-badge.svg)](https://colab.research.google.com/github/sonder-art/fdd_p25/blob/main/professor/intro_python_interactivo/notebooks/03_Colecciones_y_Slicing.ipynb)\n"
      ]
    },
    {
      "cell_type": "markdown",
      "metadata": {},
      "source": [
        "# Colecciones y Slicing (con salidas claras)\n",
        "\n",
        "Veremos listas, tuplas, sets y dicts con impresiones etiquetadas y comentarios para entender cada operación.\n"
      ]
    },
    {
      "cell_type": "markdown",
      "metadata": {},
      "source": [
        "## Objetivos y mapa de este cuaderno\n",
        "\n",
        "Al terminar podrás:\n",
        "- Reconocer y crear listas, tuplas, sets y dicts.\n",
        "- Indexar y hacer slicing (incl. negativos y paso).\n",
        "- Usar métodos esenciales de listas y entender efectos in‑place vs copia.\n",
        "- Diferenciar aliasing vs copias (shallow vs deep).\n",
        "- Iterar con `enumerate` y `zip`.\n",
        "- Evitar trampas comunes (list*n, asignación por slicing).\n",
        "\n",
        "Mapa de ruta (lee y ejecuta en orden):\n",
        "1) Secuencias e indexación\n",
        "2) Slicing detallado\n",
        "3) Métodos de lista\n",
        "4) Referencias, aliasing y copias\n",
        "5) Iteración útil\n",
        "6) Tuplas vs listas\n",
        "7) Trampas comunes\n",
        "8) Extras: unicidad y ordenaciones\n"
      ]
    },
    {
      "cell_type": "markdown",
      "metadata": {},
      "source": [
        "## Secuencias e indexación (listas/tuplas/strings)\n",
        "\n",
        "- Las secuencias tienen orden y longitud (`len(seq)`).\n",
        "- Indexación: `seq[i]` (0‑based). Índices negativos cuentan desde el final (`-1` último).\n",
        "- Pertenencia: `x in seq`.\n",
        "\n",
        "Ejecuta la celda siguiente y cambia los índices para explorar.\n"
      ]
    },
    {
      "cell_type": "code",
      "execution_count": null,
      "metadata": {},
      "outputs": [],
      "source": [
        "xs = [10, 20, 30, 40, 50]\n",
        "print(\"xs:\", xs)\n",
        "print(\"xs[0] →\", xs[0])      # primero\n",
        "print(\"xs[-1] →\", xs[-1])    # último\n",
        "print(\"20 in xs →\", 20 in xs)\n",
        "\n",
        "s = \"python\"\n",
        "print(\"s[1] →\", s[1])\n",
        "print(\"s[-2] →\", s[-2])\n",
        "\n",
        "t = (1, 2, 3)\n",
        "print(\"len(t) →\", len(t))\n"
      ]
    },
    {
      "cell_type": "markdown",
      "metadata": {},
      "source": [
        "## Slicing detallado: start:stop:step\n",
        "\n",
        "- `seq[start:stop]` toma desde `start` (incl.) hasta `stop` (excl.).\n",
        "- `seq[::step]` salta cada `step`; `step` negativo recorre hacia atrás.\n",
        "- Índices negativos funcionan igual en slicing.\n",
        "\n",
        "Practica con los ejemplos y modifica parámetros.\n"
      ]
    },
    {
      "cell_type": "code",
      "execution_count": null,
      "metadata": {},
      "outputs": [],
      "source": [
        "seq = [0,1,2,3,4,5,6]\n",
        "print(\"seq[1:5] →\", seq[1:5])      # [1,2,3,4]\n",
        "print(\"seq[::2] →\", seq[::2])      # [0,2,4,6]\n",
        "print(\"seq[::-1] →\", seq[::-1])    # invertido\n",
        "print(\"seq[-4:-1] →\", seq[-4:-1])  # [3,4,5]\n",
        "print(\"seq[5:1:-1] →\", seq[5:1:-1])\n"
      ]
    },
    {
      "cell_type": "markdown",
      "metadata": {},
      "source": [
        "## Métodos esenciales de `list`\n",
        "\n",
        "- Agregar: `append(x)`, `extend(iterable)`, `insert(i, x)`.\n",
        "- Quitar: `remove(x)`, `pop(i)`, `clear()`.\n",
        "- Buscar: `index(x)`, `count(x)`.\n",
        "- Ordenar: `list.sort()` (in‑place), `sorted(iterable)` (copia). `reverse()` invierte in‑place.\n",
        "\n",
        "Ejecuta la celda para ver efectos y diferencias (in‑place vs copia).\n"
      ]
    },
    {
      "cell_type": "code",
      "execution_count": null,
      "metadata": {},
      "outputs": [],
      "source": [
        "xs = [3, 1, 2]\n",
        "print(\"inicio:\", xs)\n",
        "xs.append(4)\n",
        "print(\"append(4):\", xs)\n",
        "xs.extend([5,6])\n",
        "print(\"extend([5,6]):\", xs)\n",
        "xs.insert(1, 99)\n",
        "print(\"insert(1,99):\", xs)\n",
        "\n",
        "xs.remove(99)\n",
        "print(\"remove(99):\", xs)\n",
        "valor = xs.pop(0)\n",
        "print(\"pop(0) → valor=\", valor, \"; xs=\", xs)\n",
        "\n",
        "print(\"count(3):\", xs.count(3))\n",
        "print(\"index(3):\", xs.index(3))\n",
        "\n",
        "copia_ordenada = sorted(xs)\n",
        "print(\"sorted(xs):\", copia_ordenada, \"; xs intacta:\", xs)\n",
        "xs.sort()\n",
        "print(\"xs.sort():\", xs)\n",
        "xs.reverse()\n",
        "print(\"xs.reverse():\", xs)\n"
      ]
    },
    {
      "cell_type": "markdown",
      "metadata": {},
      "source": [
        "## Referencias y aliasing (mutabilidad importa)\n",
        "\n",
        "- `b = a` no copia; `a` y `b` apuntan a la misma lista.\n",
        "- Mutar a través de cualquiera afecta a ambas referencias.\n",
        "- Para copiar, usa `a.copy()`, `list(a)` o slicing `a[:]` (shallow copy).\n"
      ]
    },
    {
      "cell_type": "code",
      "execution_count": null,
      "metadata": {},
      "outputs": [],
      "source": [
        "a = [1, 2, 3]\n",
        "b = a          # alias\n",
        "c = a[:]       # copia superficial\n",
        "\n",
        "a.append(4)\n",
        "print(\"a:\", a)\n",
        "print(\"b (alias):\", b)   # también cambió\n",
        "print(\"c (copia):\", c)    # no cambió\n"
      ]
    },
    {
      "cell_type": "markdown",
      "metadata": {},
      "source": [
        "## Copias: superficial vs profunda\n",
        "\n",
        "- Superficial (shallow): `a.copy()`, `list(a)`, `a[:]` copian solo el contenedor, no los elementos.\n",
        "- Profunda (deep): `copy.deepcopy(a)` copia recursivamente elementos anidados.\n",
        "\n",
        "Ejecuta y observa diferencias al mutar elementos anidados.\n"
      ]
    },
    {
      "cell_type": "code",
      "execution_count": null,
      "metadata": {},
      "outputs": [],
      "source": [
        "import copy\n",
        "base = [1, [2, 3]]\n",
        "sh = base[:]              # shallow\n",
        "dp = copy.deepcopy(base)  # deep\n",
        "\n",
        "base[1].append(4)\n",
        "print(\"base:\", base)\n",
        "print(\"sh (shallow):\", sh)   # comparte sublista → también cambió\n",
        "print(\"dp (deep):\", dp)      # independiente\n"
      ]
    },
    {
      "cell_type": "markdown",
      "metadata": {},
      "source": [
        "## Iteración útil sobre listas\n",
        "\n",
        "- `for` recorre elementos directamente.\n",
        "- `range(n)` para índices; `enumerate(seq, start=0)` da `(i, valor)`.\n",
        "- `zip(a, b, ...)` combina por posición (corta en la secuencia más corta).\n"
      ]
    },
    {
      "cell_type": "code",
      "execution_count": null,
      "metadata": {},
      "outputs": [],
      "source": [
        "xs = [10, 20, 30]\n",
        "for i, v in enumerate(xs, start=1):\n",
        "    print(i, v)\n",
        "\n",
        "nombres = [\"Ana\", \"Luis\", \"Zoe\"]\n",
        "edades = [20, 21]\n",
        "for nombre, edad in zip(nombres, edades):\n",
        "    print(f\"{nombre} → {edad}\")\n"
      ]
    },
    {
      "cell_type": "markdown",
      "metadata": {},
      "source": [
        "## Tuplas vs listas: ¿cuándo usar cada una?\n",
        "\n",
        "- Listas: mutables (cambian tamaño/contenido). Buenas para colecciones que evolucionan.\n",
        "- Tuplas: inmutables (no cambian). Útiles para registros fijos y claves de dict.\n",
        "- Desempaquetado (unpacking) funciona en ambas.\n",
        "\n",
        "Practica con los ejemplos para ver diferencias.\n"
      ]
    },
    {
      "cell_type": "code",
      "execution_count": null,
      "metadata": {},
      "outputs": [],
      "source": [
        "L = [1, 2, 3]\n",
        "T = (1, 2, 3)\n",
        "\n",
        "# mutación en list\n",
        "L.append(4)\n",
        "print(\"L mutada:\", L)\n",
        "\n",
        "# T[0] = 99  # ← descomenta para ver TypeError (tuplas no se mutan)\n",
        "\n",
        "# unpacking\n",
        "a, b, c = T\n",
        "print(\"unpacking T →\", a, b, c)\n"
      ]
    },
    {
      "cell_type": "markdown",
      "metadata": {},
      "source": [
        "## Trampas comunes\n",
        "\n",
        "- `list * n` duplica referencias de sublistas: `[[]] * 3` crea la MISMA sublista repetida.\n",
        "- Asignación por slicing muta in‑place: `xs[1:3] = [99, 100]` cambia un tramo.\n",
        "- Evita mutar una lista mientras la recorres; crea una copia si es necesario.\n"
      ]
    },
    {
      "cell_type": "code",
      "execution_count": null,
      "metadata": {},
      "outputs": [],
      "source": [
        "# list * n\n",
        "rows = [[]] * 3\n",
        "rows[0].append(1)\n",
        "print(\"rows:\", rows)   # todas cambian → misma sublista\n",
        "\n",
        "# slicing assignment\n",
        "xs = [0,1,2,3,4]\n",
        "xs[1:3] = [99, 100]\n",
        "print(\"xs tras slicing assignment:\", xs)\n"
      ]
    },
    {
      "cell_type": "markdown",
      "metadata": {},
      "source": [
        "## Extras: unicidad y ordenaciones\n",
        "\n",
        "- Unicidad con `set`: elimina duplicados rápidamente → luego convierte a `list` si necesitas orden.\n",
        "- `sorted(iterable, key=..., reverse=...)` ordena sin mutar.\n",
        "- `list.sort(key=..., reverse=...)` ordena in‑place.\n"
      ]
    },
    {
      "cell_type": "markdown",
      "metadata": {},
      "source": [
        "## Conjuntos (`set`): operaciones y métodos\n",
        "\n",
        "- Creación: `set(iterable)` o `{1,2,3}` (sin duplicados, sin orden).\n",
        "- Operaciones: unión `|`, intersección `&`, diferencia `-`, diferencia simétrica `^`.\n",
        "- Métodos: `add`, `update`, `discard` (no falla si no existe), `remove` (lanza error si no existe).\n",
        "\n",
        "Tu turno:\n",
        "- Crea `A={1,2,3}` y `B={3,4}` y prueba `|, &, -, ^`.\n",
        "- Agrega `5` a `A` con `add` y agrega varios con `update([6,7])`.\n"
      ]
    },
    {
      "cell_type": "code",
      "execution_count": null,
      "metadata": {},
      "outputs": [],
      "source": [
        "A = {1,2,3}\n",
        "B = {3,4}\n",
        "print(\"A|B:\", A|B)\n",
        "print(\"A&B:\", A&B)\n",
        "print(\"A-B:\", A-B)\n",
        "print(\"A^B:\", A^B)\n",
        "\n",
        "A.add(5)\n",
        "A.update([6,7])\n",
        "print(\"A tras add/update:\", A)\n"
      ]
    },
    {
      "cell_type": "markdown",
      "metadata": {},
      "source": [
        "## Diccionarios (`dict`): claves y métodos\n",
        "\n",
        "- Creación: `{\"k\": 1, \"z\": 2}` o `dict(k=1, z=2)`.\n",
        "- Acceso: `d[\"k\"]` (lanza error si no existe) vs `d.get(\"k\", default)`.\n",
        "- Métodos: `keys()`, `values()`, `items()`, `update(...)`, `pop(key, default)`.\n",
        "\n",
        "Tu turno:\n",
        "- Crea `D` y obtén valores con `get` y por índice.\n",
        "- Itera sobre `items()` para imprimir `k → v`.\n"
      ]
    },
    {
      "cell_type": "code",
      "execution_count": null,
      "metadata": {},
      "outputs": [],
      "source": [
        "D = {\"k\":1, \"z\":2}\n",
        "print(\"D['k']:\", D[\"k\"])            # acceso directo\n",
        "print(\"D.get('missing','N/A'):\", D.get(\"missing\", \"N/A\"))\n",
        "\n",
        "D.update({\"a\": 10})\n",
        "print(\"keys:\", list(D.keys()))\n",
        "for k, v in D.items():\n",
        "    print(f\"{k} → {v}\")\n",
        "\n",
        "v = D.pop(\"z\", None)\n",
        "print(\"pop('z') →\", v, \"; D:\", D)\n"
      ]
    },
    {
      "cell_type": "markdown",
      "metadata": {},
      "source": [
        "## Asignación por slicing (insertar/eliminar tramos)\n",
        "\n",
        "- Reemplazo: `xs[i:j] = [nuevo, contenido]` cambia ese tramo.\n",
        "- Inserción: `xs[i:i] = [valores]` inserta sin reemplazar.\n",
        "- Eliminación: `del xs[i:j]` o asignar una lista vacía `xs[i:j] = []`.\n",
        "\n",
        "Tu turno:\n",
        "- Inserta `[9,9]` al inicio, elimina el penúltimo tramo, reemplaza los del medio.\n"
      ]
    },
    {
      "cell_type": "code",
      "execution_count": null,
      "metadata": {},
      "outputs": [],
      "source": [
        "xs = [0,1,2,3,4]\n",
        "print(\"inicio:\", xs)\n",
        "xs[2:4] = [99, 100]\n",
        "print(\"reemplazo 2:4 →\", xs)\n",
        "xs[1:1] = [9, 9]\n",
        "print(\"inserción en 1 →\", xs)\n",
        "del xs[-3:-1]\n",
        "print(\"eliminar penúltimo tramo →\", xs)\n"
      ]
    },
    {
      "cell_type": "markdown",
      "metadata": {},
      "source": [
        "## Tu turno (mini‑ejercicios)\n",
        "\n",
        "- Secuencias: crea una lista de 5 elementos y obtén el 2º, el último y los tres centrales con slicing.\n",
        "- Métodos de lista: parte de `[3,1,2]`, inserta `0` al inicio, ordena ascendente sin mutar, luego desciende in‑place.\n",
        "- Referencias/copias: demuestra con impresiones que `b=a` aliasa y que `a[:]` no.\n",
        "- Asignación por slicing: inserta `[100,101]` entre el 2º y 3º elemento.\n",
        "- Sets/dicts: a) quita duplicados de `['a','A','a']` ignorando mayúsculas; b) recorre `D.items()` e imprime `k → v`.\n",
        "\n",
        "Marca como completado cuando pase todo.\n"
      ]
    },
    {
      "cell_type": "code",
      "execution_count": null,
      "metadata": {},
      "outputs": [],
      "source": [
        "xs = [\"Ana\", \"luis\", \"Zoe\", \"ana\", \"Luis\", \"Ana\"]\n",
        "unicos = list(set(xs))\n",
        "print(\"unicos (sin orden):\", unicos)\n",
        "\n",
        "print(\"sorted por nombre:\", sorted(xs))\n",
        "print(\"sorted casefold:\", sorted(xs, key=str.casefold))\n",
        "\n",
        "xs.sort(key=len, reverse=True)\n",
        "print(\"sort in-place por longitud desc:\", xs)\n"
      ]
    },
    {
      "cell_type": "code",
      "execution_count": 6,
      "metadata": {},
      "outputs": [
        {
          "name": "stdout",
          "output_type": "stream",
          "text": [
            "nums: [0, 1, 2, 3, 4, 5, 6]\n",
            "slice 1:5 (1..4): [1, 2, 3, 4]\n",
            "pares (paso=2): [0, 2, 4, 6]\n",
            "invertido: [6, 5, 4, 3, 2, 1, 0]\n",
            "set (sin duplicados): {1, 2, 3}\n",
            "keys: ['k', 'z']\n",
            "get('missing','N/A'): N/A\n"
          ]
        }
      ],
      "source": [
        "nums = [0,1,2,3,4,5,6]\n",
        "print(\"nums:\", nums)\n",
        "print(\"slice 1:5 (1..4):\", nums[1:5])\n",
        "print(\"pares (paso=2):\", nums[::2])\n",
        "print(\"invertido:\", nums[::-1])\n",
        "\n",
        "s = {1,2,2,3}\n",
        "print(\"set (sin duplicados):\", s)\n",
        "\n",
        "info = {\"k\":1, \"z\":2}\n",
        "print(\"keys:\", list(info.keys()))\n",
        "print(\"get('missing','N/A'):\", info.get(\"missing\", \"N/A\"))\n",
        "\n"
      ]
    },
    {
      "cell_type": "markdown",
      "metadata": {},
      "source": [
        "# Colecciones y Slicing\n",
        "\n",
        "- Listas (`list`), tuplas (`tuple`), conjuntos (`set`), diccionarios (`dict`).\n",
        "- Operaciones frecuentes: agregar, quitar, membership `in`.\n",
        "- Slicing `seq[inicio:fin:paso]` con pasos y negativos (invertir).\n",
        "\n",
        "Practica y prueba cambios.\n"
      ]
    },
    {
      "cell_type": "code",
      "execution_count": 7,
      "metadata": {},
      "outputs": [
        {
          "name": "stdout",
          "output_type": "stream",
          "text": [
            "slice 1:5 → [1, 2, 3, 4]\n",
            "pares con paso 2 → [0, 2, 4, 6]\n",
            "invertido → [6, 5, 4, 3, 2, 1, 0]\n",
            "set (sin duplicados) → {1, 2, 3}\n",
            "keys → ['k', 'z']\n",
            "get con default → N/A\n"
          ]
        }
      ],
      "source": [
        "nums = [0,1,2,3,4,5,6]\n",
        "print(\"slice 1:5 →\", nums[1:5])\n",
        "print(\"pares con paso 2 →\", nums[::2])\n",
        "print(\"invertido →\", nums[::-1])\n",
        "\n",
        "s = {1,2,2,3}\n",
        "print(\"set (sin duplicados) →\", s)\n",
        "\n",
        "info = {\"k\":1, \"z\":2}\n",
        "print(\"keys →\", list(info.keys()))\n",
        "print(\"get con default →\", info.get(\"missing\", \"N/A\"))\n",
        "\n"
      ]
    },
    {
      "cell_type": "markdown",
      "metadata": {},
      "source": [
        "## Slicing avanzado\n",
        "\n",
        "- `seq[inicio:fin:paso]` con `paso` negativo para invertir.\n",
        "- Índices negativos: `-1` último, `-2` penúltimo.\n",
        "\n",
        "Prueba los ejemplos y modifica valores.\n"
      ]
    },
    {
      "cell_type": "code",
      "execution_count": 8,
      "metadata": {},
      "outputs": [
        {
          "name": "stdout",
          "output_type": "stream",
          "text": [
            "[0, 2, 4, 6]\n",
            "[6, 5, 4, 3, 2, 1, 0]\n",
            "[3, 4, 5]\n",
            "[5, 4, 3, 2]\n"
          ]
        }
      ],
      "source": [
        "seq = [0,1,2,3,4,5,6]\n",
        "print(seq[::2])      # paso 2\n",
        "print(seq[::-1])     # invertido\n",
        "print(seq[-4:-1])    # desde -4 (incl) a -1 (excl)\n",
        "print(seq[5:1:-1])   # hacia atrás\n",
        "\n"
      ]
    },
    {
      "cell_type": "markdown",
      "metadata": {},
      "source": [
        "## Operaciones con `set` y `dict`\n",
        "\n",
        "- `set`: unión `|`, intersección `&`, diferencia `-`.\n",
        "- `dict`: acceso `d[\"k\"]`, `d.get(\"k\", default)`, `keys()`, `items()`.\n",
        "\n",
        "Ejercicios: prueba cada operación y observa resultados.\n"
      ]
    },
    {
      "cell_type": "code",
      "execution_count": 9,
      "metadata": {},
      "outputs": [
        {
          "name": "stdout",
          "output_type": "stream",
          "text": [
            "union: {1, 2, 3, 4}\n",
            "intersección: {3}\n",
            "diferencia A-B: {1, 2}\n",
            "items: [('k', 1), ('z', 2)]\n",
            "get inexistente: N/A\n"
          ]
        }
      ],
      "source": [
        "A = {1,2,3}\n",
        "B = {3,4}\n",
        "print(\"union:\", A | B)\n",
        "print(\"intersección:\", A & B)\n",
        "print(\"diferencia A-B:\", A - B)\n",
        "\n",
        "D = {\"k\":1, \"z\":2}\n",
        "print(\"items:\", list(D.items()))\n",
        "print(\"get inexistente:\", D.get(\"missing\", \"N/A\"))\n",
        "\n"
      ]
    },
    {
      "cell_type": "markdown",
      "metadata": {},
      "source": [
        "## Copias y alias (pitfall común)\n",
        "\n",
        "- `b = a` no copia: apunta a la misma lista.\n",
        "- Copias: `a.copy()`, `list(a)`, `a[:]` (shallow copy).\n",
        "- Anidados requieren copias profundas (`copy.deepcopy`).\n"
      ]
    },
    {
      "cell_type": "code",
      "execution_count": 10,
      "metadata": {},
      "outputs": [
        {
          "name": "stdout",
          "output_type": "stream",
          "text": [
            "a: [1, [2, 3, 4]]\n",
            "b (alias): [1, [2, 3, 4]]\n",
            "c (copia superficial): [1, [2, 3, 4]]\n",
            "d (deepcopy): [1, [2, 3, 4]]\n"
          ]
        }
      ],
      "source": [
        "a = [1, [2,3]]\n",
        "b = a              # alias\n",
        "c = a[:]           # copia superficial\n",
        "\n",
        "a[1].append(4)\n",
        "print(\"a:\", a)\n",
        "print(\"b (alias):\", b)\n",
        "print(\"c (copia superficial):\", c)  # también cambió el sublista\n",
        "\n",
        "import copy\n",
        "d = copy.deepcopy(a)\n",
        "a[1].append(5)\n",
        "print(\"d (deepcopy):\", d)           # estable\n",
        "\n"
      ]
    }
  ],
  "metadata": {
    "kernelspec": {
      "display_name": ".venv",
      "language": "python",
      "name": "python3"
    },
    "language_info": {
      "codemirror_mode": {
        "name": "ipython",
        "version": 3
      },
      "file_extension": ".py",
      "mimetype": "text/x-python",
      "name": "python",
      "nbconvert_exporter": "python",
      "pygments_lexer": "ipython3",
      "version": "3.10.12"
    }
  },
  "nbformat": 4,
  "nbformat_minor": 2
}
