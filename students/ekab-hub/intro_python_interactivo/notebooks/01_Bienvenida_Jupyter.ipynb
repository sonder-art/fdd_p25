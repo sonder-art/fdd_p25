{
  "cells": [
    {
      "cell_type": "markdown",
      "metadata": {},
      "source": [
        "[![Open in Colab](https://colab.research.google.com/assets/colab-badge.svg)](https://colab.research.google.com/github/sonder-art/fdd_p25/blob/main/professor/intro_python_interactivo/notebooks/01_Bienvenida_Jupyter.ipynb)\n"
      ]
    },
    {
      "cell_type": "markdown",
      "metadata": {},
      "source": [
        "# Bienvenida a Jupyter Notebook (para principiantes absolutos)\n",
        "\n",
        "Bienvenida/bienvenido. Aquí aprenderás a usar un notebook desde cero, sin asumir experiencia previa. Trabajaremos paso a paso, usando tanto el mouse como atajos de teclado, y entenderás qué es el \"kernel\" y cómo afecta a tus variables y resultados.\n",
        "\n",
        "## Objetivos de aprendizaje\n",
        "Al finalizar podrás:\n",
        "- Ejecutar celdas individuales y todo el notebook.\n",
        "- Crear, mover, duplicar, borrar y convertir celdas entre Código y Markdown.\n",
        "- Seleccionar, interrumpir y reiniciar el kernel correcto para tu proyecto.\n",
        "- Entender cómo las variables viven en memoria del kernel y por qué el orden de ejecución importa.\n",
        "- Guardar, limpiar salidas y exportar tu notebook.\n",
        "\n",
        "## Requisitos y contexto\n",
        "- Puedes usar VS Code Notebooks o JupyterLab. En este cuaderno mencionaré ambas interfaces.\n",
        "- Si estás en VS Code, verás arriba opciones como `Select Kernel`, `Run All` y `Export`. En JupyterLab, existen menús como `Run`, `Kernel` y `File`.\n",
        "- Nada de esto requiere conocimientos previos de Python para seguir los ejercicios básicos.\n",
        "\n",
        "## Cómo navegar este cuaderno\n",
        "- Verás celdas de Markdown (texto explicativo) y celdas de Código (Python ejecutable).\n",
        "- Cada sección te dirá cómo realizar acciones con el mouse y con atajos. Practica ambas formas.\n",
        "- Si algo no funciona, busca la sección de \"Solución de problemas\" al final.\n",
        "\n",
        "Sigue en orden. Cuando llegues a \"Ejecutar celdas\", encontrarás tu primera celda de código para correr.\n"
      ]
    },
    {
      "cell_type": "markdown",
      "metadata": {},
      "source": [
        "## ¿Qué es un Notebook? ¿Para qué sirve?\n",
        "\n",
        "Un notebook es un documento interactivo que mezcla texto (explicaciones, imágenes, fórmulas) con celdas de código que puedes ejecutar. Es ideal para:\n",
        "- Aprender y enseñar (clases, tutoriales, autoestudio).\n",
        "- Explorar datos y crear prototipos rápidamente.\n",
        "- Documentar experimentos y análisis de forma reproducible.\n",
        "- Preparar reportes con resultados y visualizaciones.\n",
        "\n",
        "Puedes usarlo en:\n",
        "- VS Code Notebooks: integrado al editor, con botones como `Run`, `Select Kernel`, `Export`.\n",
        "- JupyterLab: interfaz web con menús `Run`, `Kernel`, `File`, `Edit`.\n",
        "\n",
        "Sugerencia: si este es tu primer día, trabaja de arriba hacia abajo, sin saltarte secciones.\n"
      ]
    },
    {
      "cell_type": "markdown",
      "metadata": {},
      "source": [
        "## Abrir y confiar este notebook\n",
        "\n",
        "- En VS Code:\n",
        "  1) Abre la carpeta del proyecto.\n",
        "  2) Abre el archivo `.ipynb` en el editor.\n",
        "  3) Si aparece \"Trust\", acepta para habilitar la ejecución.\n",
        "  4) Busca la barra del notebook (arriba) con botones como `Run All`, `Select Kernel` y `Export`.\n",
        "- En JupyterLab:\n",
        "  1) Ejecuta `jupyter lab` en tu terminal.\n",
        "  2) Navega al archivo y ábrelo con doble clic.\n",
        "  3) Si se solicita, confía el notebook para permitir ejecución.\n",
        "\n",
        "Sabrás que el notebook está listo cuando veas los botones de ejecución y cada celda tenga su barra con el ícono de `Run` (play ▶).\n"
      ]
    },
    {
      "cell_type": "markdown",
      "metadata": {},
      "source": [
        "## Tour rápido de la interfaz\n",
        "\n",
        "Elementos clave que verás:\n",
        "- Barra del notebook (arriba): `Run All`, `Select Kernel`, `Restart`, `Export`.\n",
        "- Barra de cada celda: botón `Run` (▶), menú de tipo de celda (`Code`/`Markdown`), borrar (🗑️).\n",
        "- Indicadores de ejecución en la izquierda de cada celda: `[ ]` (sin ejecutar), `[*]` (ejecutando), `[1]`, `[2]`… (orden de ejecución).\n",
        "- Menú contextual (clic derecho) sobre una celda: insertar arriba/abajo, copiar/pegar, ejecutar arriba/abajo, borrar, cambiar tipo.\n",
        "\n",
        "Si usas JupyterLab, busca los menús superiores `Run`, `Kernel`, `Edit` y la toolbar con un botón `Run` y `Stop`.\n"
      ]
    },
    {
      "cell_type": "markdown",
      "metadata": {},
      "source": [
        "## Tipos de celdas: Código y Markdown\n",
        "\n",
        "- Celda de Código: ejecuta instrucciones de Python. Muestra salidas y errores debajo.\n",
        "- Celda de Markdown: texto con formato (títulos, listas, imágenes, fórmulas) para explicar.\n",
        "\n",
        "Cómo reconocerlas:\n",
        "- Código: suele mostrar numeración de ejecución y resaltado de sintaxis.\n",
        "- Markdown: se muestra “bonito” al no estar en modo edición.\n",
        "\n",
        "Práctica rápida:\n",
        "1) Identifica la próxima celda de código.\n",
        "2) Más adelante convertiremos entre tipos.\n"
      ]
    },
    {
      "cell_type": "markdown",
      "metadata": {},
      "source": [
        "## Crear celdas (mouse y atajos)\n",
        "\n",
        "Con el mouse (VS Code):\n",
        "- Usa `+ Code` o `+ Markdown` en la barra superior.\n",
        "- En la barra de una celda, usa el ícono `+` para insertar debajo.\n",
        "- Clic derecho sobre una celda → `Insert Above` o `Insert Below`.\n",
        "\n",
        "Con el mouse (JupyterLab):\n",
        "- Botón `+` en la toolbar o `Edit → Insert Cell Above/Below`.\n",
        "\n",
        "Con atajos (modo comando — sal de edición con `Esc`):\n",
        "- `A`: insertar celda arriba.\n",
        "- `B`: insertar celda abajo.\n",
        "- `Enter`: entrar a editar la celda seleccionada.\n",
        "- `Esc`: salir a modo comando.\n",
        "\n",
        "Práctica:\n",
        "1) Inserta una celda abajo con el mouse.\n",
        "2) Inserta otra celda arriba usando `A`.\n"
      ]
    },
    {
      "cell_type": "markdown",
      "metadata": {},
      "source": [
        "## Convertir tipos de celda (mouse y atajos)\n",
        "\n",
        "Con el mouse:\n",
        "- VS Code: en la barra de la celda, usa el menú desplegable `Code`/`Markdown` o la Paleta (`Ctrl+Shift+P`) → `Notebook: Change Cell To…`.\n",
        "- JupyterLab: `Cell → Cell Type → Code/Markdown` o menú contextual.\n",
        "\n",
        "Con atajos (modo comando):\n",
        "- `M`: convertir a Markdown.\n",
        "- `Y`: convertir a Code.\n",
        "\n",
        "Práctica:\n",
        "1) Convierte una celda de Código a Markdown con `M`.\n",
        "2) Vuelve a Código con `Y`.\n",
        "3) Hazlo también con el mouse para reconocer ambos caminos.\n"
      ]
    },
    {
      "cell_type": "markdown",
      "metadata": {},
      "source": [
        "## Ejecutar celdas (mouse y atajos)\n",
        "\n",
        "Con el mouse:\n",
        "- Presiona `Run` (▶) en la celda actual.\n",
        "- Usa `Run All`, `Run Above`, `Run Below` desde la barra del notebook.\n",
        "\n",
        "Con atajos:\n",
        "- `Shift+Enter`: ejecutar y pasar a la siguiente celda.\n",
        "- `Ctrl+Enter`: ejecutar y quedarte en la misma celda.\n",
        "- `Alt+Enter`: ejecutar y crear una celda debajo.\n",
        "\n",
        "Práctica:\n",
        "1) Ejecuta la celda de código siguiente con `Shift+Enter`.\n",
        "2) Vuelve a ejecutarla con `Ctrl+Enter`.\n",
        "3) Prueba `Alt+Enter` para crear una nueva celda debajo tras la ejecución.\n"
      ]
    },
    {
      "cell_type": "markdown",
      "metadata": {},
      "source": [
        "## Mover, duplicar y borrar celdas\n",
        "\n",
        "Con el mouse:\n",
        "- Reordenar: arrastra la celda usando su borde o “manija” (grip) lateral.\n",
        "- Duplicar: usa el ícono `Duplicate` (VS Code) o `Copy`/`Paste` desde menú contextual.\n",
        "- Borrar: ícono de papelera (🗑️) o `Delete Cell` en el menú contextual.\n",
        "\n",
        "Con atajos (modo comando):\n",
        "- `C`: copiar celda seleccionada.\n",
        "- `V`: pegar celda debajo.\n",
        "- `D`, `D`: borrar celda.\n",
        "- `Z`: deshacer borrado de celda.\n",
        "- `K`/`J` o flechas: moverte entre celdas.\n",
        "\n",
        "Práctica:\n",
        "1) Duplica una celda con `C` y `V`.\n",
        "2) Borra la copia con `D`, `D` y luego recupera con `Z`.\n"
      ]
    },
    {
      "cell_type": "markdown",
      "metadata": {},
      "source": [
        "## Kernel: elegirlo, interrumpirlo y reiniciarlo\n",
        "\n",
        "¿Qué es el kernel?\n",
        "- Es el proceso que ejecuta tu código (el “motor” de Python). Guarda las variables en memoria.\n",
        "\n",
        "Elegir kernel (entorno correcto):\n",
        "- VS Code: botón `Select Kernel` (arriba a la derecha). Elige el intérprete de tu proyecto (por ejemplo, tu `.venv`).\n",
        "- JupyterLab: `Kernel → Change Kernel` y selecciona el entorno deseado.\n",
        "\n",
        "Estados y control:\n",
        "- `Idle` (inactivo) vs `Busy` (ocupado). Si está ocupado, verás `[*]` en la celda.\n",
        "- Interrumpir ejecución: botón `Stop`/`Interrupt` en la barra o menú `Kernel`.\n",
        "- Reiniciar kernel: vacía la memoria y variables; útil si algo queda “atascado” o quieres empezar limpio.\n",
        "\n",
        "Buenas prácticas con el kernel:\n",
        "- Verifica el kernel antes de empezar (que sea tu entorno del proyecto).\n",
        "- Si cambias de kernel, considera ejecutar todo de nuevo para asegurar consistencia.\n"
      ]
    },
    {
      "cell_type": "markdown",
      "metadata": {},
      "source": [
        "## Estado, scope y rutas (cómo piensa el kernel)\n",
        "\n",
        "- Variables en memoria: todo lo que definas en una celda vive en el kernel y se puede usar en celdas posteriores.\n",
        "- Orden importa: si usas `x` en la celda 5, asegúrate de haber ejecutado la celda que define `x` antes, en esta misma sesión.\n",
        "- Reiniciar borra memoria: tras `Restart`, debes volver a ejecutar las celdas necesarias (idealmente de arriba hacia abajo).\n",
        "- Directorio de trabajo: el kernel resuelve rutas relativas normalmente desde la carpeta del notebook (puede variar por configuración). Si un archivo no se encuentra, revisa la ruta.\n",
        "- Paquetes disponibles: dependen del entorno del kernel (tu `.venv`, conda o sistema). Si `import` falla, puede ser que el paquete no esté instalado en ese entorno.\n"
      ]
    },
    {
      "cell_type": "markdown",
      "metadata": {},
      "source": [
        "## Markdown esencial (mini práctica)\n",
        "\n",
        "Markdown te permite escribir texto con formato:\n",
        "- Títulos: `#`, `##`, `###` antes del texto.\n",
        "- Negritas: `**texto**`, Cursivas: `*texto*`.\n",
        "- Listas: `- elemento` o `1. elemento`.\n",
        "- Enlaces: `[texto](https://ejemplo.com)`.\n",
        "- Código en línea: `` `x = 1` `` y bloques:\n",
        "```\n",
        "print(\"Hola\")\n",
        "```\n",
        "\n",
        "Práctica:\n",
        "1) Convierte una celda a Markdown (`M`).\n",
        "2) Escribe un título `## Mis notas` y una lista con 2 elementos.\n",
        "3) Vuelve a ejecutar la celda para ver el formato.\n"
      ]
    },
    {
      "cell_type": "markdown",
      "metadata": {},
      "source": [
        "## Buenas prácticas al usar notebooks\n",
        "\n",
        "- Ejecuta de arriba hacia abajo para reproducibilidad.\n",
        "- Renombra el archivo con un nombre claro (p. ej., `01_Bienvenida_Jupyter.ipynb`).\n",
        "- Mantén celdas cortas y temáticas; agrega títulos Markdown para secciones.\n",
        "- Deja notas breves en Markdown junto al código para recordar decisiones.\n",
        "- Reejecuta todo tras cambios grandes o tras cambiar de kernel.\n",
        "- Prefiere rutas relativas que apunten a la carpeta del proyecto.\n"
      ]
    },
    {
      "cell_type": "markdown",
      "metadata": {},
      "source": [
        "## Guardar, limpiar salidas y exportar\n",
        "\n",
        "Guardar:\n",
        "- VS Code: guarda el archivo `.ipynb` (auto-save si está activado).\n",
        "- JupyterLab: `File → Save Notebook`.\n",
        "\n",
        "Limpiar salidas:\n",
        "- VS Code: `Clear Outputs` por celda o global desde el menú del notebook.\n",
        "- JupyterLab: `Edit → Clear All Outputs`.\n",
        "\n",
        "Exportar:\n",
        "- VS Code: botón `Export` (HTML, PDF, Markdown, etc.).\n",
        "- JupyterLab: `File → Export Notebook As…`.\n"
      ]
    },
    {
      "cell_type": "markdown",
      "metadata": {},
      "source": [
        "## Solución de problemas comunes\n",
        "\n",
        "- La celda se queda ejecutando (`[*]`) mucho tiempo:\n",
        "  - Interrumpe (Stop/Interrupt). Revisa el código o reinicia el kernel.\n",
        "- `NameError: name 'x' is not defined`:\n",
        "  - Ejecuta antes la celda que define `x`. Considera `Run All` tras reiniciar.\n",
        "- `ModuleNotFoundError` al hacer `import`:\n",
        "  - Verifica que el kernel sea el del entorno con el paquete instalado. Instálalo en ese entorno.\n",
        "- No encuentra un archivo:\n",
        "  - Revisa la ruta relativa desde la carpeta del notebook o usa una ruta absoluta.\n",
        "- Cambié de kernel y todo falla:\n",
        "  - Ejecuta de arriba hacia abajo para reconstruir el estado.\n"
      ]
    },
    {
      "cell_type": "markdown",
      "metadata": {},
      "source": [
        "## Chuleta rápida de atajos y acciones\n",
        "\n",
        "- Crear celdas: `A` (arriba), `B` (abajo); mouse: ícono `+`.\n",
        "- Convertir tipo: `M` (Markdown), `Y` (Code); mouse: menú tipo de celda o Paleta.\n",
        "- Ejecutar: `Shift+Enter`, `Ctrl+Enter`, `Alt+Enter`; mouse: botón `Run`.\n",
        "- Editar/Navegar: `Enter` (editar), `Esc` (comando), `K`/`J` (moverse), `C`/`V` (copiar/pegar), `D` `D` (borrar), `Z` (deshacer borrado).\n",
        "- Kernel: seleccionar desde barra (`Select Kernel`) o `Kernel → Change Kernel`; interrumpir/reiniciar desde la barra/menú.\n",
        "- Ayuda: en Jupyter, `H` muestra atajos; en VS Code, usa la Paleta y `Keyboard Shortcuts`.\n"
      ]
    },
    {
      "cell_type": "markdown",
      "metadata": {},
      "source": [
        "## Checklist final: ¿qué ya sé hacer?\n",
        "\n",
        "- [ ] Crear celdas arriba y abajo con atajos y mouse.\n",
        "- [ ] Convertir entre Código y Markdown con atajos y con mouse.\n",
        "- [ ] Ejecutar una celda, ejecutar todo el notebook.\n",
        "- [ ] Seleccionar el kernel correcto; interrumpir y reiniciar.\n",
        "- [ ] Limpiar salidas, guardar y exportar el notebook.\n",
        "\n",
        "Si marcaste todo, ¡ya dominas lo esencial para empezar a trabajar con notebooks!\n"
      ]
    },
    {
      "cell_type": "code",
      "execution_count": null,
      "metadata": {},
      "outputs": [],
      "source": [
        "print(\"¡Hola Notebook!\")\n",
        "\n"
      ]
    }
  ],
  "metadata": {
    "language_info": {
      "name": "python"
    }
  },
  "nbformat": 4,
  "nbformat_minor": 2
}
