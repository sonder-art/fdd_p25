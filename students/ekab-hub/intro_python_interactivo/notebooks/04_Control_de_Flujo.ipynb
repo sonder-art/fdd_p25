{
  "cells": [
    {
      "cell_type": "markdown",
      "metadata": {},
      "source": [
        "[![Open in Colab](https://colab.research.google.com/assets/colab-badge.svg)](https://colab.research.google.com/github/sonder-art/fdd_p25/blob/main/professor/intro_python_interactivo/notebooks/04_Control_de_Flujo.ipynb)\n"
      ]
    },
    {
      "cell_type": "markdown",
      "metadata": {},
      "source": [
        "# Control de Flujo (con impresiones claras)\n",
        "\n",
        "Usaremos etiquetas en los `print` y comentarios para que cada paso sea evidente.\n"
      ]
    },
    {
      "cell_type": "markdown",
      "metadata": {},
      "source": [
        "# Control de Flujo\n",
        "\n",
        "- Booleans y truthiness (`0`, `\"\"`, `[]`, `{}`, `None` son falsy)\n",
        "- if/elif/else\n",
        "- for, while, break, continue\n",
        "- enumerate y zip (básico)\n",
        "\n",
        "Ejercicios con ejemplos sencillos.\n"
      ]
    },
    {
      "cell_type": "markdown",
      "metadata": {},
      "source": [
        "## Booleans y truthiness\n",
        "\n",
        "- `True` y `False` son booleanos.\n",
        "- En condiciones, Python considera `False` a `0`, `\"\"`, `[]`, `{}`, `set()`, `None`.\n",
        "- Piensa en: “¿hay algo o está vacío?”\n"
      ]
    },
    {
      "cell_type": "code",
      "execution_count": null,
      "metadata": {},
      "outputs": [],
      "source": [
        "valores = [\"\", \" \", [], {}, set(), 0, None, \"texto\", [1], {\"k\":1}, 7]\n",
        "for v in valores:\n",
        "    if v:\n",
        "        print(repr(v), \"→ VERDADERO\")\n",
        "    else:\n",
        "        print(repr(v), \"→ FALSO\")\n",
        "\n"
      ]
    },
    {
      "cell_type": "markdown",
      "metadata": {},
      "source": [
        "## if / elif / else\n",
        "\n",
        "Se ejecuta el primer bloque cuya condición sea verdadera; `else` cubre el caso restante.\n"
      ]
    },
    {
      "cell_type": "code",
      "execution_count": null,
      "metadata": {},
      "outputs": [],
      "source": [
        "x = 10\n",
        "if x > 0:\n",
        "    print(\"positivo\")\n",
        "elif x == 0:\n",
        "    print(\"cero\")\n",
        "else:\n",
        "    print(\"negativo\")\n",
        "\n"
      ]
    },
    {
      "cell_type": "code",
      "execution_count": null,
      "metadata": {},
      "outputs": [],
      "source": []
    },
    {
      "cell_type": "markdown",
      "metadata": {},
      "source": [
        "## for / while / break / continue\n",
        "\n",
        "- `for` recorre elementos de un iterable.\n",
        "- `while` repite mientras la condición sea verdadera.\n",
        "- `break` sale del bucle; `continue` salta a la siguiente iteración.\n"
      ]
    },
    {
      "cell_type": "code",
      "execution_count": null,
      "metadata": {},
      "outputs": [],
      "source": [
        "# for con continue\n",
        "for i in range(6):\n",
        "    if i % 2 == 0:\n",
        "        continue\n",
        "    print(\"impar:\", i)\n",
        "\n",
        "# while con break\n",
        "n = 0\n",
        "while True:\n",
        "    n += 1\n",
        "    if n == 3:\n",
        "        print(\"rompo en\", n)\n",
        "        break\n",
        "\n"
      ]
    },
    {
      "cell_type": "markdown",
      "metadata": {},
      "source": [
        "## enumerate y zip (con ejemplos)\n",
        "\n",
        "- `enumerate(iterable, start=0)` → (indice, valor)\n",
        "- `zip(a, b, ...)` combina por posición, se detiene en el más corto.\n"
      ]
    },
    {
      "cell_type": "code",
      "execution_count": null,
      "metadata": {},
      "outputs": [],
      "source": [
        "nombres = [\"Ana\", \"Luis\", \"Zoe\"]\n",
        "edades = [20, 21]\n",
        "for i, nombre in enumerate(nombres, start=1):\n",
        "    print(i, nombre)\n",
        "for nombre, edad in zip(nombres, edades):\n",
        "    print(f\"{nombre} → {edad}\")\n",
        "\n"
      ]
    },
    {
      "cell_type": "markdown",
      "metadata": {},
      "source": [
        "## Indentación vs llaves (Java → Python)\n",
        "\n",
        "- En Python, los bloques se delimitan por indentación consistente (espacios).\n",
        "- No se usan `{}`; un `:` introduce el bloque.\n",
        "- Asegúrate de usar el mismo número de espacios (configura el editor).\n"
      ]
    },
    {
      "cell_type": "markdown",
      "metadata": {},
      "source": [
        "## `range` y `for-else`\n",
        "\n",
        "- `range(ini, fin, paso)` genera números; `fin` es exclusivo.\n",
        "- `for-else`: el `else` se ejecuta si el bucle no rompió (`break`).\n"
      ]
    },
    {
      "cell_type": "markdown",
      "metadata": {},
      "source": [
        "## if vs if/elif/else: orden de evaluación\n",
        "\n",
        "- Múltiples `if` independientes: todos los verdaderos se ejecutan.\n",
        "- `if/elif/else`: al cumplirse uno, se saltan los siguientes (son mutuamente excluyentes en evaluación).\n",
        "- `elif` se evalúa solo si los previos fueron falsos.\n"
      ]
    },
    {
      "cell_type": "code",
      "execution_count": null,
      "metadata": {},
      "outputs": [],
      "source": [
        "x = 10\n",
        "print(\"Caso A: 3 if independientes\")\n",
        "if x > 0:\n",
        "    print(\"x>0\")\n",
        "if x > 5:\n",
        "    print(\"x>5\")\n",
        "if x > 9:\n",
        "    print(\"x>9\")\n",
        "\n",
        "print(\"\\nCaso B: if/elif/else (solo entra a uno)\")\n",
        "if x > 9:\n",
        "    print(\"x>9\")\n",
        "elif x > 5:\n",
        "    print(\"x>5\")\n",
        "else:\n",
        "    print(\"otro caso\")\n",
        "\n"
      ]
    },
    {
      "cell_type": "markdown",
      "metadata": {},
      "source": [
        "## Operadores lógicos: `and` / `or` (cortocircuito) y `not`\n",
        "\n",
        "- `A and B`: si `A` es falso, no evalúa `B` (cortocircuito).\n",
        "- `A or B`: si `A` es verdadero, no evalúa `B`.\n",
        "- En Python, `and`/`or` devuelven el último operando evaluado (no solo `True/False`).\n",
        "\n",
        "Útil para asignaciones compactas, pero evita abusar si resta legibilidad.\n"
      ]
    },
    {
      "cell_type": "code",
      "execution_count": null,
      "metadata": {},
      "outputs": [],
      "source": [
        "def caro():\n",
        "    print(\"→ caro() evaluado\")\n",
        "    return True\n",
        "\n",
        "print(\"and: corta si primero es False\")\n",
        "print(False and caro())  # corto circuito, no llama caro\n",
        "\n",
        "print(\"\\nor: corta si primero es True\")\n",
        "print(True or caro())    # corto circuito, no llama caro\n",
        "\n",
        "print(\"\\nDevolución de valores:\")\n",
        "print(\"'a' and 'b' →\", 'a' and 'b')  # 'b'\n",
        "print(\"'' or 'fallback' →\", '' or 'fallback')  # 'fallback'\n",
        "\n"
      ]
    },
    {
      "cell_type": "markdown",
      "metadata": {},
      "source": [
        "## `pass`: marcador de lugar (no hace nada)\n",
        "\n",
        "- Úsalo cuando la sintaxis requiere un bloque pero aún no tienes lógica.\n",
        "- No confundir con `continue` o `break` (que afectan el flujo del bucle).\n"
      ]
    },
    {
      "cell_type": "code",
      "execution_count": null,
      "metadata": {},
      "outputs": [],
      "source": [
        "for i in range(3):\n",
        "    if i == 1:\n",
        "        pass  # placeholder: no hace nada\n",
        "    print(\"i:\", i)\n",
        "\n"
      ]
    },
    {
      "cell_type": "markdown",
      "metadata": {},
      "source": [
        "## `break` y `continue` anidados: ¿dónde aplican?\n",
        "\n",
        "- `break`/`continue` afectan solo el bucle más interno.\n",
        "- Si hay bucles anidados, el `break` sale del interno; el externo continúa.\n"
      ]
    },
    {
      "cell_type": "code",
      "execution_count": null,
      "metadata": {},
      "outputs": [],
      "source": [
        "for i in range(3):\n",
        "    print(\"Externo i=\", i)\n",
        "    for j in range(3):\n",
        "        print(\"  Interno j=\", j)\n",
        "        if j == 1:\n",
        "            print(\"  break interno\")\n",
        "            break  # sale del bucle interno, sigue el externo\n",
        "\n"
      ]
    },
    {
      "cell_type": "markdown",
      "metadata": {},
      "source": [
        "## `for` con `if` (filtrado dentro del bucle)\n",
        "\n",
        "- Puedes anidar `if` dentro de `for` para saltarte casos.\n",
        "- Equivalente a usar `continue` si quieres omitir y seguir.\n"
      ]
    },
    {
      "cell_type": "code",
      "execution_count": null,
      "metadata": {},
      "outputs": [],
      "source": [
        "valores = [0,1,2,3,4]\n",
        "for v in valores:\n",
        "    if v % 2 == 0:           # filtra pares\n",
        "        print(\"par:\", v)\n",
        "    else:\n",
        "        print(\"impar:\", v)\n",
        "\n"
      ]
    },
    {
      "cell_type": "code",
      "execution_count": null,
      "metadata": {},
      "outputs": [],
      "source": [
        "for i in range(0, 5):\n",
        "    print(i, end=\" \")\n",
        "else:\n",
        "    print(\"→ terminó sin break\")\n",
        "\n",
        "for i in range(5):\n",
        "    if i == 2:\n",
        "        break\n",
        "else:\n",
        "    print(\"esto NO se imprime, hubo break\")\n",
        "\n"
      ]
    },
    {
      "cell_type": "markdown",
      "metadata": {},
      "source": [
        "## Booleanos vs operadores bit a bit\n",
        "\n",
        "- `and`, `or`, `not` son lógicos.\n",
        "- `&`, `|`, `^`, `~` son bit a bit (enteros), no confundirlos en condiciones.\n"
      ]
    }
  ],
  "metadata": {
    "language_info": {
      "name": "python"
    }
  },
  "nbformat": 4,
  "nbformat_minor": 2
}
