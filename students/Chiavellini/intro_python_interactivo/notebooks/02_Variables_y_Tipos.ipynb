{
  "cells": [
    {
      "cell_type": "markdown",
      "metadata": {},
      "source": [
        "# Variables y Tipos en Python (con impresiones claras)\n",
        "\n",
        "En este cuaderno verás tipos básicos y cómo imprimir resultados de forma clara para no confundirte. Usaremos etiquetas y explicaremos `print` paso a paso.\n"
      ]
    },
    {
      "cell_type": "markdown",
      "metadata": {},
      "source": [
        "## Imports en notebooks: fundamentos (1/4)\n",
        "\n",
        "¿Por qué los imports van “arriba”?\n",
        "- Traen módulos (bibliotecas) a tu sesión; al inicio, el cuaderno es más legible y reproducible.\n",
        "- Agrupa por origen: estándar (stdlib), terceros, y locales del proyecto.\n",
        "\n",
        "Qué veremos en esta mini‑sección:\n",
        "1) Dónde busca Python módulos (y cómo verlo).\n",
        "2) Cómo instalar en el kernel correcto.\n",
        "3) Buenas prácticas y orden recomendado.\n",
        "4) Cómo recargar módulos durante el desarrollo.\n"
      ]
    },
    {
      "cell_type": "markdown",
      "metadata": {},
      "source": [
        "### (2/4) ¿Dónde busca Python los módulos?\n",
        "\n",
        "Python consulta `sys.path` (una lista de carpetas) y el directorio actual.\n",
        "\n",
        "En notebooks, el directorio actual suele ser la carpeta del cuaderno o del proyecto.\n",
        "\n",
        "En la siguiente celda, veremos el directorio y el `sys.path`.\n"
      ]
    },
    {
      "cell_type": "code",
      "execution_count": 14,
      "metadata": {},
      "outputs": [
        {
          "name": "stdout",
          "output_type": "stream",
          "text": [
            "Directorio actual: /home/uumami/itam/fdd_p25/professor/intro_python_interactivo/notebooks\n",
            "Primeras entradas en sys.path:\n",
            " - /usr/lib/python310.zip\n",
            " - /usr/lib/python3.10\n",
            " - /usr/lib/python3.10/lib-dynload\n",
            " - \n",
            " - /home/uumami/itam/fdd_p25/.venv/lib/python3.10/site-packages\n"
          ]
        }
      ],
      "source": [
        "import os, sys\n",
        "print(\"Directorio actual:\", os.getcwd())\n",
        "print(\"Primeras entradas en sys.path:\")\n",
        "for p in sys.path[:5]:\n",
        "    print(\" -\", p)\n"
      ]
    },
    {
      "cell_type": "markdown",
      "metadata": {},
      "source": [
        "### (3/4) Instalar/importar en el kernel correcto\n",
        "\n",
        "- Asegúrate de usar el kernel del entorno con tus paquetes (p. ej., `.venv`).\n",
        "- En notebooks, puedes instalar en el kernel activo:\n",
        "  - `%pip install paquete` (recomendado)\n",
        "  - `!pip install paquete` (usa la shell)\n",
        "- Verifica la versión tras importar.\n"
      ]
    },
    {
      "cell_type": "code",
      "execution_count": 15,
      "metadata": {},
      "outputs": [
        {
          "name": "stdout",
          "output_type": "stream",
          "text": [
            "3.10.12\n"
          ]
        }
      ],
      "source": [
        "# Ejemplo: instalar y comprobar versión (descomenta para usar)\n",
        "# %pip install requests\n",
        "import sys\n",
        "print(sys.version.split()[0])\n",
        "# import requests\n",
        "# print(\"requests:\", requests.__version__)\n"
      ]
    },
    {
      "cell_type": "markdown",
      "metadata": {},
      "source": [
        "### (4/4) Buenas prácticas y recarga en desarrollo\n",
        "\n",
        "- Ordena imports por grupos: stdlib → terceros → locales.\n",
        "- Evita `from paquete import *` y usa alias claros (`import numpy as np`).\n",
        "- Si editas un módulo local, recarga sin reiniciar el kernel:\n",
        "  - `%load_ext autoreload`\n",
        "  - `%autoreload 2`\n",
        "  - `import importlib; importlib.reload(mi_modulo)`\n",
        "\n",
        "Errores comunes y diagnóstico:\n",
        "- `ModuleNotFoundError`: kernel equivocado, paquete no instalado o ruta del proyecto fuera de `sys.path`.\n",
        "- `ImportError` por ciclos o nombres: revisa estructura y evita colisiones.\n"
      ]
    },
    {
      "cell_type": "markdown",
      "metadata": {},
      "source": [
        "## `print`: etiquetas, `sep` y `end`\n",
        "\n",
        "- `print(a, b, c)` separa con espacio por defecto.\n",
        "- `sep=\",\"` cambia el separador.\n",
        "- `end=\"\"` evita el salto de línea al final (útil para imprimir en la misma línea).\n",
        "- Agregaremos etiquetas para saber qué estamos viendo.\n"
      ]
    },
    {
      "cell_type": "code",
      "execution_count": 16,
      "metadata": {},
      "outputs": [
        {
          "name": "stdout",
          "output_type": "stream",
          "text": [
            "Valores por defecto: 1 2 3\n",
            "Con coma como separador:,1,2,3\n",
            "Sin salto de línea:[misma línea]\n"
          ]
        }
      ],
      "source": [
        "a, b, c = 1, 2, 3\n",
        "print(\"Valores por defecto:\", a, b, c)  # separa con espacio\n",
        "print(\"Con coma como separador:\", a, b, c, sep=\",\")\n",
        "print(\"Sin salto de línea:\", end=\"\")\n",
        "print(\"[misma línea]\")\n",
        "\n"
      ]
    },
    {
      "cell_type": "markdown",
      "metadata": {},
      "source": [
        "## Cómo imprime `print` objetos (str vs repr)\n",
        "\n",
        "- `print(obj)` llama `str(obj)`; si no hay `__str__`, usa `__repr__`.\n",
        "- `repr(obj)` o `f\"{obj!r}\"` muestran la representación para desarrolladores.\n",
        "- Implementa `__repr__` y opcionalmente `__str__` para controlar la salida.\n"
      ]
    },
    {
      "cell_type": "markdown",
      "metadata": {},
      "source": [
        "## `str` vs `repr` (cómo se muestran los objetos)\n",
        "\n",
        "- `str(x)`: legible para personas (amigable).\n",
        "- `repr(x)`: detallado para desarrolladores (útil para depuración).\n",
        "\n",
        "Veremos la diferencia con cadenas y listas.\n"
      ]
    },
    {
      "cell_type": "code",
      "execution_count": 17,
      "metadata": {},
      "outputs": [
        {
          "name": "stdout",
          "output_type": "stream",
          "text": [
            "str(texto): hola \n",
            " python\n",
            "repr(texto): 'hola \\n python'\n",
            "str(lista): [1, 'a', 3]\n",
            "repr(lista): [1, 'a', 3]\n"
          ]
        }
      ],
      "source": [
        "texto = \"hola \\n python\"  # contiene salto de línea\n",
        "print(\"str(texto):\", str(texto))     # se imprime como texto\n",
        "print(\"repr(texto):\", repr(texto))   # muestra caracteres de escape\n",
        "\n",
        "lst = [1, \"a\", 3]\n",
        "print(\"str(lista):\", str(lst))\n",
        "print(\"repr(lista):\", repr(lst))\n",
        "\n"
      ]
    },
    {
      "cell_type": "markdown",
      "metadata": {},
      "source": [
        "# Variables y Tipos en Python\n",
        "\n",
        "- Variable: nombre que guarda un valor (`x = 5`).\n",
        "- Tipos básicos: `int`, `float`, `bool`, `str`, `NoneType`.\n",
        "- Funciones útiles: `type(x)`, `isinstance(x, T)`, `help(obj)`.\n",
        "\n",
        "Ejercicios cortos y cambios guiados para practicar.\n"
      ]
    },
    {
      "cell_type": "code",
      "execution_count": 18,
      "metadata": {},
      "outputs": [
        {
          "name": "stdout",
          "output_type": "stream",
          "text": [
            "42 → <class 'int'>\n",
            "3.14 → <class 'float'>\n",
            "True → <class 'bool'>\n",
            "hola → <class 'str'>\n",
            "None → <class 'NoneType'>\n"
          ]
        }
      ],
      "source": [
        "x = 42\n",
        "pi = 3.14\n",
        "ok = True\n",
        "saludo = \"hola\"\n",
        "nada = None\n",
        "\n",
        "for v in [x, pi, ok, saludo, nada]:\n",
        "    print(v, \"→\", type(v))\n",
        "\n"
      ]
    },
    {
      "cell_type": "markdown",
      "metadata": {},
      "source": [
        "## Strings y f-strings\n",
        "\n",
        "- Cadenas: texto entre comillas `\"hola\"`.\n",
        "- f-strings: `f\"Hola {nombre}, edad={edad}\"` para insertar valores.\n",
        "- Formato: `{pi:.2f}` (decimales), `{nombre:>10}` (alineación).\n",
        "\n",
        "Prueba cambiar variables y ver el resultado.\n"
      ]
    },
    {
      "cell_type": "markdown",
      "metadata": {},
      "source": [
        "## Guía de `print` y formateo (f-strings) — sección práctica\n",
        "\n",
        "Objetivo: dominar `print`, separadores (`sep`), finales (`end`), `str` vs `repr`, y f-strings con formato de números, alineación y anchos.\n"
      ]
    },
    {
      "cell_type": "markdown",
      "metadata": {},
      "source": [
        "### (1/6) `print`: separador y fin de línea\n",
        "\n",
        "- `print(a, b, c)` usa un espacio como separador por defecto.\n",
        "- `sep` cambia el separador; `end` define qué poner al final (por defecto `\"\\n\"`).\n",
        "\n",
        "Ejecuta la celda siguiente y cambia valores de `sep`/`end`.\n"
      ]
    },
    {
      "cell_type": "code",
      "execution_count": 19,
      "metadata": {},
      "outputs": [
        {
          "name": "stdout",
          "output_type": "stream",
          "text": [
            "Por defecto: 1 2 3\n",
            "Con coma:,1,2,3\n",
            "Sin salto:[sigue aquí]\n"
          ]
        }
      ],
      "source": [
        "a, b, c = 1, 2, 3\n",
        "print(\"Por defecto:\", a, b, c)                  # espacio y salto de línea\n",
        "print(\"Con coma:\", a, b, c, sep=\",\")         # separador coma\n",
        "print(\"Sin salto:\", end=\"\")\n",
        "print(\"[sigue aquí]\")                          # se pega a la anterior\n"
      ]
    },
    {
      "cell_type": "markdown",
      "metadata": {},
      "source": [
        "### (2/6) `str` vs `repr`\n",
        "\n",
        "- `str(x)`: pensado para personas.\n",
        "- `repr(x)`: pensado para desarrolladores; muestra detalles y escapes.\n",
        "- `print(obj)` llama `str(obj)` si existe; si no, cae en `repr(obj)`.\n"
      ]
    },
    {
      "cell_type": "code",
      "execution_count": 20,
      "metadata": {},
      "outputs": [
        {
          "name": "stdout",
          "output_type": "stream",
          "text": [
            "str(texto): hola \n",
            " python\n",
            "repr(texto): 'hola \\n python'\n",
            "str(lista): [1, 'a', 3]\n",
            "repr(lista): [1, 'a', 3]\n"
          ]
        }
      ],
      "source": [
        "texto = \"hola \\n python\"\n",
        "print(\"str(texto):\", str(texto))\n",
        "print(\"repr(texto):\", repr(texto))\n",
        "\n",
        "lst = [1, \"a\", 3]\n",
        "print(\"str(lista):\", str(lst))\n",
        "print(\"repr(lista):\", repr(lst))\n"
      ]
    },
    {
      "cell_type": "markdown",
      "metadata": {},
      "source": [
        "### (3/6) f-strings básicas\n",
        "\n",
        "- Inserta variables: `f\"Hola {nombre}\"`.\n",
        "- Muestra `repr` con `!r`: `f\"{obj!r}\"`.\n",
        "- Úsalas para etiquetas claras en tus impresiones.\n"
      ]
    },
    {
      "cell_type": "code",
      "execution_count": 21,
      "metadata": {},
      "outputs": [
        {
          "name": "stdout",
          "output_type": "stream",
          "text": [
            "Hola Ana, tienes 21\n",
            "Con repr: nombre='Ana'\n"
          ]
        }
      ],
      "source": [
        "nombre = \"Ana\"\n",
        "edad = 21\n",
        "pi = 3.14159\n",
        "print(f\"Hola {nombre}, tienes {edad}\")\n",
        "print(f\"Con repr: nombre={nombre!r}\")\n"
      ]
    },
    {
      "cell_type": "markdown",
      "metadata": {},
      "source": [
        "### (4/6) Formato numérico en f-strings\n",
        "\n",
        "- Decimales: `{pi:.2f}` (dos decimales).\n",
        "- Notación científica: `{n:e}`.\n",
        "- Separadores de miles: `{n:,}`.\n",
        "- Relleno y ancho: `{n:08.2f}` (8 de ancho, ceros a la izquierda, 2 decimales).\n"
      ]
    },
    {
      "cell_type": "code",
      "execution_count": 22,
      "metadata": {},
      "outputs": [
        {
          "name": "stdout",
          "output_type": "stream",
          "text": [
            "Decimales: 1234567.89\n",
            "Científica: 1.234568e+06\n",
            "Miles: 1,234,567.89123\n",
            "Relleno/ancho: 1234567.89\n"
          ]
        }
      ],
      "source": [
        "n = 1234567.89123\n",
        "print(f\"Decimales: {n:.2f}\")\n",
        "print(f\"Científica: {n:e}\")\n",
        "print(f\"Miles: {n:,}\")\n",
        "print(f\"Relleno/ancho: {n:010.2f}\")\n"
      ]
    },
    {
      "cell_type": "markdown",
      "metadata": {},
      "source": [
        "### (5/6) Alineación y ancho en f-strings\n",
        "\n",
        "- Derecha: `{texto:>10}`\n",
        "- Izquierda: `{texto:<10}`\n",
        "- Centrado: `{texto:^10}`\n",
        "- Relleno con carácter: `{texto:.^10}` (puntos)\n"
      ]
    },
    {
      "cell_type": "code",
      "execution_count": 23,
      "metadata": {},
      "outputs": [
        {
          "name": "stdout",
          "output_type": "stream",
          "text": [
            "|       Ana|\n",
            "|Ana       |\n",
            "|   Ana    |\n",
            "|...Ana....|\n"
          ]
        }
      ],
      "source": [
        "texto = \"Ana\"\n",
        "print(f\"|{texto:>10}|\")\n",
        "print(f\"|{texto:<10}|\")\n",
        "print(f\"|{texto:^10}|\")\n",
        "print(f\"|{texto:.^10}|\")\n"
      ]
    },
    {
      "cell_type": "markdown",
      "metadata": {},
      "source": [
        "### (6/6) Comparativa: concatenación vs `print` múltiple vs f-strings\n",
        "\n",
        "- Concatenación: `\"Hola \" + nombre + \", tienes \" + str(edad)` (verboso y propenso a errores)\n",
        "- `print` múltiple: `print(\"Hola\", nombre, \"tienes\", edad)` (rápido, menos control de formato)\n",
        "- f-strings: `f\"Hola {nombre}, tienes {edad}\"` (legible y potente)\n"
      ]
    },
    {
      "cell_type": "code",
      "execution_count": 24,
      "metadata": {},
      "outputs": [
        {
          "name": "stdout",
          "output_type": "stream",
          "text": [
            "Concatenación: Hola Ana, tienes 21\n",
            "Print múltiple: Hola Ana tienes 21\n",
            "f-string: Hola Ana, tienes 21\n"
          ]
        }
      ],
      "source": [
        "nombre, edad = \"Ana\", 21\n",
        "print(\"Concatenación:\", \"Hola \" + nombre + \", tienes \" + str(edad))\n",
        "print(\"Print múltiple:\", end=\" \")\n",
        "print(\"Hola\", nombre, \"tienes\", edad)\n",
        "print(\"f-string:\", f\"Hola {nombre}, tienes {edad}\")\n"
      ]
    },
    {
      "cell_type": "code",
      "execution_count": 25,
      "metadata": {},
      "outputs": [
        {
          "name": "stdout",
          "output_type": "stream",
          "text": [
            "Hola Ana tienes 21\n",
            "Hola Ana, tienes 21\n",
            "pi con 2 decimales: 3.14\n",
            "Ancho fijo: |       Ana|\n"
          ]
        }
      ],
      "source": [
        "nombre = \"Ana\"\n",
        "edad = 21\n",
        "pi = 3.14159\n",
        "\n",
        "print(\"Hola\", nombre, \"tienes\", edad)\n",
        "print(f\"Hola {nombre}, tienes {edad}\")\n",
        "print(f\"pi con 2 decimales: {pi:.2f}\")\n",
        "print(f\"Ancho fijo: |{nombre:>10}|\")\n",
        "\n"
      ]
    },
    {
      "cell_type": "markdown",
      "metadata": {},
      "source": [
        "## Built-ins útiles\n",
        "\n",
        "- `print`, `len`, `type`, `help`\n",
        "- `sum`, `min`, `max`, `sorted`\n",
        "- `any`, `all`\n",
        "\n",
        "Consejo: usa `help(func)` para ver documentación rápida.\n"
      ]
    },
    {
      "cell_type": "code",
      "execution_count": 26,
      "metadata": {},
      "outputs": [
        {
          "name": "stdout",
          "output_type": "stream",
          "text": [
            "len(xs): 4\n",
            "sum(xs): 6\n",
            "any(xs): True\n",
            "all(xs): False\n",
            "Help on built-in function len in module builtins:\n",
            "\n",
            "len(obj, /)\n",
            "    Return the number of items in a container.\n",
            "\n"
          ]
        }
      ],
      "source": [
        "xs = [0, 1, 2, 3]\n",
        "print(\"len(xs):\", len(xs))\n",
        "print(\"sum(xs):\", sum(xs))\n",
        "print(\"any(xs):\", any(xs))\n",
        "print(\"all(xs):\", all(xs))\n",
        "help(len)\n",
        "\n"
      ]
    },
    {
      "cell_type": "markdown",
      "metadata": {},
      "source": [
        "## Diferencias clave Java → Python (rápido)\n",
        "\n",
        "- Tipado: Java es estático; Python es dinámico (el tipo va con el valor).\n",
        "- Declaración: en Python no declaras tipos al asignar (`x = 5`).\n",
        "- `==` vs `is`: `==` compara valor; `is` compara identidad (misma referencia).\n",
        "- Mutabilidad: listas/dicts son mutables; `tuple` y `str` son inmutables.\n",
        "- Indentación: bloques se definen por espacios, no llaves `{}`.\n",
        "\n",
        "Prueba comparar `==` e `is` y mutar listas para ver los efectos.\n"
      ]
    },
    {
      "cell_type": "code",
      "execution_count": 27,
      "metadata": {},
      "outputs": [
        {
          "name": "stdout",
          "output_type": "stream",
          "text": [
            "True\n",
            "False\n",
            "[1, 2, 3] [1, 2]\n"
          ]
        }
      ],
      "source": [
        "# == vs is\n",
        "print([1,2] == [1,2])   # True (mismo valor)\n",
        "a = [1,2]\n",
        "b = [1,2]\n",
        "print(a is b)           # False (distintas referencias)\n",
        "\n",
        "# mutabilidad\n",
        "a.append(3)\n",
        "print(a, b)             # b no cambió\n",
        "\n"
      ]
    }
  ],
  "metadata": {
    "kernelspec": {
      "display_name": ".venv",
      "language": "python",
      "name": "python3"
    },
    "language_info": {
      "codemirror_mode": {
        "name": "ipython",
        "version": 3
      },
      "file_extension": ".py",
      "mimetype": "text/x-python",
      "name": "python",
      "nbconvert_exporter": "python",
      "pygments_lexer": "ipython3",
      "version": "3.10.12"
    }
  },
  "nbformat": 4,
  "nbformat_minor": 2
}
