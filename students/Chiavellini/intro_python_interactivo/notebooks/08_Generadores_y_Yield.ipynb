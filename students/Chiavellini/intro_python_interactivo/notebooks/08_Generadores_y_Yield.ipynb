{
  "cells": [
    {
      "cell_type": "markdown",
      "metadata": {},
      "source": [
        "# Generadores y `yield`\n",
        "\n",
        "- Qué es `yield` y por qué ahorra memoria\n",
        "- Generadores compuestos y ventanas deslizantes\n",
        "- Comparaciones con listas (memoria/tiempo)\n",
        "\n",
        "Ejercicios guiados (cuadrados, ventanas).\n"
      ]
    },
    {
      "cell_type": "markdown",
      "metadata": {},
      "source": [
        "## `yield` y memoria\n",
        "\n",
        "Un generador produce valores bajo demanda; útil para secuencias largas sin usar mucha memoria.\n"
      ]
    },
    {
      "cell_type": "code",
      "execution_count": 1,
      "metadata": {},
      "outputs": [
        {
          "name": "stdout",
          "output_type": "stream",
          "text": [
            "[0, 1, 4, 9, 16, 25]\n"
          ]
        }
      ],
      "source": [
        "def cuadrados(n):\n",
        "    for i in range(n):\n",
        "        yield i*i\n",
        "\n",
        "print(list(cuadrados(6)))\n",
        "\n"
      ]
    },
    {
      "cell_type": "code",
      "execution_count": 2,
      "metadata": {},
      "outputs": [
        {
          "name": "stdout",
          "output_type": "stream",
          "text": [
            "[[1, 2, 3], [2, 3, 4]]\n"
          ]
        }
      ],
      "source": [
        "# ventanas deslizantes\n",
        "def ventanas(iterable, k):\n",
        "    xs = list(iterable)\n",
        "    for i in range(0, len(xs)-k+1):\n",
        "        yield xs[i:i+k]\n",
        "\n",
        "print(list(ventanas([1,2,3,4], 3)))\n",
        "\n"
      ]
    },
    {
      "cell_type": "code",
      "execution_count": 3,
      "metadata": {},
      "outputs": [
        {
          "name": "stdout",
          "output_type": "stream",
          "text": [
            "crear lista: 0.0042s\n",
            "sumar generador: 0.0093s\n"
          ]
        }
      ],
      "source": [
        "# comparación rápida lista vs generador\n",
        "import time\n",
        "N = 100_000\n",
        "inicio = time.time()\n",
        "_ = list(range(N))\n",
        "print(\"crear lista:\", f\"{time.time()-inicio:.4f}s\")\n",
        "\n",
        "def gen(n):\n",
        "    for i in range(n):\n",
        "        yield i\n",
        "\n",
        "inicio = time.time()\n",
        "_ = sum(gen(N))\n",
        "print(\"sumar generador:\", f\"{time.time()-inicio:.4f}s\")\n",
        "\n"
      ]
    },
    {
      "cell_type": "markdown",
      "metadata": {},
      "source": [
        "## Particularidades de generadores\n",
        "\n",
        "- Son de un solo uso: una vez consumidos, no se reinician.\n",
        "- Puedes clonarlos (hasta cierto punto) con `itertools.tee`, con costo de memoria.\n",
        "- `yield from` delega a otro generador/iterable.\n",
        "- Las generator expressions `(expr for x in xs)` son perezosas como `map`/`filter`.\n"
      ]
    },
    {
      "cell_type": "code",
      "execution_count": 4,
      "metadata": {},
      "outputs": [
        {
          "name": "stdout",
          "output_type": "stream",
          "text": [
            "[0, 1, 2]\n",
            "[]\n",
            "[0, 1, 2] [0, 1, 2]\n",
            "[0, 1, 2, 10, 20]\n"
          ]
        }
      ],
      "source": [
        "import itertools\n",
        "\n",
        "def gen():\n",
        "    for i in range(3):\n",
        "        yield i\n",
        "\n",
        "# un solo uso\n",
        "g = gen()\n",
        "print(list(g))\n",
        "print(list(g))  # vacío la segunda vez\n",
        "\n",
        "# tee para duplicar iteradores\n",
        "g2 = gen()\n",
        "a, b = itertools.tee(g2)\n",
        "print(list(a), list(b))\n",
        "\n",
        "# yield from\n",
        "\n",
        "def gen2():\n",
        "    yield from range(3)\n",
        "    yield from [10, 20]\n",
        "print(list(gen2()))\n",
        "\n"
      ]
    },
    {
      "cell_type": "markdown",
      "metadata": {},
      "source": [
        "## Cómo imprime `print` generadores vs listas\n",
        "\n",
        "- Un generador no muestra todos sus valores: verás `<generator object ...>`.\n",
        "- Convierte a lista para ver los elementos (`list(gen)`), pero recuerda que consume el generador.\n"
      ]
    },
    {
      "cell_type": "code",
      "execution_count": 5,
      "metadata": {},
      "outputs": [
        {
          "name": "stdout",
          "output_type": "stream",
          "text": [
            "print(g): <generator object gen_demo at 0x7819842851c0>\n",
            "list(g): [0, 1, 2]\n",
            "list(g) de nuevo: []\n"
          ]
        }
      ],
      "source": [
        "def gen_demo():\n",
        "    for i in range(3):\n",
        "        yield i\n",
        "\n",
        "g = gen_demo()\n",
        "print(\"print(g):\", g)           # muestra el objeto generador\n",
        "print(\"list(g):\", list(g))      # consume y muestra contenidos\n",
        "print(\"list(g) de nuevo:\", list(g))  # ya fue consumido → vacío\n",
        "\n"
      ]
    }
  ],
  "metadata": {
    "kernelspec": {
      "display_name": ".venv",
      "language": "python",
      "name": "python3"
    },
    "language_info": {
      "codemirror_mode": {
        "name": "ipython",
        "version": 3
      },
      "file_extension": ".py",
      "mimetype": "text/x-python",
      "name": "python",
      "nbconvert_exporter": "python",
      "pygments_lexer": "ipython3",
      "version": "3.10.12"
    }
  },
  "nbformat": 4,
  "nbformat_minor": 2
}
