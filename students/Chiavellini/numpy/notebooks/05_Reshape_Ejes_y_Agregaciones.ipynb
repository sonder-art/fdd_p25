{
  "cells": [
    {
      "cell_type": "markdown",
      "metadata": {},
      "source": [
        "<a target=\"_blank\" href=\"https://colab.research.google.com/github/sonder-art/fdd_p25/blob/main/professor/numpy/notebooks/05_Reshape_Ejes_y_Agregaciones.ipynb\">\n",
        "  <img src=\"https://colab.research.google.com/assets/colab-badge.svg\" alt=\"Open In Colab\"/>\n",
        "</a>\n"
      ]
    },
    {
      "cell_type": "markdown",
      "metadata": {},
      "source": [
        "# 05 — Reshape, Ejes y Agregaciones\n",
        "\n",
        "- `reshape` y volver a 1D\n",
        "- `axis` en `sum`/`mean`\n",
        "- Función auxiliar para explorar ejes\n",
        "\n"
      ]
    },
    {
      "cell_type": "code",
      "execution_count": null,
      "metadata": {},
      "outputs": [],
      "source": [
        "import numpy as np\n",
        "\n",
        "# reshape y volver a plano\n",
        "arr = np.arange(10)\n",
        "M = arr.reshape(2,5)\n",
        "flat = M.reshape(-1)\n",
        "arr, M, flat\n"
      ]
    },
    {
      "cell_type": "code",
      "execution_count": null,
      "metadata": {},
      "outputs": [],
      "source": [
        "# agregaciones y axis\n",
        "A = np.array([[1,2,3],[4,5,6]])\n",
        "(\n",
        "    np.sum(A),\n",
        "    np.sum(A, axis=0),  # por columnas\n",
        "    np.sum(A, axis=1),  # por filas\n",
        "    np.mean(A),\n",
        "    np.mean(A, axis=0),\n",
        "    np.mean(A, axis=1),\n",
        ")\n"
      ]
    },
    {
      "cell_type": "code",
      "execution_count": null,
      "metadata": {},
      "outputs": [],
      "source": [
        "def explore_axis(v: np.ndarray, axis: int | None):\n",
        "    w = np.sum(v, axis=axis)\n",
        "    print(f\"axis={axis} -> shape={w.shape}, original={v.shape}\")\n",
        "    return w\n",
        "\n",
        "T = np.array([[[1,2,3],[-1,-2,-3]], [[-4,-5,-6],[4,5,6]]])\n",
        "explore_axis(T, 0)\n",
        "explore_axis(T, 1)\n",
        "explore_axis(T, 2)\n",
        "explore_axis(T, None)\n"
      ]
    }
  ],
  "metadata": {
    "language_info": {
      "name": "python"
    }
  },
  "nbformat": 4,
  "nbformat_minor": 2
}
