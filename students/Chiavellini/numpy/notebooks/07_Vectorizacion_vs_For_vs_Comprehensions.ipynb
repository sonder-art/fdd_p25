{
  "cells": [
    {
      "cell_type": "markdown",
      "metadata": {},
      "source": [
        "<a target=\"_blank\" href=\"https://colab.research.google.com/github/sonder-art/fdd_p25/blob/main/professor/numpy/notebooks/07_Vectorizacion_vs_For_vs_Comprehensions.ipynb\">\n",
        "  <img src=\"https://colab.research.google.com/assets/colab-badge.svg\" alt=\"Open In Colab\"/>\n",
        "</a>\n"
      ]
    },
    {
      "cell_type": "markdown",
      "metadata": {},
      "source": [
        "# 07 — Vectorización vs for vs comprensiones\n",
        "\n",
        "- `timeit` para medir rendimiento\n",
        "- Comparar multiplicación, suma y funciones trigonométricas\n",
        "- Conclusión: cuándo vectorizar y cuándo no\n",
        "\n"
      ]
    },
    {
      "cell_type": "code",
      "execution_count": null,
      "metadata": {},
      "outputs": [],
      "source": [
        "import numpy as np\n",
        "import math, timeit\n",
        "\n",
        "n = 100_000\n",
        "arr = np.arange(n, dtype=float)\n",
        "\n",
        "# for loop\n",
        "def times_two_for(a):\n",
        "    out = []\n",
        "    for x in a:\n",
        "        out.append(x*2)\n",
        "    return out\n",
        "\n",
        "# list comprehension\n",
        "def times_two_comp(a):\n",
        "    return [x*2 for x in a]\n",
        "\n",
        "# numpy\n",
        "def times_two_np(a):\n",
        "    return a*2\n",
        "\n",
        "res = (\n",
        "    timeit.timeit(lambda: times_two_for(arr), number=10),\n",
        "    timeit.timeit(lambda: times_two_comp(arr), number=10),\n",
        "    timeit.timeit(lambda: times_two_np(arr), number=10),\n",
        ")\n",
        "res\n"
      ]
    },
    {
      "cell_type": "code",
      "execution_count": null,
      "metadata": {},
      "outputs": [],
      "source": [
        "# Generators (yield) vs NumPy\n",
        "\n",
        "def times_two_gen(a):\n",
        "    return (x*2 for x in a)  # generator (lazy)\n",
        "\n",
        "# Para medir de forma comparable, materializamos\n",
        "res_gen = timeit.timeit(lambda: list(times_two_gen(arr)), number=10)\n",
        "res_np = timeit.timeit(lambda: times_two_np(arr), number=10)\n",
        "res_gen, res_np\n"
      ]
    }
  ],
  "metadata": {
    "language_info": {
      "name": "python"
    }
  },
  "nbformat": 4,
  "nbformat_minor": 2
}
