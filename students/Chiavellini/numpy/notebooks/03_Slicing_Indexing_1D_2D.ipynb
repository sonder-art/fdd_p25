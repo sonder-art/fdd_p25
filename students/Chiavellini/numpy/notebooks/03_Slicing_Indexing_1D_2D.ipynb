{
  "cells": [
    {
      "cell_type": "markdown",
      "metadata": {},
      "source": [
        "<a target=\"_blank\" href=\"https://colab.research.google.com/github/sonder-art/fdd_p25/blob/main/professor/numpy/notebooks/03_Slicing_Indexing_1D_2D.ipynb\">\n",
        "  <img src=\"https://colab.research.google.com/assets/colab-badge.svg\" alt=\"Open In Colab\"/>\n",
        "<"
      ]
    },
    {
      "cell_type": "markdown",
      "metadata": {},
      "source": [
        "# 03 — Slicing e Indexación (1D y 2D)\n",
        "\n",
        "- Indexación básica y booleana\n",
        "- Slicing por rangos y saltos\n",
        "- `None` para agregar ejes: `n x 1` vs `n x None`\n",
        "- Diferencias entre 1D y 2D\n",
        "\n"
      ]
    },
    {
      "cell_type": "code",
      "execution_count": null,
      "metadata": {},
      "outputs": [],
      "source": [
        "import numpy as np\n",
        "\n",
        "arr = np.array([1,2,3,4,5])\n",
        "idx = arr[[0,2,4]]\n",
        "mask = arr % 2 == 1\n",
        "(arr[1:], arr[::2], idx, arr[mask])\n"
      ]
    },
    {
      "cell_type": "code",
      "execution_count": null,
      "metadata": {},
      "outputs": [],
      "source": [
        "# None agrega un eje nuevo\n",
        "v = np.arange(5)\n",
        "col = v[:, None]   # n x 1\n",
        "row = v[None, :]   # 1 x n\n",
        "(v.shape, col.shape, row.shape)\n"
      ]
    },
    {
      "cell_type": "code",
      "execution_count": null,
      "metadata": {},
      "outputs": [],
      "source": [
        "# 2D slicing\n",
        "M = np.arange(1, 13).reshape(3,4)\n",
        "(\n",
        "    M,\n",
        "    M[0, :],      # primera fila\n",
        "    M[:, 0],      # primera columna\n",
        "    M[1:, 1:3],   # submatriz\n",
        ")\n"
      ]
    }
  ],
  "metadata": {
    "language_info": {
      "name": "python"
    }
  },
  "nbformat": 4,
  "nbformat_minor": 2
}
