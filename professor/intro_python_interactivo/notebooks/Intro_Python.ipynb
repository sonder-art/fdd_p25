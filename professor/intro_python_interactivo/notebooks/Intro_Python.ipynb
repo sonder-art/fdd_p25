{
  "cells": [
    {
      "cell_type": "markdown",
      "metadata": {},
      "source": [
        "# Guía rápida para usar Jupyter en VS Code (principiantes)\n",
        "\n",
        "- Celdas: bloques de texto (Markdown) o código Python.\n",
        "- Ejecutar una celda: botón ▶ a la izquierda o Shift+Enter.\n",
        "- Ejecutar todo: menú del cuaderno → Run All. Run Above/Below para ejecutar varias.\n",
        "- Kernel (motor de Python): arriba a la derecha, selecciona tu `.venv` si creaste uno.\n",
        "- Agregar celdas: botones `+ Code` / `+ Markdown`. También desde el menú de una celda.\n",
        "- Convertir tipo de celda: en la barra de la celda (Code ↔ Markdown).\n",
        "- Borrar una celda: icono papelera en la barra de la celda.\n",
        "- Reiniciar kernel: si algo quedó en mal estado, usa Restart Kernel.\n",
        "\n",
        "Consejo: modifica el código, re‑ejecuta y observa. ¡Experimentar es la clave!\n"
      ]
    },
    {
      "cell_type": "markdown",
      "metadata": {},
      "source": [
        "## Atajos útiles en VS Code Notebooks (rápido)\n",
        "\n",
        "- Ejecutar celda: Shift+Enter\n",
        "- Ejecutar sin moverse: Ctrl+Enter\n",
        "- Ejecutar y crear debajo: Alt+Enter\n",
        "- Insertar celda arriba/abajo: Paleta (Ctrl+Shift+P) → \"Notebook: Insert Cell Above/Below\"\n",
        "- Mover celda arriba/abajo: Alt+↑ / Alt+↓\n",
        "- Borrar celda: Paleta → \"Notebook: Delete Cell\" (o icono papelera en la celda)\n",
        "- Cambiar tipo (Code ↔ Markdown): Paleta → \"Notebook: Change Cell To...\"\n",
        "- Comentar toda la celda: selecciona todo el código de la celda y usa Ctrl+/ (toggle comment)\n",
        "  - Tip: haz clic en el borde izquierdo de la celda para enfocar, luego Ctrl+A (seleccionar todo) y Ctrl+/\n",
        "- Autocompletar/sugerencias: Ctrl+Espacio (o Tab en muchos casos)\n",
        "- Abrir Paleta de Comandos: Ctrl+Shift+P\n",
        "- Interrumpir/Reiniciar kernel: Paleta → \"Notebook: Interrupt Kernel\" / \"Notebook: Restart Kernel\"\n",
        "\n",
        "Más info oficial:\n",
        "- VS Code + Notebooks: https://code.visualstudio.com/docs/datascience/jupyter-notebooks\n",
        "- Atajos de Notebooks: https://code.visualstudio.com/docs/editor/notebooks#_keyboard-shortcuts\n"
      ]
    },
    {
      "cell_type": "markdown",
      "metadata": {},
      "source": [
        "## Antes de empezar: ¿Qué es programar y qué es Python?\n",
        "\n",
        "- Programar es darle instrucciones a la computadora para que haga tareas repetibles y precisas.\n",
        "- Python es un lenguaje claro y muy usado para aprender, ciencia de datos, web, automatización y más.\n",
        "- Archivos `.py`: guion de Python que se ejecuta completo.\n",
        "- Notebooks: documento interactivo con bloques pequeños para probar y aprender paso a paso.\n",
        "\n",
        "Consejo: aprenderás practicando. Cambia los valores en las celdas y observa cómo cambia la salida.\n"
      ]
    },
    {
      "cell_type": "markdown",
      "metadata": {},
      "source": [
        "## Variables, expresiones y sentencias (muy básico)\n",
        "\n",
        "- Variable: un nombre que guarda un valor (`x = 5`).\n",
        "- Expresión: algo que produce un valor (`2 + 3`).\n",
        "- Sentencia (instrucción): `print(x)` o `if ...:`.\n",
        "- Comentarios: empiezan con `#`, se leen, no se ejecutan.\n",
        "\n",
        "Prueba cambiar `x` y re‑ejecuta.\n"
      ]
    },
    {
      "cell_type": "code",
      "execution_count": 3,
      "metadata": {},
      "outputs": [
        {
          "name": "stdout",
          "output_type": "stream",
          "text": [
            "x vale: 5\n",
            "x + 3 = 8\n"
          ]
        }
      ],
      "source": [
        "x = 5\n",
        "print(\"x vale:\", x)\n",
        "print(\"x + 3 =\", x + 3)\n",
        "# Cambia x a otro número y ejecuta de nuevo\n",
        "\n"
      ]
    },
    {
      "cell_type": "markdown",
      "metadata": {},
      "source": [
        "## Cómo leer errores (Traceback)\n",
        "\n",
        "Cuando algo falla, Python muestra un «Traceback»: te dice en qué archivo, línea y función ocurrió el error y el tipo de error (por ejemplo, `TypeError`, `ZeroDivisionError`).\n",
        "\n",
        "- Lee de abajo hacia arriba: la última línea suele decir el tipo y el mensaje del error.\n",
        "- Busca la línea exacta donde falló (VS Code suele poner un enlace/clic).\n",
        "- Corrige el dato o el código y re‑ejecuta.\n"
      ]
    },
    {
      "cell_type": "code",
      "execution_count": 4,
      "metadata": {},
      "outputs": [],
      "source": [
        "# # Provoca un error intencional y léelo con calma\n",
        "# try:\n",
        "#     print(10 / 0)\n",
        "# except Exception as e:\n",
        "#     print(\"Capturado:\", type(e).__name__, \"-\", e)\n",
        "#     # Vuelve a lanzar para ver el Traceback en el notebook\n",
        "#     raise\n"
      ]
    },
    {
      "cell_type": "markdown",
      "metadata": {},
      "source": [
        "## Importaciones (¿qué es `import`?)\n",
        "\n",
        "- `import` trae código de otro archivo (módulo) para poder usarlo aquí.\n",
        "- Python busca módulos en la biblioteca estándar y en tu entorno.\n",
        "- Formas comunes:\n",
        "  - `import math`\n",
        "  - `from math import sqrt`\n",
        "  - `import math as m` (alias)\n",
        "\n",
        "Tip: usa `help(modulo)` o `help(funcion)` para leer su documentación.\n"
      ]
    },
    {
      "cell_type": "code",
      "execution_count": 5,
      "metadata": {},
      "outputs": [
        {
          "name": "stdout",
          "output_type": "stream",
          "text": [
            "pi: 3.141592653589793\n",
            "sqrt(144): 12.0\n",
            "Help on built-in function trunc in module math:\n",
            "\n",
            "trunc(x, /)\n",
            "    Truncates the Real x to the nearest Integral toward 0.\n",
            "    \n",
            "    Uses the __trunc__ magic method.\n",
            "\n"
          ]
        }
      ],
      "source": [
        "import math as m\n",
        "from math import sqrt\n",
        "\n",
        "print(\"pi:\", m.pi)\n",
        "print(\"sqrt(144):\", sqrt(144))\n",
        "help(m.trunc)  \n"
      ]
    },
    {
      "cell_type": "markdown",
      "metadata": {},
      "source": [
        "## Booleans e instrucciones if/elif/else\n",
        "\n",
        "- Valores booleanos: `True` y `False`.\n",
        "- Un `if` ejecuta un bloque si la condición es verdadera.\n",
        "- `elif` (si no se cumplió lo anterior y se cumple esta condición), `else` para el caso contrario.\n",
        "- Truthiness: en condiciones, Python trata como falso a `0`, `\"\"`, `[]`, `{}`, `set()`, `None`.\n",
        "\n",
        "Piensa en: “¿hay algo/está vacío?” y prueba con ejemplos.\n"
      ]
    },
    {
      "cell_type": "code",
      "execution_count": 6,
      "metadata": {},
      "outputs": [
        {
          "name": "stdout",
          "output_type": "stream",
          "text": [
            "positivo\n",
            " → se considera FALSO\n",
            "[] → se considera FALSO\n",
            "0 → se considera FALSO\n",
            "texto → se considera VERDADERO\n",
            "[1] → se considera VERDADERO\n",
            "7 → se considera VERDADERO\n",
            "None → se considera FALSO\n"
          ]
        }
      ],
      "source": [
        "x = 10\n",
        "if x > 0:\n",
        "    print(\"positivo\")\n",
        "elif x == 0:\n",
        "    print(\"cero\")\n",
        "else:\n",
        "    print(\"negativo\")\n",
        "\n",
        "# truthiness\n",
        "a = \"\"  # cadena vacía\n",
        "b = []  # lista vacía\n",
        "c = 0\n",
        "for valor in [a, b, c, \"texto\", [1], 7, None]:\n",
        "    if valor:\n",
        "        print(valor, \"→ se considera VERDADERO\")\n",
        "    else:\n",
        "        print(valor, \"→ se considera FALSO\")\n",
        "\n"
      ]
    },
    {
      "cell_type": "markdown",
      "metadata": {},
      "source": [
        "## Funciones integradas (built-ins) útiles\n",
        "\n",
        "- `print(x)`: muestra valores.\n",
        "- `len(x)`: longitud (listas, cadenas, etc.).\n",
        "- `type(x)`: tipo del valor.\n",
        "- `help(obj)`: documentación rápida (sal con `q`).\n",
        "- `sum(iterable)`: suma elementos numéricos.\n",
        "- `any(iterable)`: True si algún elemento es verdadero.\n",
        "- `all(iterable)`: True si todos los elementos son verdaderos.\n",
        "\n",
        "Prueba cambiar los valores y re‑ejecuta.\n"
      ]
    },
    {
      "cell_type": "code",
      "execution_count": 7,
      "metadata": {},
      "outputs": [
        {
          "name": "stdout",
          "output_type": "stream",
          "text": [
            "len(xs): 4\n",
            "type(xs): <class 'list'>\n",
            "sum(xs): 6\n",
            "any(xs): True\n",
            "all(xs): False\n",
            "Help on built-in function len in module builtins:\n",
            "\n",
            "len(obj, /)\n",
            "    Return the number of items in a container.\n",
            "\n"
          ]
        }
      ],
      "source": [
        "xs = [0, 1, 2, 3]\n",
        "print(\"len(xs):\", len(xs))\n",
        "print(\"type(xs):\", type(xs))\n",
        "print(\"sum(xs):\", sum(xs))\n",
        "print(\"any(xs):\", any(xs))\n",
        "print(\"all(xs):\", all(xs))\n",
        "help(len)  # cierra con q\n",
        "\n"
      ]
    },
    {
      "cell_type": "markdown",
      "metadata": {},
      "source": [
        "## List comprehensions (el camino «pythonic»)\n",
        "\n",
        "Una list comprehension crea una lista nueva a partir de un iterable, escribiendo la intención en una sola línea clara:\n",
        "\n",
        "- Forma básica: `[expresion for x in iterable]`\n",
        "- Con filtro: `[expresion for x in iterable if condicion]`\n",
        "- Anidadas: `[exp for x in X for y in Y if cond]` (lee de izquierda a derecha)\n",
        "\n",
        "Ventajas:\n",
        "- Más legibles que un `for`+`append` repetitivo.\n",
        "- Suele ser más rápida y directa.\n",
        "\n",
        "Equivalencias:\n",
        "- `[f(x) for x in xs]` ≈ `list(map(f, xs))`\n",
        "- `[x for x in xs if pred(x)]` ≈ `list(filter(pred, xs))`\n"
      ]
    },
    {
      "cell_type": "code",
      "execution_count": 8,
      "metadata": {},
      "outputs": [
        {
          "name": "stdout",
          "output_type": "stream",
          "text": [
            "[2, 4, 6, 8]\n",
            "[4, 16]\n",
            "[(1, 10), (1, 20), (1, 30), (2, 10), (2, 20), (2, 30)]\n"
          ]
        }
      ],
      "source": [
        "# Básicas\n",
        "xs = [1, 2, 3, 4]\n",
        "dobles = [x * 2 for x in xs]\n",
        "print(dobles)\n",
        "\n",
        "# Con filtro (solo pares)\n",
        "pares_cuadrados = [x * x for x in xs if x % 2 == 0]\n",
        "print(pares_cuadrados)\n",
        "\n",
        "# Anidadas (producto cartesiano)\n",
        "X = [1, 2]\n",
        "Y = [10, 20, 30]\n",
        "combos = [(x, y) for x in X for y in Y]\n",
        "print(combos)\n",
        "\n"
      ]
    },
    {
      "cell_type": "markdown",
      "metadata": {},
      "source": [
        "Consejos:\n",
        "\n",
        "- Prefiere comprehensions cuando la transformación es clara en una línea.\n",
        "- Si la lógica se complica (muchos `if`/bucles), usa `for` tradicionales para legibilidad.\n",
        "- Existen también dict/set comprehensions: `{k: v for ...}` y `{x for ...}`.\n",
        "- Las generator expressions `(... for x in ...)` son como comprehensions pero perezosas (útiles con `sum`, `any`, `all`).\n"
      ]
    },
    {
      "cell_type": "markdown",
      "metadata": {},
      "source": [
        "## Cadenas y f-strings (formateo)\n",
        "\n",
        "- Una cadena es texto entre comillas: `\"hola\"`.\n",
        "- F-strings te dejan insertar valores dentro del texto: `f\"x={x}\"`.\n",
        "- Puedes controlar formatos (decimales, alineación, etc.).\n"
      ]
    },
    {
      "cell_type": "code",
      "execution_count": 10,
      "metadata": {},
      "outputs": [
        {
          "name": "stdout",
          "output_type": "stream",
          "text": [
            "Hola Ana tienes 21\n",
            "Hola Ana, tienes 21\n",
            "pi con 2 decimales: 3.14\n",
            "Ancho fijo: |       Ana| (alineado a la derecha)\n"
          ]
        }
      ],
      "source": [
        "nombre = \"Ana\"\n",
        "edad = 21\n",
        "pi = 3.14159265\n",
        "\n",
        "print(\"Hola\", nombre, \"tienes\", edad)\n",
        "print(f\"Hola {nombre}, tienes {edad}\")\n",
        "print(f\"pi con 2 decimales: {pi:.2f}\")\n",
        "print(f\"Ancho fijo: |{nombre:>10}| (alineado a la derecha)\")\n",
        "\n"
      ]
    },
    {
      "cell_type": "markdown",
      "metadata": {},
      "source": [
        "## Funciones: definición, docstrings, parámetros y `assert`\n",
        "\n",
        "- Definición: `def nombre(parametros): ...` devuelve con `return`.\n",
        "- Docstring: texto al inicio de la función (triple comilla) que explica qué hace, argumentos y retorno; `help(func)` lo muestra.\n",
        "- Parámetros por defecto: `def f(x, y=10)`.\n",
        "- `assert condicion`: verifica una condición; si no se cumple, detiene con error (útil para pruebas rápidas).\n"
      ]
    },
    {
      "cell_type": "code",
      "execution_count": 11,
      "metadata": {},
      "outputs": [
        {
          "name": "stdout",
          "output_type": "stream",
          "text": [
            "Help on function area_rectangulo in module __main__:\n",
            "\n",
            "area_rectangulo(base: float, altura: float = 1.0) -> float\n",
            "    Calcula el área de un rectángulo.\n",
            "    \n",
            "    Args:\n",
            "        base: ancho del rectángulo (float > 0)\n",
            "        altura: alto del rectángulo (float > 0), por defecto 1.0\n",
            "    Returns:\n",
            "        Área como número de punto flotante.\n",
            "\n",
            "OK asserts\n"
          ]
        }
      ],
      "source": [
        "def area_rectangulo(base: float, altura: float = 1.0) -> float:\n",
        "    \"\"\"Calcula el área de un rectángulo.\n",
        "\n",
        "    Args:\n",
        "        base: ancho del rectángulo (float > 0)\n",
        "        altura: alto del rectángulo (float > 0), por defecto 1.0\n",
        "    Returns:\n",
        "        Área como número de punto flotante.\n",
        "    \"\"\"\n",
        "    return base * altura\n",
        "\n",
        "help(area_rectangulo)\n",
        "\n",
        "# asserts (pruebas rápidas)\n",
        "assert area_rectangulo(2, 3) == 6\n",
        "assert area_rectangulo(5) == 5.0\n",
        "print(\"OK asserts\")\n",
        "\n"
      ]
    },
    {
      "cell_type": "markdown",
      "metadata": {},
      "source": [
        "## Iterables: ¿qué son y cómo se recorren?\n",
        "\n",
        "- Un iterable es algo que puedes recorrer elemento por elemento (listas, cadenas, rangos, sets, dicts).\n",
        "- `for x in iterable:` recorre cada elemento.\n",
        "- `enumerate(iterable)`: te da pares `(indice, valor)`.\n",
        "- `zip(a, b)`: combina dos (o más) iterables en pares.\n",
        "\n",
        "Observa con impresiones paso a paso.\n"
      ]
    },
    {
      "cell_type": "code",
      "execution_count": 12,
      "metadata": {},
      "outputs": [
        {
          "name": "stdout",
          "output_type": "stream",
          "text": [
            "Recorriendo cadena:\n",
            "- a\n",
            "- b\n",
            "- c\n",
            "\n",
            "Usando enumerate:\n",
            "1 a\n",
            "2 b\n",
            "3 c\n",
            "\n",
            "Combinando con zip:\n",
            "a ↔ 10\n",
            "b ↔ 20\n",
            "c ↔ 30\n"
          ]
        }
      ],
      "source": [
        "texto = \"abc\"\n",
        "print(\"Recorriendo cadena:\")\n",
        "for ch in texto:\n",
        "    print(\"-\", ch)\n",
        "\n",
        "print(\"\\nUsando enumerate:\")\n",
        "for idx, ch in enumerate(texto, start=1):\n",
        "    print(idx, ch)\n",
        "\n",
        "print(\"\\nCombinando con zip:\")\n",
        "nums = [10, 20, 30]\n",
        "for ch, n in zip(texto, nums):\n",
        "    print(f\"{ch} ↔ {n}\")\n",
        "\n"
      ]
    },
    {
      "cell_type": "markdown",
      "metadata": {},
      "source": [
        "## Excepciones: `try`, `except`, `else`, `finally`\n",
        "\n",
        "- Una excepción es un error en tiempo de ejecución (por ejemplo, dividir entre cero).\n",
        "- `try`: bloque que puede fallar.\n",
        "- `except TipoDeError as e`: captura un tipo específico y te da el objeto error (`e`).\n",
        "- `else`: se ejecuta solo si NO hubo error en el `try`.\n",
        "- `finally`: se ejecuta SIEMPRE (para limpiar recursos, cerrar archivos, etc.). Se usa despues de \n",
        "\n",
        "Ejemplo: divide y maneja errores.\n"
      ]
    },
    {
      "cell_type": "code",
      "execution_count": 13,
      "metadata": {},
      "outputs": [
        {
          "name": "stdout",
          "output_type": "stream",
          "text": [
            "5.0\n",
            "Error: division by zero (no se puede dividir entre cero)\n",
            "Error de tipo: unsupported operand type(s) for /: 'int' and 'str' (asegúrate de usar números)\n"
          ]
        }
      ],
      "source": [
        "def divide_seguro(a: float, b: float) -> float | str:\n",
        "    try:\n",
        "        resultado = a / b\n",
        "    except ZeroDivisionError as e:\n",
        "        return f\"Error: {e} (no se puede dividir entre cero)\"\n",
        "    except TypeError as e:\n",
        "        return f\"Error de tipo: {e} (asegúrate de usar números)\"\n",
        "    else:\n",
        "        return resultado\n",
        "    finally:\n",
        "        # Aquí podrías cerrar archivos o liberar recursos\n",
        "        pass\n",
        "\n",
        "print(divide_seguro(10, 2))\n",
        "print(divide_seguro(10, 0))\n",
        "print(divide_seguro(10, \"x\"))\n",
        "\n"
      ]
    },
    {
      "cell_type": "markdown",
      "metadata": {},
      "source": [
        "## Experimentos con `timeit` (explicación detallada)\n",
        "\n",
        "- `timeit.repeat(funcion, number, repeat)`: ejecuta varias veces y devuelve tiempos (segundos).\n",
        "- Usa `mean` y `stdev` (desviación estándar) para resumir.\n",
        "- Cambia `n`, `repeat`, `number` y observa cómo varía.\n",
        "\n",
        "Guía:\n",
        "1) Hipótesis: ¿qué enfoque crees que será más rápido y por qué?\n",
        "2) Mide dos enfoques que hagan lo mismo.\n",
        "3) Compara con `mean` y `stdev`.\n",
        "4) Cambia el tamaño del problema.\n",
        "5) Escribe una conclusión breve (2 líneas).\n"
      ]
    },
    {
      "cell_type": "code",
      "execution_count": 14,
      "metadata": {},
      "outputs": [
        {
          "name": "stdout",
          "output_type": "stream",
          "text": [
            "Construcción de lista: comprensión vs append\n",
            "  comprensión → 11.84 ms ± 2.50 ms\n",
            "  append      → 13.34 ms ± 1.43 ms\n"
          ]
        }
      ],
      "source": [
        "import timeit\n",
        "from statistics import mean, stdev\n",
        "\n",
        "n = 100_000\n",
        "repeat = 7\n",
        "number = 1\n",
        "\n",
        "print(\"Construcción de lista: comprensión vs append\")\n",
        "comp = timeit.repeat(lambda: [i*i for i in range(n)], number=number, repeat=repeat)\n",
        "\n",
        "def build_with_append():\n",
        "    out = []\n",
        "    for i in range(n):\n",
        "        out.append(i*i)\n",
        "    return out\n",
        "\n",
        "app = timeit.repeat(build_with_append, number=number, repeat=repeat)\n",
        "print(\"  comprensión →\", f\"{mean(comp)*1000:.2f} ms ± {stdev(comp)*1000:.2f} ms\")\n",
        "print(\"  append      →\", f\"{mean(app)*1000:.2f} ms ± {stdev(app)*1000:.2f} ms\")\n",
        "\n"
      ]
    },
    {
      "cell_type": "markdown",
      "metadata": {},
      "source": [
        "## Slicing avanzado (con pasos y negativos)\n",
        "\n",
        "El slicing `seq[inicio:fin:paso]` extrae partes de una secuencia (listas, cadenas, tuplas):\n",
        "- `inicio` (incluido), `fin` (excluido), `paso` (puede ser negativo)\n",
        "- Si omites `inicio` o `fin`, Python elige valores por defecto.\n",
        "- `paso` negativo recorre hacia atrás (útil para invertir).\n",
        "\n",
        "Diagrama mental:\n",
        "- Índices positivos: 0, 1, 2, ... desde el inicio\n",
        "- Índices negativos: -1, -2, -3, ... desde el final\n"
      ]
    },
    {
      "cell_type": "code",
      "execution_count": 15,
      "metadata": {},
      "outputs": [
        {
          "name": "stdout",
          "output_type": "stream",
          "text": [
            "seq:      [0, 1, 2, 3, 4, 5, 6]\n",
            "0:4       [0, 1, 2, 3]\n",
            ":4        [0, 1, 2, 3]\n",
            "3:        [3, 4, 5, 6]\n",
            "::2       [0, 2, 4, 6]\n",
            "1:6:2     [1, 3, 5]\n",
            "-4:-1     [3, 4, 5]\n",
            "[::-1]    [6, 5, 4, 3, 2, 1, 0]\n",
            "5:1:-1    [5, 4, 3, 2]\n",
            "texto[::-1] → gfedcba\n"
          ]
        }
      ],
      "source": [
        "seq = [0, 1, 2, 3, 4, 5, 6]\n",
        "print(\"seq:     \", seq)\n",
        "print(\"0:4      \", seq[0:4])       # 0,1,2,3\n",
        "print(\":4       \", seq[:4])        # desde inicio\n",
        "print(\"3:       \", seq[3:])        # desde 3 al final\n",
        "print(\"::2      \", seq[::2])       # paso 2\n",
        "print(\"1:6:2    \", seq[1:6:2])     # 1,3,5\n",
        "print(\"-4:-1    \", seq[-4:-1])     # desde el 4º desde el final hasta el penúltimo\n",
        "print(\"[::-1]   \", seq[::-1])      # invertido\n",
        "print(\"5:1:-1   \", seq[5:1:-1])    # 5,4,3,2 (hacia atrás)\n",
        "\n",
        "texto = \"abcdefg\"\n",
        "print(\"texto[::-1] →\", texto[::-1])  # invertir cadena\n",
        "\n"
      ]
    },
    {
      "cell_type": "markdown",
      "metadata": {},
      "source": [
        "Ejercicios (prueba tú):\n",
        "\n",
        "1) Toma `nums = list(range(10))` y obtén los pares con slicing.\n",
        "2) Invierte `nums` con slicing y verifica el primer y último elemento.\n",
        "3) Dada `s = \"hola_python\"`, extrae `\"hola\"` y `\"python\"` usando índices negativos y positivos.\n"
      ]
    },
    {
      "cell_type": "markdown",
      "metadata": {},
      "source": [
        "## Generadores y `yield` (paso a paso)\n",
        "\n",
        "- Un generador produce valores uno a uno, bajo demanda (lazy).\n",
        "- Se define como una función normal, pero usa `yield` en lugar de `return` para entregar un valor y pausar.\n",
        "- Cada vez que el generador “continúa”, retoma donde se quedó.\n",
        "- Ventajas: bajo uso de memoria y composición con for/expresiones generadoras.\n",
        "\n",
        "Diagrama mental:\n",
        "1) Entra a la función → llega a `yield` → entrega valor → se pausa.\n",
        "2) La siguiente vez que se pide otro valor → sigue después del `yield`. \n"
      ]
    },
    {
      "cell_type": "code",
      "execution_count": 16,
      "metadata": {},
      "outputs": [
        {
          "name": "stdout",
          "output_type": "stream",
          "text": [
            "[0, 1, 2, 3, 4]\n",
            "[10, 12, 14]\n",
            "[0, 2, 4, 6, 8]\n"
          ]
        }
      ],
      "source": [
        "def contador(desde: int = 0, hasta: int | None = None, paso: int = 1):\n",
        "    actual = desde\n",
        "    while hasta is None or actual < hasta:\n",
        "        yield actual  # entrega y se pausa aquí\n",
        "        actual += paso\n",
        "\n",
        "print(list(contador(0, 5)))        # [0,1,2,3,4]\n",
        "print(list(contador(10, 15, 2)))   # [10,12,14]\n",
        "\n",
        "# Composición: filtrar con generadores\n",
        "def pares(iterable):\n",
        "    for x in iterable:\n",
        "        if x % 2 == 0:\n",
        "            yield x\n",
        "\n",
        "print(list(pares(contador(0, 10))))\n",
        "\n"
      ]
    },
    {
      "cell_type": "markdown",
      "metadata": {},
      "source": [
        "## Funciones lambda (funciones pequeñas en una línea)\n",
        "\n",
        "- Una lambda define una función anónima: `lambda parametros: expresión`.\n",
        "- Útil cuando necesitas una función corta «en el momento».\n",
        "- Se usa mucho con `sorted(key=...)`, `map`, `filter`.\n",
        "\n",
        "Nota: prioriza funciones normales con `def` cuando crezca la lógica o quieras documentar mejor.\n"
      ]
    },
    {
      "cell_type": "code",
      "execution_count": 17,
      "metadata": {},
      "outputs": [
        {
          "name": "stdout",
          "output_type": "stream",
          "text": [
            "25\n",
            "['ana', 'Luis', 'zoe', 'Álvaro']\n",
            "[1, 4, 9, 16, 25]\n",
            "[2, 4]\n"
          ]
        }
      ],
      "source": [
        "# Ejemplos con lambda\n",
        "cuadrado = lambda x: x * x\n",
        "print(cuadrado(5))\n",
        "\n",
        "nombres = [\"ana\", \"Luis\", \"zoe\", \"Álvaro\"]\n",
        "# ordenar por minúscula sin acentos básicos\n",
        "ordenados = sorted(nombres, key=lambda s: s.lower())\n",
        "print(ordenados)\n",
        "\n",
        "# map y filter\n",
        "nums = [1, 2, 3, 4, 5]\n",
        "cuadrados = list(map(lambda x: x * x, nums))\n",
        "pares = list(filter(lambda x: x % 2 == 0, nums))\n",
        "print(cuadrados)\n",
        "print(pares)\n",
        "\n"
      ]
    },
    {
      "cell_type": "markdown",
      "metadata": {},
      "source": [
        "Ejercicios con lambda:\n",
        "\n",
        "1) Ordena una lista de diccionarios por la clave `\"edad\"` usando `sorted(..., key=lambda ...)`.\n",
        "2) Con `map`, convierte una lista de strings en sus longitudes.\n",
        "3) Con `filter`, quédate solo con palabras que empiecen con vocal (considera minúsculas y mayúsculas).\n"
      ]
    },
    {
      "cell_type": "markdown",
      "metadata": {},
      "source": [
        "## `map` a fondo (qué es y cómo usarlo)\n",
        "\n",
        "`map(funcion, iterable1, iterable2, ...)` aplica una función a cada elemento(s) de uno o más iterables y devuelve un iterador (se consume con `list`, `for`, `sum`, etc.).\n",
        "\n",
        "- Si pasas 1 iterable, `funcion` recibe 1 argumento.\n",
        "- Si pasas 2 iterables, `funcion` recibe 2 argumentos (uno de cada iterable), y así sucesivamente.\n",
        "- `map` no crea una lista por sí mismo (es «perezoso»), a menos que lo envuelvas con `list(...)`.\n",
        "\n",
        "Cuándo usar:\n",
        "- Transformación directa de datos con una función existente o una lambda pequeña.\n",
        "- Alternativa a la comprensión de listas cuando prefieres pasar una función ya definida (p. ej. `str.strip`).\n",
        "\n",
        "Equivalentes comunes:\n",
        "- `list(map(f, xs))` ≈ `[f(x) for x in xs]`\n",
        "- `sum(map(int, lineas))` evita crear una lista si dejas el `map` como iterador y llamas `sum(...)` directamente.\n",
        "\n"
      ]
    },
    {
      "cell_type": "code",
      "execution_count": 18,
      "metadata": {},
      "outputs": [
        {
          "name": "stdout",
          "output_type": "stream",
          "text": [
            "['hola', 'python', 'MAP']\n",
            "['hola', 'python', 'MAP']\n"
          ]
        }
      ],
      "source": [
        "# map con un solo iterable\n",
        "xs = [\"  hola  \", \" python \", \"MAP  \"]\n",
        "res = list(map(str.strip, xs))  # aplica .strip a cada string\n",
        "print(res)\n",
        "\n",
        "# equivalente con comprensión\n",
        "res2 = [s.strip() for s in xs]\n",
        "print(res2)\n",
        "\n"
      ]
    },
    {
      "cell_type": "code",
      "execution_count": 19,
      "metadata": {},
      "outputs": [
        {
          "name": "stdout",
          "output_type": "stream",
          "text": [
            "[11, 22, 33]\n",
            "[11, 22, 33]\n"
          ]
        }
      ],
      "source": [
        "# map con dos iterables (suma elemento a elemento)\n",
        "a = [1, 2, 3]\n",
        "b = [10, 20, 30]\n",
        "\n",
        "suma_elem = list(map(lambda x, y: x + y, a, b))\n",
        "print(suma_elem)  # [11, 22, 33]\n",
        "\n",
        "# equivalente con comprensión y zip\n",
        "suma_zip = [x + y for x, y in zip(a, b)]\n",
        "print(suma_zip)\n",
        "\n"
      ]
    },
    {
      "cell_type": "markdown",
      "metadata": {},
      "source": [
        "Notas y buenas prácticas:\n",
        "\n",
        "- `map` devuelve un iterador: si lo conviertes a lista una vez, ya se consumió. Si necesitas recorrerlo otra vez, vuelve a crear el `map`.\n",
        "- Para transformaciones simples, la comprensión de listas suele ser más legible.\n",
        "- Si vas a reducir al final (p. ej., `sum(map(...))`), dejarlo como iterador evita crear una lista temporal.\n",
        "- Cuidado con longitudes distintas en múltiples iterables: `map` se detiene en el más corto (igual que `zip`).\n"
      ]
    },
    {
      "cell_type": "markdown",
      "metadata": {},
      "source": [
        "### Soluciones guiadas: ejercicios con lambda\n",
        "\n",
        "Iremos caso por caso y explicaremos la idea antes de ejecutar.\n"
      ]
    },
    {
      "cell_type": "code",
      "execution_count": 20,
      "metadata": {},
      "outputs": [
        {
          "name": "stdout",
          "output_type": "stream",
          "text": [
            "[{'nombre': 'Luis', 'edad': 19}, {'nombre': 'Ana', 'edad': 21}, {'nombre': 'Zoe', 'edad': 22}]\n"
          ]
        }
      ],
      "source": [
        "# 1) Ordenar lista de dicts por \"edad\"\n",
        "personas = [\n",
        "    {\"nombre\": \"Ana\", \"edad\": 21},\n",
        "    {\"nombre\": \"Luis\", \"edad\": 19},\n",
        "    {\"nombre\": \"Zoe\", \"edad\": 22},\n",
        "]\n",
        "\n",
        "# Idea: sorted recibe key=función que extrae el valor a comparar\n",
        "# Paso 1: define la función (aquí usamos lambda para abreviar)\n",
        "ordenado = sorted(personas, key=lambda p: p[\"edad\"])  # extrae p[\"edad\"]\n",
        "print(ordenado)\n",
        "\n"
      ]
    },
    {
      "cell_type": "markdown",
      "metadata": {},
      "source": [
        "## `filter` a fondo (qué es y cómo usarlo)\n",
        "\n",
        "`filter(funcion_predicado, iterable)` devuelve solo los elementos para los que `funcion_predicado(elemento)` es verdadero. Devuelve un iterador (consúmelo con `list`/`for`).\n",
        "\n",
        "- El predicado debe devolver `True`/`False` (o truthy/falsy).\n",
        "- Útil para «quedarte con» elementos de interés sin crear una lista intermedia si lo consumes directamente.\n",
        "\n",
        "Equivalente común:\n",
        "- `list(filter(pred, xs))` ≈ `[x for x in xs if pred(x)]`.\n",
        "\n"
      ]
    },
    {
      "cell_type": "code",
      "execution_count": 21,
      "metadata": {},
      "outputs": [
        {
          "name": "stdout",
          "output_type": "stream",
          "text": [
            "[0, 2, 4]\n",
            "[0, 2, 4]\n"
          ]
        }
      ],
      "source": [
        "# filter: ejemplos\n",
        "xs = [0, 1, 2, 3, 4, 5]\n",
        "solo_pares = list(filter(lambda x: x % 2 == 0, xs))\n",
        "print(solo_pares)\n",
        "\n",
        "# equivalente con comprensión\n",
        "solo_pares2 = [x for x in xs if x % 2 == 0]\n",
        "print(solo_pares2)\n",
        "\n"
      ]
    },
    {
      "cell_type": "markdown",
      "metadata": {},
      "source": [
        "## `enumerate` y `zip` a fondo\n",
        "\n",
        "- `enumerate(iterable, start=0)` devuelve pares `(indice, valor)`; `start` permite cambiar el índice inicial.\n",
        "- `zip(a, b, ...)` combina elementos por posición, deteniéndose en el iterable más corto.\n",
        "- Ambos devuelven iteradores (consumir con `list`/`for`).\n",
        "\n",
        "Cuándo usar:\n",
        "- `enumerate`: cuando necesitas índice y valor a la vez (evita `range(len(...))`).\n",
        "- `zip`: cuando quieres procesar pares/tríos de secuencias en paralelo.\n"
      ]
    },
    {
      "cell_type": "code",
      "execution_count": 22,
      "metadata": {},
      "outputs": [
        {
          "name": "stdout",
          "output_type": "stream",
          "text": [
            "1 Ana\n",
            "2 Luis\n",
            "3 Zoe\n",
            "Ana → 20\n",
            "Luis → 21\n",
            "[(0, 'Ana'), (1, 'Luis'), (2, 'Zoe')]\n",
            "[('Ana', 20), ('Luis', 21)]\n"
          ]
        }
      ],
      "source": [
        "# enumerate con start\n",
        "nombres = [\"Ana\", \"Luis\", \"Zoe\"]\n",
        "for i, nombre in enumerate(nombres, start=1):\n",
        "    print(i, nombre)\n",
        "\n",
        "# zip con longitudes distintas: se detiene en el más corto\n",
        "edades = [20, 21]\n",
        "for nombre, edad in zip(nombres, edades):\n",
        "    print(f\"{nombre} → {edad}\")\n",
        "\n",
        "# convertir a lista para ver su contenido\n",
        "print(list(enumerate(nombres)))\n",
        "print(list(zip(nombres, edades)))\n",
        "\n"
      ]
    },
    {
      "cell_type": "markdown",
      "metadata": {},
      "source": [
        "## Errores en Python: ¿qué tipos existen?\n",
        "\n",
        "- Los errores (excepciones) son clases predefinidas que indican condiciones anómalas.\n",
        "- Consulta la lista oficial y explicaciones en la documentación:\n",
        "  - [Built-in Exceptions](https://docs.python.org/3/library/exceptions.html)\n",
        "  - [Errores y Excepciones (tutorial)](https://docs.python.org/3/tutorial/errors.html)\n",
        "\n",
        "Cómo identificarlos cuando ocurren:\n",
        "- Lee la última línea del Traceback: verás el tipo (`ZeroDivisionError`, `TypeError`, etc.) y un mensaje.\n",
        "- Puedes capturarlos con `except TipoDeError as e` y ver `type(e).__name__` y el mensaje `str(e)`.\n",
        "- Usa `help(TipoDeError)` para leer la docstring del error en el mismo entorno.\n"
      ]
    },
    {
      "cell_type": "code",
      "execution_count": 23,
      "metadata": {},
      "outputs": [
        {
          "name": "stdout",
          "output_type": "stream",
          "text": [
            "Algunas excepciones integradas:\n",
            "ArithmeticError, AssertionError, AttributeError, BaseException, BlockingIOError, BrokenPipeError, BufferError, ChildProcessError, ConnectionAbortedError, ConnectionError, ConnectionRefusedError, ConnectionResetError, EOFError, EnvironmentError, Exception, FileExistsError, FileNotFoundError, FloatingPointError, IOError, ImportError, IndentationError, IndexError, InterruptedError, IsADirectoryError, KeyError, LookupError, MemoryError, ModuleNotFoundError, NameError, NotADirectoryError ...\n",
            "Help on class ZeroDivisionError in module builtins:\n",
            "\n",
            "class ZeroDivisionError(ArithmeticError)\n",
            " |  Second argument to a division or modulo operation was zero.\n",
            " |  \n",
            " |  Method resolution order:\n",
            " |      ZeroDivisionError\n",
            " |      ArithmeticError\n",
            " |      Exception\n",
            " |      BaseException\n",
            " |      object\n",
            " |  \n",
            " |  Methods defined here:\n",
            " |  \n",
            " |  __init__(self, /, *args, **kwargs)\n",
            " |      Initialize self.  See help(type(self)) for accurate signature.\n",
            " |  \n",
            " |  ----------------------------------------------------------------------\n",
            " |  Static methods defined here:\n",
            " |  \n",
            " |  __new__(*args, **kwargs) from builtins.type\n",
            " |      Create and return a new object.  See help(type) for accurate signature.\n",
            " |  \n",
            " |  ----------------------------------------------------------------------\n",
            " |  Methods inherited from BaseException:\n",
            " |  \n",
            " |  __delattr__(self, name, /)\n",
            " |      Implement delattr(self, name).\n",
            " |  \n",
            " |  __getattribute__(self, name, /)\n",
            " |      Return getattr(self, name).\n",
            " |  \n",
            " |  __reduce__(...)\n",
            " |      Helper for pickle.\n",
            " |  \n",
            " |  __repr__(self, /)\n",
            " |      Return repr(self).\n",
            " |  \n",
            " |  __setattr__(self, name, value, /)\n",
            " |      Implement setattr(self, name, value).\n",
            " |  \n",
            " |  __setstate__(...)\n",
            " |  \n",
            " |  __str__(self, /)\n",
            " |      Return str(self).\n",
            " |  \n",
            " |  with_traceback(...)\n",
            " |      Exception.with_traceback(tb) --\n",
            " |      set self.__traceback__ to tb and return self.\n",
            " |  \n",
            " |  ----------------------------------------------------------------------\n",
            " |  Data descriptors inherited from BaseException:\n",
            " |  \n",
            " |  __cause__\n",
            " |      exception cause\n",
            " |  \n",
            " |  __context__\n",
            " |      exception context\n",
            " |  \n",
            " |  __dict__\n",
            " |  \n",
            " |  __suppress_context__\n",
            " |  \n",
            " |  __traceback__\n",
            " |  \n",
            " |  args\n",
            "\n"
          ]
        }
      ],
      "source": [
        "# Introspección de excepciones disponibles (parcial)\n",
        "import builtins\n",
        "\n",
        "excs = [name for name in dir(builtins) if name.endswith(\"Error\") or name.endswith(\"Exception\")]\n",
        "print(\"Algunas excepciones integradas:\")\n",
        "print(\", \".join(sorted(excs)[:30]), \"...\")\n",
        "\n",
        "# Leer ayuda de una excepción concreta\n",
        "help(ZeroDivisionError)  # cierra con q\n",
        "\n"
      ]
    },
    {
      "cell_type": "markdown",
      "metadata": {},
      "source": []
    },
    {
      "cell_type": "code",
      "execution_count": 24,
      "metadata": {},
      "outputs": [
        {
          "name": "stdout",
          "output_type": "stream",
          "text": [
            "1 Ana\n",
            "2 Luis\n",
            "3 Zoe\n",
            "[('Ana', 20), ('Luis', 21)]\n"
          ]
        }
      ],
      "source": [
        "# enumerate con start\n",
        "nombres = [\"Ana\", \"Luis\", \"Zoe\"]\n",
        "for idx, nombre in enumerate(nombres, start=1):\n",
        "    print(idx, nombre)\n",
        "\n",
        "# zip con distintas longitudes: se detiene en el más corto\n",
        "edades = [20, 21]\n",
        "print(list(zip(nombres, edades)))  # Zoe queda fuera porque edades tiene menos\n",
        "\n"
      ]
    },
    {
      "cell_type": "code",
      "execution_count": 25,
      "metadata": {},
      "outputs": [
        {
          "name": "stdout",
          "output_type": "stream",
          "text": [
            "[4, 6, 6]\n"
          ]
        }
      ],
      "source": [
        "# 2) map: longitudes de strings\n",
        "palabras = [\"hola\", \"python\", \"lambda\"]\n",
        "# Paso 1: decide la transformación → len(s)\n",
        "# Paso 2: map(lambda s: len(s), palabras)\n",
        "longitudes = list(map(lambda s: len(s), palabras))\n",
        "print(longitudes)\n",
        "\n"
      ]
    },
    {
      "cell_type": "code",
      "execution_count": 26,
      "metadata": {},
      "outputs": [
        {
          "name": "stdout",
          "output_type": "stream",
          "text": [
            "['uno', 'Árbol']\n"
          ]
        }
      ],
      "source": [
        "# 3) filter: palabras que empiezan con vocal\n",
        "vocales = set(\"aeiouáéíóúAEIOUÁÉÍÓÚ\")\n",
        "\n",
        "palabras = [\"uno\", \"Dos\", \"tres\", \"Árbol\", \"zapato\"]\n",
        "empiezan_con_vocal = list(filter(lambda s: s and s[0] in vocales, palabras))\n",
        "print(empiezan_con_vocal)\n",
        "\n"
      ]
    },
    {
      "cell_type": "markdown",
      "metadata": {},
      "source": [
        "### Soluciones guiadas: ejercicios con `yield`\n",
        "\n",
        "Resolvemos y explicamos paso a paso.\n"
      ]
    },
    {
      "cell_type": "code",
      "execution_count": 27,
      "metadata": {},
      "outputs": [
        {
          "name": "stdout",
          "output_type": "stream",
          "text": [
            "[0, 1, 4, 9, 16, 25]\n"
          ]
        }
      ],
      "source": [
        "# 1) Generador cuadrados(n): produce 0^2, 1^2, 2^2, ... , (n-1)^2\n",
        "\n",
        "def cuadrados(n: int):\n",
        "    # Paso 1: recorre 0..n-1\n",
        "    # Paso 2: en cada paso, yield i*i\n",
        "    for i in range(n):\n",
        "        yield i * i\n",
        "\n",
        "print(list(cuadrados(6)))  # [0,1,4,9,16,25]\n",
        "\n"
      ]
    },
    {
      "cell_type": "code",
      "execution_count": 28,
      "metadata": {},
      "outputs": [
        {
          "name": "stdout",
          "output_type": "stream",
          "text": [
            "[[1, 2, 3], [2, 3, 4]]\n"
          ]
        }
      ],
      "source": [
        "# 2) ventanas(iterable, k): entrega «ventanas» de tamaño k\n",
        "# Ej.: ventanas([1,2,3,4], 3) → [1,2,3], [2,3,4]\n",
        "\n",
        "def ventanas(iterable, k: int):\n",
        "    xs = list(iterable)\n",
        "    # recorre índices desde 0 hasta len(xs)-k\n",
        "    for i in range(0, len(xs) - k + 1):\n",
        "        yield xs[i : i + k]\n",
        "\n",
        "print(list(ventanas([1,2,3,4], 3)))\n",
        "\n"
      ]
    },
    {
      "cell_type": "code",
      "execution_count": 29,
      "metadata": {},
      "outputs": [
        {
          "name": "stdout",
          "output_type": "stream",
          "text": [
            "lista creada en 0.0030s, len=100000\n",
            "sum(lista) → 4999950000 en 0.0014s\n",
            "sum(gen_n(N)) → 4999950000 en 0.0079s\n"
          ]
        }
      ],
      "source": [
        "# 3) Comparación memoria/tiempo: lista vs generador\n",
        "import time\n",
        "\n",
        "N = 1_000_00  # 100k para no tardar mucho; sube si tu máquina lo permite\n",
        "\n",
        "# Lista con N números\n",
        "inicio = time.time()\n",
        "lista = list(range(N))\n",
        "fin = time.time()\n",
        "print(f\"lista creada en {fin - inicio:.4f}s, len={len(lista)}\")\n",
        "\n",
        "# Generador que produce N números (no crea todos en memoria a la vez)\n",
        "def gen_n(n):\n",
        "    for i in range(n):\n",
        "        yield i\n",
        "\n",
        "inicio = time.time()\n",
        "suma_lista = sum(lista)  # recorre todos los elementos\n",
        "fin = time.time()\n",
        "print(f\"sum(lista) → {suma_lista} en {fin - inicio:.4f}s\")\n",
        "\n",
        "inicio = time.time()\n",
        "suma_gen = sum(gen_n(N))  # consume el generador\n",
        "fin = time.time()\n",
        "print(f\"sum(gen_n(N)) → {suma_gen} en {fin - inicio:.4f}s\")\n",
        "\n"
      ]
    },
    {
      "cell_type": "markdown",
      "metadata": {},
      "source": [
        "## Clases y objetos (principiantes)\n",
        "\n",
        "- Una clase define el «molde» de objetos: sus atributos (datos) y métodos (funciones).\n",
        "- Un objeto (instancia) es un «ejemplar» de esa clase.\n",
        "- `__init__` inicializa atributos al crear el objeto.\n",
        "- Inspección: `type(obj)`, `dir(obj)`, `vars(obj)` (atributos de instancia), `obj.__dict__`.\n",
        "- Atributos y métodos se acceden con `obj.atributo` y `obj.metodo(...)`.\n",
        "\n",
        "Vamos con un ejemplo simple.\n"
      ]
    },
    {
      "cell_type": "code",
      "execution_count": 30,
      "metadata": {},
      "outputs": [
        {
          "name": "stdout",
          "output_type": "stream",
          "text": [
            "<class '__main__.Persona'>\n",
            "Hola, soy Ana y tengo 21 años\n",
            "Atributos de instancia: {'nombre': 'Ana', 'edad': 21}\n",
            "Tiene atributo 'nombre'?: True\n",
            "pais: MX\n",
            "Métodos disponibles (dir): ['edad', 'nombre', 'pais', 'saludar'] ...\n"
          ]
        }
      ],
      "source": [
        "class Persona:\n",
        "    def __init__(self, nombre: str, edad: int):\n",
        "        self.nombre = nombre   # atributo de instancia\n",
        "        self.edad = edad       # atributo de instancia\n",
        "\n",
        "    def saludar(self) -> str:\n",
        "        return f\"Hola, soy {self.nombre} y tengo {self.edad} años\"\n",
        "\n",
        "p = Persona(\"Ana\", 21)\n",
        "print(type(p))\n",
        "print(p.saludar())\n",
        "\n",
        "# Inspección\n",
        "print(\"Atributos de instancia:\", vars(p))  # igual que p.__dict__\n",
        "print(\"Tiene atributo 'nombre'?:\", hasattr(p, \"nombre\"))\n",
        "setattr(p, \"pais\", \"MX\")  # crea/actualiza un atributo\n",
        "print(\"pais:\", getattr(p, \"pais\"))\n",
        "print(\"Métodos disponibles (dir):\", [x for x in dir(p) if not x.startswith(\"__\")][:8], \"...\")\n",
        "\n"
      ]
    },
    {
      "cell_type": "markdown",
      "metadata": {},
      "source": [
        "Ejercicios con clases (prueba tú):\n",
        "\n",
        "1) Crea `Rectangulo` con `base` y `altura`, y un método `area()`.\n",
        "2) Agrega a `Persona` un método `cumplir_anios()` que sume 1 a `edad`.\n",
        "3) Usa `hasattr/getattr/setattr` para inspeccionar y cambiar atributos dinámicamente.\n"
      ]
    },
    {
      "cell_type": "markdown",
      "metadata": {},
      "source": [
        "Ejercicios con `yield` (prueba tú):\n",
        "\n",
        "1) Escribe un generador `cuadrados(n)` que produzca `0, 1, 4, 9, ...` hasta `n-1`.\n",
        "2) Escribe `ventanas(iterable, k)` que entregue listas de tamaño `k` deslizándose de a 1.\n",
        "3) Compara memoria: crea una lista con 1 millón de números vs. un generador que los produzca; mide `len()` (lista) y usa `sum()` con ambos.\n"
      ]
    },
    {
      "cell_type": "markdown",
      "metadata": {},
      "source": [
        "# Intro a Python (Interactivo)\n",
        "\n",
        "Aprenderás fundamentos de Python escribiendo y ejecutando código. La idea es practicar, medir y comparar enfoques \"pythonic\".\n",
        "\n",
        "- Ejecuta las celdas con el botón ▶︎ a la izquierda.\n",
        "- Modifica el código, re‑ejecuta y observa los resultados.\n",
        "- Los ejercicios marcan TODOs; completa y prueba.\n",
        "\n"
      ]
    },
    {
      "cell_type": "markdown",
      "metadata": {},
      "source": [
        "## 1) Variables y tipos básicos\n",
        "\n",
        "Idea clave: en Python el tipo se asocia al valor, no al nombre. Usa `type(x)` y `isinstance(x, T)` para inspeccionar.\n",
        "\n",
        "Ejecuta la celda siguiente y observa el tipo de cada valor.\n"
      ]
    },
    {
      "cell_type": "code",
      "execution_count": 31,
      "metadata": {},
      "outputs": [
        {
          "name": "stdout",
          "output_type": "stream",
          "text": [
            "42 → <class 'int'>\n",
            "3.14 → <class 'float'>\n",
            "True → <class 'bool'>\n",
            "hola → <class 'str'>\n",
            "None → <class 'NoneType'>\n"
          ]
        }
      ],
      "source": [
        "# Explora tipos básicos\n",
        "x = 42            # int\n",
        "pi = 3.14         # float\n",
        "ok = True         # bool\n",
        "saludo = \"hola\"   # str\n",
        "nada = None       # None\n",
        "\n",
        "valores = [x, pi, ok, saludo, nada]\n",
        "for v in valores:\n",
        "    print(v, \"→\", type(v))\n",
        "\n"
      ]
    },
    {
      "cell_type": "markdown",
      "metadata": {},
      "source": [
        "## 2) Colecciones: list, tuple, set, dict\n",
        "\n",
        "Patrones frecuentes: slicing, comprensión de listas, acceso a diccionarios y operaciones de conjuntos.\n"
      ]
    },
    {
      "cell_type": "code",
      "execution_count": 32,
      "metadata": {},
      "outputs": [
        {
          "name": "stdout",
          "output_type": "stream",
          "text": [
            "slice 1:4 → [2, 3, 4]\n",
            "dobles impares → [2, 6, 10]\n",
            "keys → ['k', 'z']\n",
            "get inexistente → por_defecto\n",
            "union → {1, 2, 3, 4}\n",
            "intersección → {3}\n"
          ]
        }
      ],
      "source": [
        "nums = [1, 2, 3, 4, 5]\n",
        "print(\"slice 1:4 →\", nums[1:4])\n",
        "\n",
        "# comprensión de listas\n",
        "dobles = [n * 2 for n in nums if n % 2 == 1]\n",
        "print(\"dobles impares →\", dobles)\n",
        "\n",
        "# diccionario\n",
        "datos = {\"k\": 1, \"z\": 2}\n",
        "print(\"keys →\", list(datos.keys()))\n",
        "print(\"get inexistente →\", datos.get(\"missing\", \"por_defecto\"))\n",
        "\n",
        "# conjuntos\n",
        "A = {1, 2, 3}\n",
        "B = {3, 4}\n",
        "print(\"union →\", A | B)\n",
        "print(\"intersección →\", A & B)\n",
        "\n"
      ]
    },
    {
      "cell_type": "markdown",
      "metadata": {},
      "source": [
        "## 3) Control de flujo y verdad (truthiness)\n",
        "\n",
        "Completa el TODO: escribe una función `filtra_no_vacios(items)` que devuelva solo los elementos “verdaderos” (no vacíos) usando un enfoque pythonic.\n"
      ]
    },
    {
      "cell_type": "code",
      "execution_count": 33,
      "metadata": {},
      "outputs": [
        {
          "name": "stdout",
          "output_type": "stream",
          "text": [
            "['hola', [1], 3]\n"
          ]
        }
      ],
      "source": [
        "from typing import Iterable, List, Any\n",
        "\n",
        "# TODO: implementa usando comprensión y truthiness\n",
        "\n",
        "def filtra_no_vacios(items: Iterable[Any]) -> List[Any]:\n",
        "    return [x for x in items if x]\n",
        "\n",
        "prueba = [\"\", \"hola\", [], [1], 0, 3]\n",
        "print(filtra_no_vacios(prueba))  # esperado: ['hola', [1], 3]\n",
        "\n"
      ]
    },
    {
      "cell_type": "markdown",
      "metadata": {},
      "source": [
        "## 4) Funciones, docstrings y anotaciones de tipo\n",
        "\n",
        "- Escribe `suma(a: int, b: int) -> int` con docstring.\n",
        "- Añade 2–3 asserts para probarla rápidamente.\n"
      ]
    },
    {
      "cell_type": "code",
      "execution_count": 34,
      "metadata": {},
      "outputs": [
        {
          "name": "stdout",
          "output_type": "stream",
          "text": [
            "OK pruebas suma\n"
          ]
        }
      ],
      "source": [
        "def suma(a: int, b: int) -> int:\n",
        "    \"\"\"Devuelve la suma de a y b.\n",
        "\n",
        "    >>> suma(2, 3)\n",
        "    5\n",
        "    \"\"\"\n",
        "    return a + b\n",
        "\n",
        "# pruebas rápidas\n",
        "assert suma(2, 3) == 5\n",
        "assert suma(0, 0) == 0\n",
        "assert suma(-1, 1) == 0\n",
        "print(\"OK pruebas suma\")\n",
        "\n"
      ]
    },
    {
      "cell_type": "markdown",
      "metadata": {},
      "source": [
        "## 5) Patrones Pythonic: enumerate, zip, desempacado\n",
        "\n",
        "- Recorre con índice usando `enumerate`.\n",
        "- Combina listas con `zip`.\n",
        "- Desempaca valores retornados por funciones.\n"
      ]
    },
    {
      "cell_type": "code",
      "execution_count": 35,
      "metadata": {},
      "outputs": [
        {
          "name": "stdout",
          "output_type": "stream",
          "text": [
            "1 Ana\n",
            "2 Luis\n",
            "3 Zoe\n",
            "Ana tiene 20\n",
            "Luis tiene 21\n",
            "Zoe tiene 19\n",
            "1 6 2.0\n"
          ]
        }
      ],
      "source": [
        "nombres = [\"Ana\", \"Luis\", \"Zoe\"]\n",
        "edades = [20, 21, 19]\n",
        "\n",
        "for i, nombre in enumerate(nombres, start=1):\n",
        "    print(i, nombre)\n",
        "\n",
        "for nombre, edad in zip(nombres, edades):\n",
        "    print(f\"{nombre} tiene {edad}\")\n",
        "\n",
        "# desempacado\n",
        "def stats(xs: list[int]) -> tuple[int, int, float]:\n",
        "    total = sum(xs)\n",
        "    minimo = min(xs)\n",
        "    promedio = total / len(xs)\n",
        "    return minimo, total, promedio\n",
        "\n",
        "mn, total, prom = stats([1, 2, 3])\n",
        "print(mn, total, prom)\n",
        "\n"
      ]
    },
    {
      "cell_type": "markdown",
      "metadata": {},
      "source": [
        "## 6) Errores y excepciones (manejo básico)\n",
        "\n",
        "Completa el TODO: escribe `divide(a, b)` que capture división por cero y devuelva un mensaje claro, sin ocultar errores distintos.\n"
      ]
    },
    {
      "cell_type": "code",
      "execution_count": 36,
      "metadata": {},
      "outputs": [
        {
          "name": "stdout",
          "output_type": "stream",
          "text": [
            "5.0\n",
            "No se puede dividir entre cero\n"
          ]
        }
      ],
      "source": [
        "def divide(a: float, b: float):\n",
        "    try:\n",
        "        return a / b\n",
        "    except ZeroDivisionError:\n",
        "        return \"No se puede dividir entre cero\"\n",
        "\n",
        "print(divide(10, 2))\n",
        "print(divide(10, 0))\n",
        "\n"
      ]
    },
    {
      "cell_type": "markdown",
      "metadata": {},
      "source": [
        "## 7) Mini‑experimentos de tiempo (timeit)\n",
        "\n",
        "- Compara enfoques y discute claridad vs. rendimiento.\n",
        "- Ajusta `n` y repite.\n",
        "\n",
        "Pruebas propuestas:\n",
        "- `sum(range(n))` vs bucle manual.\n",
        "- Comprensión de listas vs `append`.\n",
        "- `''.join([...])` vs concatenación en bucle.\n",
        "- `x in set` vs `x in list`.\n"
      ]
    },
    {
      "cell_type": "code",
      "execution_count": 37,
      "metadata": {},
      "outputs": [
        {
          "name": "stdout",
          "output_type": "stream",
          "text": [
            "Suma builtin vs bucle:\n",
            "  sum(range(n)) → 5.86 ms ± 0.41 ms\n",
            "  bucle manual  → 18.83 ms ± 5.60 ms\n"
          ]
        }
      ],
      "source": [
        "import timeit\n",
        "from statistics import mean, stdev\n",
        "\n",
        "n = 200_000\n",
        "repeat = 5\n",
        "number = 1\n",
        "\n",
        "print(\"Suma builtin vs bucle:\")\n",
        "builtin = timeit.repeat(lambda: sum(range(n)), number=number, repeat=repeat)\n",
        "\n",
        "def loop_sum() -> int:\n",
        "    total = 0\n",
        "    for i in range(n):\n",
        "        total += i\n",
        "    return total\n",
        "\n",
        "loop = timeit.repeat(loop_sum, number=number, repeat=repeat)\n",
        "print(\"  sum(range(n)) →\", f\"{mean(builtin)*1000:.2f} ms ± {stdev(builtin)*1000:.2f} ms\")\n",
        "print(\"  bucle manual  →\", f\"{mean(loop)*1000:.2f} ms ± {stdev(loop)*1000:.2f} ms\")\n",
        "\n"
      ]
    },
    {
      "cell_type": "code",
      "execution_count": 38,
      "metadata": {},
      "outputs": [
        {
          "name": "stdout",
          "output_type": "stream",
          "text": [
            "comp:    8.44 ms\n",
            "map:     9.68 ms\n",
            "gen/sum: 6.07 ms\n"
          ]
        }
      ],
      "source": [
        "# Comparación rápida: comprehension vs map vs gen-expr\n",
        "import timeit\n",
        "from statistics import mean\n",
        "\n",
        "xs = list(range(100_000))\n",
        "\n",
        "comp = timeit.repeat(lambda: [x * 2 for x in xs], number=1, repeat=5)\n",
        "map_ = timeit.repeat(lambda: list(map(lambda x: x * 2, xs)), number=1, repeat=5)\n",
        "# gen expr consumida por sum (no crea lista)\n",
        "_gen_sum = timeit.repeat(lambda: sum((x * 2 for x in xs)), number=1, repeat=5)\n",
        "\n",
        "print(\"comp:   \", f\"{mean(comp)*1000:.2f} ms\")\n",
        "print(\"map:    \", f\"{mean(map_)*1000:.2f} ms\")\n",
        "print(\"gen/sum:\", f\"{mean(_gen_sum)*1000:.2f} ms\")\n",
        "\n"
      ]
    },
    {
      "cell_type": "markdown",
      "metadata": {},
      "source": [
        "## 8) Extensión: usa el script CLI de medición\n",
        "\n",
        "En la terminal del proyecto (o con `%%bash` en una celda), ejecuta:\n",
        "\n",
        "```bash\n",
        "python scripts/timing_basics.py --benchmark all --n 200000\n",
        "```\n",
        "\n",
        "Compara con tus mediciones en el cuaderno.\n"
      ]
    }
  ],
  "metadata": {
    "kernelspec": {
      "display_name": ".venv",
      "language": "python",
      "name": "python3"
    },
    "language_info": {
      "codemirror_mode": {
        "name": "ipython",
        "version": 3
      },
      "file_extension": ".py",
      "mimetype": "text/x-python",
      "name": "python",
      "nbconvert_exporter": "python",
      "pygments_lexer": "ipython3",
      "version": "3.10.12"
    }
  },
  "nbformat": 4,
  "nbformat_minor": 2
}
