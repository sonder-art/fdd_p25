{
  "cells": [
    {
      "cell_type": "markdown",
      "metadata": {},
      "source": [
        "# Clases y Objetos + Mini Proyecto\n",
        "\n",
        "- Definir clases, atributos y métodos\n",
        "- Inspección: `type`, `dir`, `vars`, `__dict__`\n",
        "- Mini proyecto: procesar registros (listas/dicts), sumarizar con funciones, formatear con f-strings\n",
        "\n",
        "Entrega: ejecuta todas las celdas y describe 3 hallazgos.\n"
      ]
    },
    {
      "cell_type": "markdown",
      "metadata": {},
      "source": [
        "## Clases básicas y atributos\n",
        "\n",
        "Define una clase con `__init__` para inicializar atributos; métodos operan sobre `self`.\n"
      ]
    },
    {
      "cell_type": "code",
      "execution_count": null,
      "metadata": {},
      "outputs": [],
      "source": [
        "class Persona:\n",
        "    def __init__(self, nombre: str, edad: int):\n",
        "        self.nombre = nombre\n",
        "        self.edad = edad\n",
        "    def saludar(self) -> str:\n",
        "        return f\"Hola soy {self.nombre} y tengo {self.edad} años\"\n",
        "\n",
        "p = Persona(\"Ana\", 21)\n",
        "print(p.saludar())\n",
        "print(\"attrs:\", vars(p))\n",
        "\n"
      ]
    },
    {
      "cell_type": "markdown",
      "metadata": {},
      "source": [
        "## (Opcional) dataclasses\n",
        "\n",
        "Reducen el código repetitivo para clases de datos.\n"
      ]
    },
    {
      "cell_type": "code",
      "execution_count": null,
      "metadata": {},
      "outputs": [],
      "source": [
        "from dataclasses import dataclass\n",
        "\n",
        "@dataclass\n",
        "class Punto:\n",
        "    x: int\n",
        "    y: int\n",
        "\n",
        "q = Punto(2,3)\n",
        "print(q)\n",
        "\n"
      ]
    },
    {
      "cell_type": "markdown",
      "metadata": {},
      "source": [
        "## Mini proyecto (guía)\n",
        "\n",
        "- Datos: lista de dicts con registros (nombre, edad, ciudad).\n",
        "- Tareas: filtrar por ciudad, calcular promedio de edad, formatear reporte con f-strings.\n",
        "- Extiende: maneja errores (registros incompletos) y agrega una función de validación.\n"
      ]
    },
    {
      "cell_type": "markdown",
      "metadata": {},
      "source": [
        "## Atributos de clase vs de instancia\n",
        "\n",
        "- Atributo de clase: compartido por todas las instancias.\n",
        "- Atributo de instancia: propio de cada objeto.\n",
        "- Evita mutar atributos de clase que sean contenedores a menos que lo necesites.\n"
      ]
    },
    {
      "cell_type": "code",
      "execution_count": null,
      "metadata": {},
      "outputs": [],
      "source": [
        "class Contador:\n",
        "    total = 0   # atributo de clase\n",
        "    def __init__(self):\n",
        "        self.cuenta = 0  # atributo de instancia\n",
        "\n",
        "c1 = Contador()\n",
        "c2 = Contador()\n",
        "Contador.total += 1\n",
        "c1.cuenta += 1\n",
        "print(\"class total:\", Contador.total, \"c1:\", c1.cuenta, \"c2:\", c2.cuenta)\n",
        "\n"
      ]
    },
    {
      "cell_type": "markdown",
      "metadata": {},
      "source": [
        "## `__repr__` y `__str__`\n",
        "\n",
        "- `__repr__`: representación para desarrolladores (no ambigua).\n",
        "- `__str__`: representación legible para usuarios (si no está, usa `__repr__`).\n"
      ]
    },
    {
      "cell_type": "code",
      "execution_count": null,
      "metadata": {},
      "outputs": [],
      "source": [
        "class Punto2:\n",
        "    def __init__(self, x, y):\n",
        "        self.x = x; self.y = y\n",
        "    def __repr__(self):\n",
        "        return f\"Punto2(x={self.x}, y={self.y})\"\n",
        "    def __str__(self):\n",
        "        return f\"({self.x}, {self.y})\"\n",
        "\n",
        "p = Punto2(1,2)\n",
        "print(repr(p))\n",
        "print(str(p))\n",
        "\n"
      ]
    },
    {
      "cell_type": "markdown",
      "metadata": {},
      "source": [
        "## `@property` (getters/setters pythonic)\n",
        "\n",
        "Convierte métodos en atributos calculados y valida al asignar sin escribir `getX/setX` explícitos.\n"
      ]
    },
    {
      "cell_type": "code",
      "execution_count": null,
      "metadata": {},
      "outputs": [],
      "source": [
        "class Cuenta:\n",
        "    def __init__(self, saldo: float):\n",
        "        self._saldo = saldo\n",
        "\n",
        "    @property\n",
        "    def saldo(self) -> float:\n",
        "        return self._saldo\n",
        "\n",
        "    @saldo.setter\n",
        "    def saldo(self, valor: float) -> None:\n",
        "        if valor < 0:\n",
        "            raise ValueError(\"Saldo no puede ser negativo\")\n",
        "        self._saldo = valor\n",
        "\n",
        "c = Cuenta(100)\n",
        "print(c.saldo)\n",
        "c.saldo = 150\n",
        "print(c.saldo)\n",
        "\n"
      ]
    }
  ],
  "metadata": {
    "language_info": {
      "name": "python"
    }
  },
  "nbformat": 4,
  "nbformat_minor": 2
}
