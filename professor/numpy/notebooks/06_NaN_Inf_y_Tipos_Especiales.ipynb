{
  "cells": [
    {
      "cell_type": "markdown",
      "metadata": {},
      "source": [
        "<a target=\"_blank\" href=\"https://colab.research.google.com/github/sonder-art/fdd_p25/blob/main/professor/numpy/notebooks/06_NaN_Inf_y_Tipos_Especiales.ipynb\">\n",
        "  <img src=\"https://colab.research.google.com/assets/colab-badge.svg\" alt=\"Open In Colab\"/>\n",
        "</a>\n"
      ]
    },
    {
      "cell_type": "markdown",
      "metadata": {},
      "source": [
        "# 06 — NaN, Inf y tipos especiales\n",
        "\n",
        "- `np.nan` y `np.isnan`\n",
        "- `np.inf` y `np.isfinite`\n",
        "- Agregaciones ignorando NaN: `np.nansum`, `np.nanmean`\n",
        "- Strings y booleans en `ndarray`\n",
        "\n"
      ]
    },
    {
      "cell_type": "code",
      "execution_count": null,
      "metadata": {},
      "outputs": [],
      "source": [
        "import numpy as np\n",
        "\n",
        "arr = np.array([1,2,3,np.nan])\n",
        "(np.isnan(arr), np.sum(arr), np.nansum(arr), np.nanmean(arr))\n"
      ]
    },
    {
      "cell_type": "code",
      "execution_count": null,
      "metadata": {},
      "outputs": [],
      "source": [
        "# Inf y finitos\n",
        "arr = np.array([-np.inf, 2, 3, np.inf])\n",
        "(np.isfinite(arr), np.sum(arr[np.isfinite(arr)]))\n"
      ]
    },
    {
      "cell_type": "code",
      "execution_count": null,
      "metadata": {},
      "outputs": [],
      "source": [
        "# strings y booleans\n",
        "s = np.array(['hello','snake','plate'])\n",
        "s2 = np.array(['hello','snake',-123])\n",
        "b = np.array([True, False], dtype=float)\n",
        "(s, s2.astype(str), b)\n"
      ]
    }
  ],
  "metadata": {
    "language_info": {
      "name": "python"
    }
  },
  "nbformat": 4,
  "nbformat_minor": 2
}
