{
  "cells": [
    {
      "cell_type": "markdown",
      "metadata": {},
      "source": [
        "<a target=\"_blank\" href=\"https://colab.research.google.com/github/sonder-art/fdd_p25/blob/main/professor/numpy/notebooks/06_NaN_Inf_y_Tipos_Especiales.ipynb\">\n",
        "  <img src=\"https://colab.research.google.com/assets/colab-badge.svg\" alt=\"Open In Colab\"/>\n",
        "</a>\n"
      ]
    },
    {
      "cell_type": "markdown",
      "metadata": {},
      "source": [
        "# 06 — NaN, Inf y tipos especiales\n",
        "\n",
        "- `np.nan` y `np.isnan`\n",
        "- `np.inf` y `np.isfinite`\n",
        "- Agregaciones ignorando NaN: `np.nansum`, `np.nanmean`\n",
        "- Strings y booleans en `ndarray`\n",
        "\n"
      ]
    },
    {
      "cell_type": "code",
      "execution_count": 2,
      "metadata": {},
      "outputs": [
        {
          "data": {
            "text/plain": [
              "(array([False, False, False,  True]),\n",
              " np.float64(nan),\n",
              " np.float64(6.0),\n",
              " np.float64(2.0))"
            ]
          },
          "execution_count": 2,
          "metadata": {},
          "output_type": "execute_result"
        }
      ],
      "source": [
        "import numpy as np\n",
        "\n",
        "arr = np.array([1,2,3,np.nan])\n",
        "(np.isnan(arr), np.sum(arr), np.nansum(arr), np.nanmean(arr))\n"
      ]
    },
    {
      "cell_type": "code",
      "execution_count": 6,
      "metadata": {},
      "outputs": [
        {
          "data": {
            "text/plain": [
              "np.float64(-inf)"
            ]
          },
          "execution_count": 6,
          "metadata": {},
          "output_type": "execute_result"
        }
      ],
      "source": [
        "# Inf y finitos\n",
        "arr = np.array([-np.inf, 2, 3])\n",
        "(np.isfinite(arr), np.sum(arr[np.isfinite(arr)]))\n",
        "np.sum(arr)"
      ]
    },
    {
      "cell_type": "code",
      "execution_count": 4,
      "metadata": {},
      "outputs": [
        {
          "data": {
            "text/plain": [
              "nan"
            ]
          },
          "execution_count": 4,
          "metadata": {},
          "output_type": "execute_result"
        }
      ],
      "source": [
        "np.inf - np.inf"
      ]
    },
    {
      "cell_type": "code",
      "execution_count": 7,
      "metadata": {},
      "outputs": [
        {
          "data": {
            "text/plain": [
              "(array(['hello', 'snake', 'plate'], dtype='<U5'),\n",
              " array(['hello', 'snake', '-123'], dtype='<U21'),\n",
              " array([1, 0, 3]))"
            ]
          },
          "execution_count": 7,
          "metadata": {},
          "output_type": "execute_result"
        }
      ],
      "source": [
        "# strings y booleans\n",
        "s = np.array(['hello','snake','plate'])\n",
        "s2 = np.array(['hello','snake',-123])\n",
        "b = np.array([True, False,3])\n",
        "(s, s2,  b)\n"
      ]
    }
  ],
  "metadata": {
    "kernelspec": {
      "display_name": ".venv",
      "language": "python",
      "name": "python3"
    },
    "language_info": {
      "codemirror_mode": {
        "name": "ipython",
        "version": 3
      },
      "file_extension": ".py",
      "mimetype": "text/x-python",
      "name": "python",
      "nbconvert_exporter": "python",
      "pygments_lexer": "ipython3",
      "version": "3.10.12"
    }
  },
  "nbformat": 4,
  "nbformat_minor": 2
}
