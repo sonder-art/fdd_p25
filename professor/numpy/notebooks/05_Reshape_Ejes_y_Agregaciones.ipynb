{
  "cells": [
    {
      "cell_type": "markdown",
      "metadata": {},
      "source": [
        "<a target=\"_blank\" href=\"https://colab.research.google.com/github/sonder-art/fdd_p25/blob/main/professor/numpy/notebooks/05_Reshape_Ejes_y_Agregaciones.ipynb\">\n",
        "  <img src=\"https://colab.research.google.com/assets/colab-badge.svg\" alt=\"Open In Colab\"/>\n",
        "</a>\n"
      ]
    },
    {
      "cell_type": "markdown",
      "metadata": {},
      "source": [
        "# 05 — Reshape, Ejes y Agregaciones\n",
        "\n",
        "- `reshape` y volver a 1D\n",
        "- `axis` en `sum`/`mean`\n",
        "- Función auxiliar para explorar ejes\n",
        "\n"
      ]
    },
    {
      "cell_type": "code",
      "execution_count": 1,
      "metadata": {},
      "outputs": [
        {
          "data": {
            "text/plain": [
              "(array([0, 1, 2, 3, 4, 5, 6, 7, 8, 9]),\n",
              " array([[0, 1, 2, 3, 4],\n",
              "        [5, 6, 7, 8, 9]]),\n",
              " array([0, 1, 2, 3, 4, 5, 6, 7, 8, 9]))"
            ]
          },
          "execution_count": 1,
          "metadata": {},
          "output_type": "execute_result"
        }
      ],
      "source": [
        "import numpy as np\n",
        "\n",
        "# reshape y volver a plano\n",
        "arr = np.arange(10)\n",
        "M = arr.reshape(2,5)\n",
        "flat = M.reshape(-1)\n",
        "arr, M, flat\n"
      ]
    },
    {
      "cell_type": "code",
      "execution_count": 6,
      "metadata": {},
      "outputs": [
        {
          "data": {
            "text/plain": [
              "(array([[1, 2, 3],\n",
              "        [4, 5, 6]]),\n",
              " np.int64(21),\n",
              " array([5, 7, 9]),\n",
              " array([ 6, 15]),\n",
              " np.float64(3.5),\n",
              " array([2.5, 3.5, 4.5]),\n",
              " array([2., 5.]))"
            ]
          },
          "execution_count": 6,
          "metadata": {},
          "output_type": "execute_result"
        }
      ],
      "source": [
        "# agregaciones y axis\n",
        "A = np.array([[1,2,3],[4,5,6]])\n",
        "(\n",
        "    A,\n",
        "    np.sum(A),\n",
        "    np.sum(A, axis=0),  # por columnas\n",
        "    np.sum(A, axis=1),  # por filas\n",
        "    np.mean(A),\n",
        "    np.mean(A, axis=0),\n",
        "    np.mean(A, axis=1),\n",
        ")\n"
      ]
    },
    {
      "cell_type": "code",
      "execution_count": 11,
      "metadata": {},
      "outputs": [
        {
          "name": "stdout",
          "output_type": "stream",
          "text": [
            "axis=0 -> shape=(2, 3), original=(2, 2, 3)\n",
            "axis=1 -> shape=(2, 3), original=(2, 2, 3)\n",
            "axis=2 -> shape=(2, 2), original=(2, 2, 3)\n",
            "axis=None -> shape=(), original=(2, 2, 3)\n"
          ]
        },
        {
          "data": {
            "text/plain": [
              "(array([[[ 1,  2,  3],\n",
              "         [-1, -2, -3]],\n",
              " \n",
              "        [[-4, -5, -6],\n",
              "         [ 4,  5,  6]]]),\n",
              " array([[-3, -3, -3],\n",
              "        [ 3,  3,  3]]),\n",
              " array([[0, 0, 0],\n",
              "        [0, 0, 0]]),\n",
              " array([[  6,  -6],\n",
              "        [-15,  15]]),\n",
              " np.int64(0))"
            ]
          },
          "execution_count": 11,
          "metadata": {},
          "output_type": "execute_result"
        }
      ],
      "source": [
        "def explore_axis(v: np.ndarray, axis: int | None):\n",
        "    w = np.sum(v, axis=axis)\n",
        "    print(f\"axis={axis} -> shape={w.shape}, original={v.shape}\")\n",
        "    return w\n",
        "\n",
        "T = np.array([[[1,2,3],[-1,-2,-3]], [[-4,-5,-6],[4,5,6]]])\n",
        "(\n",
        "    T,\n",
        "explore_axis(T, 0),\n",
        "explore_axis(T, 1),\n",
        "explore_axis(T, 2),\n",
        "explore_axis(T, None)\n",
        ")"
      ]
    }
  ],
  "metadata": {
    "kernelspec": {
      "display_name": ".venv (3.10.12)",
      "language": "python",
      "name": "python3"
    },
    "language_info": {
      "codemirror_mode": {
        "name": "ipython",
        "version": 3
      },
      "file_extension": ".py",
      "mimetype": "text/x-python",
      "name": "python",
      "nbconvert_exporter": "python",
      "pygments_lexer": "ipython3",
      "version": "3.10.12"
    }
  },
  "nbformat": 4,
  "nbformat_minor": 2
}
