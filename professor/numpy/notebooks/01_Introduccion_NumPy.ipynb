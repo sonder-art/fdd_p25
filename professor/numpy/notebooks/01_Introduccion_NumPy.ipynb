{
  "cells": [
    {
      "cell_type": "markdown",
      "metadata": {},
      "source": [
        "<a target=\"_blank\" href=\"https://colab.research.google.com/github/sonder-art/fdd_p25/blob/main/professor/numpy/notebooks/01_Introduccion_NumPy.ipynb\">\n",
        "  <img src=\"https://colab.research.google.com/assets/colab-badge.svg\" alt=\"Open In Colab\"/>\n",
        "</a>\n"
      ]
    },
    {
      "cell_type": "markdown",
      "metadata": {},
      "source": [
        "# 01 — Introducción a NumPy\n",
        "\n",
        "Objetivo: comprender qué es NumPy, por qué usar `ndarray` y cómo se compara con listas de Python.\n",
        "\n",
        "- ¿Qué es un `ndarray`?\n",
        "- Ventajas (vectorización, memoria contigua, broadcasting)\n",
        "- Import básico y versión\n",
        "- Primer array y su `shape`\n",
        "- Comparación con listas"
      ]
    },
    {
      "cell_type": "code",
      "execution_count": 1,
      "metadata": {},
      "outputs": [
        {
          "name": "stdout",
          "output_type": "stream",
          "text": [
            "Requirement already satisfied: numpy in /home/uumami/itam/fdd_p25/.venv/lib/python3.10/site-packages (2.2.6)\n",
            "Requirement already satisfied: matplotlib in /home/uumami/itam/fdd_p25/.venv/lib/python3.10/site-packages (3.10.7)\n",
            "Requirement already satisfied: ipykernel in /home/uumami/itam/fdd_p25/.venv/lib/python3.10/site-packages (6.30.1)\n",
            "Requirement already satisfied: contourpy>=1.0.1 in /home/uumami/itam/fdd_p25/.venv/lib/python3.10/site-packages (from matplotlib) (1.3.2)\n",
            "Requirement already satisfied: cycler>=0.10 in /home/uumami/itam/fdd_p25/.venv/lib/python3.10/site-packages (from matplotlib) (0.12.1)\n",
            "Requirement already satisfied: fonttools>=4.22.0 in /home/uumami/itam/fdd_p25/.venv/lib/python3.10/site-packages (from matplotlib) (4.60.1)\n",
            "Requirement already satisfied: kiwisolver>=1.3.1 in /home/uumami/itam/fdd_p25/.venv/lib/python3.10/site-packages (from matplotlib) (1.4.9)\n",
            "Requirement already satisfied: packaging>=20.0 in /home/uumami/itam/fdd_p25/.venv/lib/python3.10/site-packages (from matplotlib) (25.0)\n",
            "Requirement already satisfied: pillow>=8 in /home/uumami/itam/fdd_p25/.venv/lib/python3.10/site-packages (from matplotlib) (12.0.0)\n",
            "Requirement already satisfied: pyparsing>=3 in /home/uumami/itam/fdd_p25/.venv/lib/python3.10/site-packages (from matplotlib) (3.2.5)\n",
            "Requirement already satisfied: python-dateutil>=2.7 in /home/uumami/itam/fdd_p25/.venv/lib/python3.10/site-packages (from matplotlib) (2.9.0.post0)\n",
            "Requirement already satisfied: comm>=0.1.1 in /home/uumami/itam/fdd_p25/.venv/lib/python3.10/site-packages (from ipykernel) (0.2.3)\n",
            "Requirement already satisfied: debugpy>=1.6.5 in /home/uumami/itam/fdd_p25/.venv/lib/python3.10/site-packages (from ipykernel) (1.8.17)\n",
            "Requirement already satisfied: ipython>=7.23.1 in /home/uumami/itam/fdd_p25/.venv/lib/python3.10/site-packages (from ipykernel) (8.37.0)\n",
            "Requirement already satisfied: jupyter-client>=8.0.0 in /home/uumami/itam/fdd_p25/.venv/lib/python3.10/site-packages (from ipykernel) (8.6.3)\n",
            "Requirement already satisfied: jupyter-core!=5.0.*,>=4.12 in /home/uumami/itam/fdd_p25/.venv/lib/python3.10/site-packages (from ipykernel) (5.8.1)\n",
            "Requirement already satisfied: matplotlib-inline>=0.1 in /home/uumami/itam/fdd_p25/.venv/lib/python3.10/site-packages (from ipykernel) (0.1.7)\n",
            "Requirement already satisfied: nest-asyncio>=1.4 in /home/uumami/itam/fdd_p25/.venv/lib/python3.10/site-packages (from ipykernel) (1.6.0)\n",
            "Requirement already satisfied: psutil>=5.7 in /home/uumami/itam/fdd_p25/.venv/lib/python3.10/site-packages (from ipykernel) (7.1.0)\n",
            "Requirement already satisfied: pyzmq>=25 in /home/uumami/itam/fdd_p25/.venv/lib/python3.10/site-packages (from ipykernel) (27.1.0)\n",
            "Requirement already satisfied: tornado>=6.2 in /home/uumami/itam/fdd_p25/.venv/lib/python3.10/site-packages (from ipykernel) (6.5.2)\n",
            "Requirement already satisfied: traitlets>=5.4.0 in /home/uumami/itam/fdd_p25/.venv/lib/python3.10/site-packages (from ipykernel) (5.14.3)\n",
            "Requirement already satisfied: decorator in /home/uumami/itam/fdd_p25/.venv/lib/python3.10/site-packages (from ipython>=7.23.1->ipykernel) (5.2.1)\n",
            "Requirement already satisfied: exceptiongroup in /home/uumami/itam/fdd_p25/.venv/lib/python3.10/site-packages (from ipython>=7.23.1->ipykernel) (1.3.0)\n",
            "Requirement already satisfied: jedi>=0.16 in /home/uumami/itam/fdd_p25/.venv/lib/python3.10/site-packages (from ipython>=7.23.1->ipykernel) (0.19.2)\n",
            "Requirement already satisfied: pexpect>4.3 in /home/uumami/itam/fdd_p25/.venv/lib/python3.10/site-packages (from ipython>=7.23.1->ipykernel) (4.9.0)\n",
            "Requirement already satisfied: prompt_toolkit<3.1.0,>=3.0.41 in /home/uumami/itam/fdd_p25/.venv/lib/python3.10/site-packages (from ipython>=7.23.1->ipykernel) (3.0.52)\n",
            "Requirement already satisfied: pygments>=2.4.0 in /home/uumami/itam/fdd_p25/.venv/lib/python3.10/site-packages (from ipython>=7.23.1->ipykernel) (2.19.2)\n",
            "Requirement already satisfied: stack_data in /home/uumami/itam/fdd_p25/.venv/lib/python3.10/site-packages (from ipython>=7.23.1->ipykernel) (0.6.3)\n",
            "Requirement already satisfied: typing_extensions>=4.6 in /home/uumami/itam/fdd_p25/.venv/lib/python3.10/site-packages (from ipython>=7.23.1->ipykernel) (4.15.0)\n",
            "Requirement already satisfied: wcwidth in /home/uumami/itam/fdd_p25/.venv/lib/python3.10/site-packages (from prompt_toolkit<3.1.0,>=3.0.41->ipython>=7.23.1->ipykernel) (0.2.14)\n",
            "Requirement already satisfied: parso<0.9.0,>=0.8.4 in /home/uumami/itam/fdd_p25/.venv/lib/python3.10/site-packages (from jedi>=0.16->ipython>=7.23.1->ipykernel) (0.8.5)\n",
            "Requirement already satisfied: platformdirs>=2.5 in /home/uumami/itam/fdd_p25/.venv/lib/python3.10/site-packages (from jupyter-core!=5.0.*,>=4.12->ipykernel) (4.5.0)\n",
            "Requirement already satisfied: ptyprocess>=0.5 in /home/uumami/itam/fdd_p25/.venv/lib/python3.10/site-packages (from pexpect>4.3->ipython>=7.23.1->ipykernel) (0.7.0)\n",
            "Requirement already satisfied: six>=1.5 in /home/uumami/itam/fdd_p25/.venv/lib/python3.10/site-packages (from python-dateutil>=2.7->matplotlib) (1.17.0)\n",
            "Requirement already satisfied: executing>=1.2.0 in /home/uumami/itam/fdd_p25/.venv/lib/python3.10/site-packages (from stack_data->ipython>=7.23.1->ipykernel) (2.2.1)\n",
            "Requirement already satisfied: asttokens>=2.1.0 in /home/uumami/itam/fdd_p25/.venv/lib/python3.10/site-packages (from stack_data->ipython>=7.23.1->ipykernel) (3.0.0)\n",
            "Requirement already satisfied: pure-eval in /home/uumami/itam/fdd_p25/.venv/lib/python3.10/site-packages (from stack_data->ipython>=7.23.1->ipykernel) (0.2.3)\n"
          ]
        }
      ],
      "source": [
        "# mala practica deberian instalarlo con requirements, pero es para colab\n",
        "!pip install numpy matplotlib ipykernel\n"
      ]
    },
    {
      "cell_type": "code",
      "execution_count": 2,
      "metadata": {},
      "outputs": [
        {
          "data": {
            "text/plain": [
              "'2.2.6'"
            ]
          },
          "execution_count": 2,
          "metadata": {},
          "output_type": "execute_result"
        }
      ],
      "source": [
        "import numpy as np\n",
        "np.__version__\n"
      ]
    },
    {
      "cell_type": "code",
      "execution_count": 3,
      "metadata": {},
      "outputs": [
        {
          "data": {
            "text/plain": [
              "(array([1, 2, 3, 4, 5]), (5,))"
            ]
          },
          "execution_count": 3,
          "metadata": {},
          "output_type": "execute_result"
        }
      ],
      "source": [
        "# Primer ndarray y shape\n",
        "arr = np.array([1, 2, 3, 4, 5])\n",
        "arr, arr.shape\n"
      ]
    },
    {
      "cell_type": "markdown",
      "metadata": {},
      "source": [
        "## Listas vs ndarrays (coste y operaciones)\n",
        "- Listas: objetos heterogéneos, operaciones elemento a elemento con bucles\n",
        "- NumPy: vectorización y operaciones en bloque\n",
        "\n"
      ]
    },
    {
      "cell_type": "code",
      "execution_count": 5,
      "metadata": {},
      "outputs": [
        {
          "data": {
            "text/plain": [
              "([0, 2, 4, 6, 8, 10, 12, 14, 16, 18],\n",
              " array([ 0,  2,  4,  6,  8, 10, 12, 14, 16, 18]))"
            ]
          },
          "execution_count": 5,
          "metadata": {},
          "output_type": "execute_result"
        }
      ],
      "source": [
        "# Comparación básica: multiplicar por 2\n",
        "lista = list(range(10))\n",
        "arr = np.arange(10)\n",
        "\n",
        "lista_doble = [x*2 for x in lista]\n",
        "arr_doble = arr * 2\n",
        "\n",
        "lista_doble, arr_doble\n"
      ]
    }
  ],
  "metadata": {
    "kernelspec": {
      "display_name": ".venv (3.10.12)",
      "language": "python",
      "name": "python3"
    },
    "language_info": {
      "codemirror_mode": {
        "name": "ipython",
        "version": 3
      },
      "file_extension": ".py",
      "mimetype": "text/x-python",
      "name": "python",
      "nbconvert_exporter": "python",
      "pygments_lexer": "ipython3",
      "version": "3.10.12"
    }
  },
  "nbformat": 4,
  "nbformat_minor": 2
}
