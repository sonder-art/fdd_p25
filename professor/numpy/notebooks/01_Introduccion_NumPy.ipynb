{
  "cells": [
    {
      "cell_type": "markdown",
      "metadata": {},
      "source": [
        "<a target=\"_blank\" href=\"https://colab.research.google.com/github/sonder-art/fdd_p25/blob/main/professor/numpy/notebooks/01_Introduccion_NumPy.ipynb\">\n",
        "  <img src=\"https://colab.research.google.com/assets/colab-badge.svg\" alt=\"Open In Colab\"/>\n",
        "</a>\n"
      ]
    },
    {
      "cell_type": "markdown",
      "metadata": {},
      "source": [
        "# 01 — Introducción a NumPy\n",
        "\n",
        "Objetivo: comprender qué es NumPy, por qué usar `ndarray` y cómo se compara con listas de Python.\n",
        "\n",
        "- ¿Qué es un `ndarray`?\n",
        "- Ventajas (vectorización, memoria contigua, broadcasting)\n",
        "- Import básico y versión\n",
        "- Primer array y su `shape`\n",
        "- Comparación con listas"
      ]
    },
    {
      "cell_type": "code",
      "execution_count": null,
      "metadata": {},
      "outputs": [],
      "source": [
        "# mala practica deberian instalarlo con requirements, pero es para colab\n",
        "!pip install numpy matplotlib ipykernel\n"
      ]
    },
    {
      "cell_type": "code",
      "execution_count": null,
      "metadata": {},
      "outputs": [],
      "source": [
        "import numpy as np\n",
        "np.__version__\n"
      ]
    },
    {
      "cell_type": "code",
      "execution_count": null,
      "metadata": {},
      "outputs": [],
      "source": [
        "# Primer ndarray y shape\n",
        "arr = np.array([1, 2, 3, 4, 5])\n",
        "arr, arr.shape\n"
      ]
    },
    {
      "cell_type": "markdown",
      "metadata": {},
      "source": [
        "## Listas vs ndarrays (coste y operaciones)\n",
        "- Listas: objetos heterogéneos, operaciones elemento a elemento con bucles\n",
        "- NumPy: vectorización y operaciones en bloque\n",
        "\n"
      ]
    },
    {
      "cell_type": "code",
      "execution_count": null,
      "metadata": {},
      "outputs": [],
      "source": [
        "# Comparación básica: multiplicar por 2\n",
        "lista = list(range(10))\n",
        "arr = np.arange(10)\n",
        "\n",
        "lista_doble = [x*2 for x in lista]\n",
        "arr_doble = arr * 2\n",
        "\n",
        "lista_doble, arr_doble\n"
      ]
    }
  ],
  "metadata": {
    "language_info": {
      "name": "python"
    }
  },
  "nbformat": 4,
  "nbformat_minor": 2
}
