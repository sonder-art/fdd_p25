{
  "cells": [
    {
      "cell_type": "markdown",
      "metadata": {},
      "source": [
        "<a target=\"_blank\" href=\"https://colab.research.google.com/github/sonder-art/fdd_p25/blob/main/professor/numpy/notebooks/04_Operaciones_Basicas_y_Broadcasting.ipynb\">\n",
        "  <img src=\"https://colab.research.google.com/assets/colab-badge.svg\" alt=\"Open In Colab\"/>\n",
        "</a>\n"
      ]
    },
    {
      "cell_type": "markdown",
      "metadata": {},
      "source": [
        "# 04 — Operaciones básicas y Broadcasting\n",
        "\n",
        "- Aritmética elemento a elemento\n",
        "- Comparaciones\n",
        "- Producto matricial `@`\n",
        "- Broadcasting en operaciones\n",
        "\n"
      ]
    },
    {
      "cell_type": "code",
      "execution_count": null,
      "metadata": {},
      "outputs": [],
      "source": [
        "import numpy as np\n",
        "\n",
        "x = np.array([-1,0,1,2])\n",
        "(x*2, x**2, x+2, -x)\n"
      ]
    },
    {
      "cell_type": "code",
      "execution_count": null,
      "metadata": {},
      "outputs": [],
      "source": [
        "# Comparaciones y where\n",
        "a = np.array([1,2,3,4,5])\n",
        "b = np.array([1,3,2,4,5])\n",
        "np.where(a == b)\n"
      ]
    },
    {
      "cell_type": "code",
      "execution_count": null,
      "metadata": {},
      "outputs": [],
      "source": [
        "# Producto matricial\n",
        "A = np.array([[1,2,3],[4,5,6],[7,8,9]])\n",
        "B = np.array([[2,3,4],[5,6,7],[8,9,10]])\n",
        "A @ B\n"
      ]
    },
    {
      "cell_type": "code",
      "execution_count": null,
      "metadata": {},
      "outputs": [],
      "source": [
        "# Broadcasting\n",
        "v = np.arange(3)\n",
        "M = np.ones((3,3))\n",
        "M + v\n"
      ]
    }
  ],
  "metadata": {
    "language_info": {
      "name": "python"
    }
  },
  "nbformat": 4,
  "nbformat_minor": 2
}
