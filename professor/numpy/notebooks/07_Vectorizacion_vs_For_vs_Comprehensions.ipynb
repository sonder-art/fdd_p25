{
  "cells": [
    {
      "cell_type": "markdown",
      "metadata": {},
      "source": [
        "<a target=\"_blank\" href=\"https://colab.research.google.com/github/sonder-art/fdd_p25/blob/main/professor/numpy/notebooks/07_Vectorizacion_vs_For_vs_Comprehensions.ipynb\">\n",
        "  <img src=\"https://colab.research.google.com/assets/colab-badge.svg\" alt=\"Open In Colab\"/>\n",
        "</a>\n"
      ]
    },
    {
      "cell_type": "markdown",
      "metadata": {},
      "source": [
        "# 07 — Vectorización vs for vs comprensiones\n",
        "\n",
        "Este cuaderno explica con claridad, en español, cuándo conviene usar bucles de Python, comprensiones de listas u operaciones vectorizadas con NumPy. Nos enfocamos en rendimiento, legibilidad y escalabilidad.\n",
        "\n",
        "- Bucles `for` en Python\n",
        "- Comprensiones de listas\n",
        "- Operaciones vectorizadas con NumPy (ufuncs y broadcasting)\n",
        "\n",
        "También aprenderás a medir correctamente con `timeit`, qué sesgos evitar y qué reglas prácticas usar para decidir.\n",
        "\n",
        "## ¿Qué es “vectorizar”?\n",
        "Vectorizar es expresar una operación sobre un conjunto completo de datos (arreglos, matrices) sin escribir bucles explícitos. NumPy implementa funciones universales (ufuncs) en C y soporta broadcasting; así reduce el trabajo del intérprete y aprovecha mejor la memoria y el hardware (SIMD).\n",
        "\n",
        "## ¿Por qué un `for` suele ser más lento?\n",
        "- Cada iteración en Python tiene un coste fijo del intérprete (gestión de objetos, despacho de bytecode).\n",
        "- La aritmética con `int`/`float` de Python opera con objetos; en NumPy se opera sobre buffers contiguos y tipos fijos (`float32`/`float64`).\n",
        "\n",
        "## Comprensiones de listas\n",
        "- Suelen ser más rápidas que un `for` manual porque parte del trabajo ocurre en C, pero siguen pagando coste por elemento y no aprovechan SIMD/BLAS como NumPy.\n",
        "\n",
        "## NumPy: ufuncs y broadcasting\n",
        "- Las ufuncs aplican la operación elemento a elemento en C sobre memoria contigua.\n",
        "- El broadcasting combina arreglos de formas compatibles (p. ej. `(n, 1)` con `(1, m)`) sin copiar datos.\n",
        "\n",
        "## Cómo medir con `timeit`\n",
        "- Ejecuta varias repeticiones y reporta la mediana.\n",
        "- Compara trabajos equivalentes (materializa generadores si hace falta).\n",
        "- Evita E/S y cualquier código no esencial dentro de la sección a medir.\n",
        "\n",
        "## Qué vamos a comparar\n",
        "- Multiplicación simple: `x * 2`\n",
        "- Funciones trigonométricas: `sin`, `cos`\n",
        "- Generadores: pereza (lazy) vs materialización\n",
        "- Preasignación vs `append` en Python y estrategias en NumPy\n",
        "- `np.vectorize`: qué hace y por qué no acelera\n",
        "- Dtypes y memoria: `float32` vs `float64`\n"
      ]
    },
    {
      "cell_type": "markdown",
      "metadata": {},
      "source": [
        "## Metodología de benchmarking y buenas prácticas\n",
        "\n",
        "- Repeticiones y mediana: realiza varias repeticiones y reporta la mediana para amortiguar outliers.\n",
        "- Trabajo comparable: mide exactamente el mismo trabajo; si usas un generador, materialízalo para poder compararlo con NumPy.\n",
        "- Calentamiento implícito (warm‑up): repetir llamadas calienta cachés e importa módulos; la mediana ayuda a estabilizar los tiempos.\n",
        "- Tamaño del problema: elige un `n` que haga visible el coste por iteración sin agotar memoria.\n",
        "- Verificación de resultados: valida primero que las implementaciones produzcan el mismo resultado (con tolerancia numérica si procede).\n",
        "- Evita E/S: no imprimas ni escribas a disco dentro del código bajo prueba.\n",
        "\n"
      ]
    },
    {
      "cell_type": "markdown",
      "metadata": {},
      "source": [
        "### Nota: ¿Qué es `np.allclose`?\n",
        "\n",
        "`np.allclose(a, b, rtol=1e-05, atol=1e-08, equal_nan=False)` comprueba si dos arreglos son “casi iguales” elemento a elemento, dentro de tolerancias numéricas.\n",
        "\n",
        "- `rtol` (tolerancia relativa): permite pequeñas diferencias proporcionales al valor.\n",
        "- `atol` (tolerancia absoluta): margen fijo permitido, útil cerca de 0.\n",
        "- Devuelve `True` si para todos los elementos se cumple `|a - b| <= atol + rtol * |b|`.\n",
        "\n",
        "Es útil con números de punto flotante, donde los redondeos hacen que comparaciones exactas fallen. Si necesitas igualdad exacta, usa `np.array_equal`.\n",
        "\n"
      ]
    },
    {
      "cell_type": "code",
      "execution_count": 2,
      "metadata": {},
      "outputs": [
        {
          "name": "stdout",
          "output_type": "stream",
          "text": [
            "Utilidades listas. Ejecuta las celdas de comparación más abajo.\n"
          ]
        }
      ],
      "source": [
        "import numpy as np\n",
        "import math\n",
        "import timeit\n",
        "from statistics import median\n",
        "\n",
        "# Datos base para los experimentos\n",
        "n = 200_000\n",
        "arr = np.arange(n, dtype=np.float64)\n",
        "\n",
        "# Implementaciones equivalentes (multiplicar por 2)\n",
        "def times_two_for(a):\n",
        "    out = []\n",
        "    append = out.append  # micro-optimización local\n",
        "    for x in a:\n",
        "        append(x * 2)\n",
        "    return out\n",
        "\n",
        "def times_two_comp(a):\n",
        "    return [x * 2 for x in a]\n",
        "\n",
        "def times_two_np(a):\n",
        "    return a * 2\n",
        "\n",
        "# Utilidades de benchmarking\n",
        "\n",
        "def measure(stmt, number=10, repeat=7):\n",
        "    \"\"\"Mide un callable sin argumentos y devuelve la mediana del tiempo por llamada.\n",
        "\n",
        "    Parámetros:\n",
        "    - stmt: callable sin argumentos a medir.\n",
        "    - number: número de ejecuciones por repetición (se promedian dentro de cada repetición).\n",
        "    - repeat: número de repeticiones independientes; se toma la mediana entre repeticiones.\n",
        "\n",
        "    Devuelve:\n",
        "    - float: segundos por llamada = mediana(repeticiones) / number.\n",
        "\n",
        "    Notas:\n",
        "    - Usa timeit.repeat para reducir ruido y outliers.\n",
        "    - Si necesitas pasar argumentos, envuélvelos con una lambda o functools.partial.\n",
        "    \"\"\"\n",
        "    times = timeit.repeat(stmt, number=number, repeat=repeat)\n",
        "    return median(times) / number\n",
        "\n",
        "def ns_per_element(seconds_per_call, elements):\n",
        "    return seconds_per_call / elements * 1e9\n",
        "\n",
        "def compare(label_to_callables, elements=n):\n",
        "    \"\"\"Recibe un dict {label: callable} y devuelve dict con métricas por label.\"\"\"\n",
        "    results = {}\n",
        "    for label, fn in label_to_callables.items():\n",
        "        spc = measure(fn)\n",
        "        results[label] = {\n",
        "            \"s/call\": spc,\n",
        "            \"ns/elem\": ns_per_element(spc, elements),\n",
        "        }\n",
        "    return results\n",
        "\n",
        "# Chequeo de correctitud (sanity check)\n",
        "small = np.arange(10, dtype=np.float64)\n",
        "assert np.allclose(np.array(times_two_for(small)), small * 2)\n",
        "assert np.allclose(np.array(times_two_comp(small)), small * 2)\n",
        "assert np.allclose(times_two_np(small), small * 2)\n",
        "\n",
        "print(\"Utilidades listas. Ejecuta las celdas de comparación más abajo.\")\n"
      ]
    },
    {
      "cell_type": "code",
      "execution_count": 3,
      "metadata": {},
      "outputs": [
        {
          "name": "stdout",
          "output_type": "stream",
          "text": [
            "{'crear_generador s/call': 6.5990025177598e-07, 'materializar_generador s/call': 0.0423971676002111, 'numpy s/call': 0.0002791371000057552}\n"
          ]
        }
      ],
      "source": [
        "# Generadores (lazy) vs NumPy y materialización justa\n",
        "\n",
        "def times_two_gen(a):\n",
        "    return (x * 2 for x in a)  # lazy: no hace trabajo hasta consumir\n",
        "\n",
        "# Medimos tres cosas:\n",
        "# 1) Crear el generador (barato)\n",
        "# 2) Materializar a lista \n",
        "# 3) NumPy vectorizado \n",
        "\n",
        "create_gen_s = measure(lambda: times_two_gen(arr))\n",
        "materialize_gen_s = measure(lambda: list(times_two_gen(arr)))\n",
        "vectorized_s = measure(lambda: times_two_np(arr))\n",
        "\n",
        "print({\n",
        "    \"crear_generador s/call\": create_gen_s,\n",
        "    \"materializar_generador s/call\": materialize_gen_s,\n",
        "    \"numpy s/call\": vectorized_s,\n",
        "})\n"
      ]
    },
    {
      "cell_type": "markdown",
      "metadata": {},
      "source": [
        "## Experimentos base: `for` vs comprensiones vs NumPy\n",
        "\n",
        "Comparamos implementaciones equivalentes para multiplicar por 2. Reportamos tiempo por llamada y nanosegundos por elemento.\n",
        "\n",
        "Notas:\n",
        "- Las listas de Python almacenan objetos; NumPy opera con tipos fijos en memoria contigua.\n",
        "- Resultado esperable: `NumPy` >> `comprensión` > `for`.\n",
        "\n"
      ]
    },
    {
      "cell_type": "code",
      "execution_count": 4,
      "metadata": {},
      "outputs": [
        {
          "name": "stdout",
          "output_type": "stream",
          "text": [
            "for {'s/call': 0.037, 'ns/elem': 186.841}\n",
            "comp {'s/call': 0.031, 'ns/elem': 154.323}\n",
            "numpy {'s/call': 0.0, 'ns/elem': 0.381}\n"
          ]
        }
      ],
      "source": [
        "base_results = compare({\n",
        "    \"for\": lambda: times_two_for(arr),\n",
        "    \"comp\": lambda: times_two_comp(arr),\n",
        "    \"numpy\": lambda: times_two_np(arr),\n",
        "})\n",
        "\n",
        "# Presentación simple\n",
        "for k, v in base_results.items():\n",
        "    print(k, {kk: round(vv, 3) for kk, vv in v.items()})\n"
      ]
    },
    {
      "cell_type": "markdown",
      "metadata": {},
      "source": [
        "## Funciones trigonométricas: `math.sin` vs `np.sin`\n",
        "\n",
        "Las ufuncs (`np.sin`, `np.cos`) están vectorizadas y escritas en C. En Python puro, `math.sin` se invoca por elemento dentro de un bucle o de una comprensión.\n",
        "\n",
        "- Aquí la diferencia suele ser mayor que en aritmética simple, porque cada llamada a `math.sin` añade coste por elemento.\n",
        "\n"
      ]
    },
    {
      "cell_type": "code",
      "execution_count": 5,
      "metadata": {},
      "outputs": [
        {
          "name": "stdout",
          "output_type": "stream",
          "text": [
            "for_sin {'s/call': 0.054, 'ns/elem': 267.905}\n",
            "comp_sin {'s/call': 0.063, 'ns/elem': 312.664}\n",
            "numpy_sin {'s/call': 0.003, 'ns/elem': 17.129}\n"
          ]
        }
      ],
      "source": [
        "def sin_for(a):\n",
        "    out = []\n",
        "    append = out.append\n",
        "    for x in a:\n",
        "        append(math.sin(x))\n",
        "    return out\n",
        "\n",
        "def sin_comp(a):\n",
        "    return [math.sin(x) for x in a]\n",
        "\n",
        "def sin_np(a):\n",
        "    return np.sin(a)\n",
        "\n",
        "# Correctitud\n",
        "small = np.linspace(0, 1, 10)\n",
        "assert np.allclose(np.array(sin_for(small)), np.sin(small))\n",
        "assert np.allclose(np.array(sin_comp(small)), np.sin(small))\n",
        "\n",
        "trig_results = compare({\n",
        "    \"for_sin\": lambda: sin_for(arr),\n",
        "    \"comp_sin\": lambda: sin_comp(arr),\n",
        "    \"numpy_sin\": lambda: sin_np(arr),\n",
        "}, elements=n)\n",
        "\n",
        "for k, v in trig_results.items():\n",
        "    print(k, {kk: round(vv, 3) for kk, vv in v.items()})\n"
      ]
    },
    {
      "cell_type": "markdown",
      "metadata": {},
      "source": [
        "## Cómo vectorizar: guía rápida con ejemplos\n",
        "\n",
        "La idea principal es reemplazar bucles explícitos por operaciones sobre arreglos completos.\n",
        "\n",
        "- Usa ufuncs: `np.add`, `np.multiply`, `np.sin`, `np.exp`, etc.\n",
        "- Aprovecha broadcasting para combinar arreglos de formas compatibles sin copiar datos.\n",
        "- Evita `for` cuando la operación sea elemento a elemento y exista ufunc equivalente.\n",
        "\n"
      ]
    },
    {
      "cell_type": "code",
      "execution_count": 9,
      "metadata": {},
      "outputs": [
        {
          "data": {
            "text/plain": [
              "array([ 3.,  5.,  7.,  9., 11., 13., 15., 17., 19., 21.])"
            ]
          },
          "execution_count": 9,
          "metadata": {},
          "output_type": "execute_result"
        }
      ],
      "source": [
        "# Ejemplo 1: suma y escala sin bucles\n",
        "x = np.arange(10, dtype=np.float64)\n",
        "# bucle (evitar)\n",
        "res_for = [xi * 2 + 3 for xi in x]\n",
        "# vectorizado (preferir)\n",
        "res_np = x * 2 + 3\n",
        "assert np.allclose(np.array(res_for), res_np)\n",
        "res_np\n"
      ]
    },
    {
      "cell_type": "markdown",
      "metadata": {},
      "source": [
        "### Broadcasting: combinar formas distintas\n",
        "\n",
        "Regla mental:\n",
        "- Dimensiones iguales o 1 son compatibles.\n",
        "- NumPy “estira” (sin copiar) la dimensión 1 para que coincida.\n",
        "\n"
      ]
    },
    {
      "cell_type": "code",
      "execution_count": 10,
      "metadata": {},
      "outputs": [
        {
          "data": {
            "text/plain": [
              "array([1.        , 1.        , 2.23606798])"
            ]
          },
          "execution_count": 10,
          "metadata": {},
          "output_type": "execute_result"
        }
      ],
      "source": [
        "# Ejemplo 2: distancia euclidiana por filas con broadcasting\n",
        "# Queremos distancias entre puntos de A (n,2) y un centro c (2,)\n",
        "A = np.array([[0., 0.], [1., 1.], [2., 2.]])\n",
        "c = np.array([1., 0.])\n",
        "\n",
        "# Forma con bucle (evitar)\n",
        "res_loop = [np.sqrt((p[0]-c[0])**2 + (p[1]-c[1])**2) for p in A]\n",
        "\n",
        "# Forma vectorizada (preferir)\n",
        "# A - c usa broadcasting: (n,2) - (2,) -> (n,2)\n",
        "res_vec = np.sqrt(((A - c) ** 2).sum(axis=1))\n",
        "\n",
        "assert np.allclose(np.array(res_loop), res_vec)\n",
        "res_vec\n"
      ]
    },
    {
      "cell_type": "markdown",
      "metadata": {},
      "source": [
        "## Preasignación vs `append`\n",
        "\n",
        "En Python puro, `append` dentro de un bucle añade coste por operación. Cuando conozcas el tamaño final, es mejor preasignar y rellenar por índice. En NumPy, evita crecer arreglos en un bucle; crea el arreglo final de una vez y aplica operaciones vectorizadas.\n",
        "\n"
      ]
    },
    {
      "cell_type": "code",
      "execution_count": 6,
      "metadata": {},
      "outputs": [
        {
          "name": "stdout",
          "output_type": "stream",
          "text": [
            "append_py s/call 0.027382\n",
            "prealloc_py s/call 0.019065\n",
            "numpy s/call 0.002031\n"
          ]
        }
      ],
      "source": [
        "m = 200_000\n",
        "\n",
        "# Python: append vs preasignación\n",
        "\n",
        "def squares_append_py(m):\n",
        "    out = []\n",
        "    append = out.append\n",
        "    for i in range(m):\n",
        "        append(i * i)\n",
        "    return out\n",
        "\n",
        "def squares_prealloc_py(m):\n",
        "    out = [0] * m\n",
        "    for i in range(m):\n",
        "        out[i] = i * i\n",
        "    return out\n",
        "\n",
        "# NumPy: crear y rellenar de golpe\n",
        "\n",
        "def squares_numpy(m):\n",
        "    a = np.arange(m, dtype=np.int64)\n",
        "    return a * a\n",
        "\n",
        "# Correctitud\n",
        "assert squares_append_py(5) == squares_prealloc_py(5) == list((np.arange(5) ** 2))\n",
        "\n",
        "prealloc_results = {\n",
        "    \"append_py s/call\": measure(lambda: squares_append_py(m)),\n",
        "    \"prealloc_py s/call\": measure(lambda: squares_prealloc_py(m)),\n",
        "    \"numpy s/call\": measure(lambda: squares_numpy(m)),\n",
        "}\n",
        "\n",
        "for k, v in prealloc_results.items():\n",
        "    print(k, round(v, 6))\n"
      ]
    },
    {
      "cell_type": "markdown",
      "metadata": {},
      "source": [
        "## `np.vectorize`: aclaración importante\n",
        "\n",
        "`np.vectorize` NO acelera por sí mismo: es un envoltorio que llama a tu función Python por elemento. Sirve para escribir código más compacto, no para ganar rendimiento. Si existe una ufunc nativa, úsala.\n",
        "\n"
      ]
    },
    {
      "cell_type": "code",
      "execution_count": 7,
      "metadata": {},
      "outputs": [
        {
          "name": "stdout",
          "output_type": "stream",
          "text": [
            "for_py s/call 0.097096\n",
            "vectorize s/call 0.075757\n",
            "numpy_ufunc s/call 0.007506\n"
          ]
        }
      ],
      "source": [
        "def slow_py_func(x):\n",
        "    # una función arbitraria en Python\n",
        "    return math.sin(x) + x * x\n",
        "\n",
        "vec_slow = np.vectorize(slow_py_func)\n",
        "\n",
        "# Comparamos llamadas\n",
        "vectorize_results = {\n",
        "    \"for_py s/call\": measure(lambda: [slow_py_func(x) for x in arr]),\n",
        "    \"vectorize s/call\": measure(lambda: vec_slow(arr)),\n",
        "    \"numpy_ufunc s/call\": measure(lambda: np.sin(arr) + arr * arr),\n",
        "}\n",
        "\n",
        "for k, v in vectorize_results.items():\n",
        "    print(k, round(v, 6))\n"
      ]
    },
    {
      "cell_type": "markdown",
      "metadata": {},
      "source": [
        "## Dtypes y memoria: `float32` vs `float64`\n",
        "\n",
        "- `float64` ocupa el doble de memoria que `float32` y puede ser más lento en operaciones con grandes volúmenes de datos por presión de memoria/caché.\n",
        "- Elige el dtype mínimo que preserve la precisión que necesitas.\n",
        "\n"
      ]
    },
    {
      "cell_type": "code",
      "execution_count": 9,
      "metadata": {},
      "outputs": [
        {
          "name": "stdout",
          "output_type": "stream",
          "text": [
            "{'x32_MB': 20.0, 'x64_MB': 40.0}\n",
            "sum32 s/call 0.001983\n",
            "sum64 s/call 0.00285\n"
          ]
        }
      ],
      "source": [
        "# Comparamos memoria y tiempos a gran escala\n",
        "n_big = 5_000_000\n",
        "x32 = np.arange(n_big, dtype=np.float32)\n",
        "x64 = np.arange(n_big, dtype=np.float64)\n",
        "\n",
        "print({\n",
        "    \"x32_MB\": round(x32.nbytes / 1e6, 1),\n",
        "    \"x64_MB\": round(x64.nbytes / 1e6, 1),\n",
        "})\n",
        "\n",
        "mem_results = {\n",
        "    \"sum32 s/call\": measure(lambda: np.sum(x32)),\n",
        "    \"sum64 s/call\": measure(lambda: np.sum(x64)),\n",
        "}\n",
        "\n",
        "for k, v in mem_results.items():\n",
        "    print(k, round(v, 6))\n"
      ]
    },
    {
      "cell_type": "markdown",
      "metadata": {},
      "source": [
        "## Patrones y anti‑patrones al vectorizar\n",
        "\n",
        "Usa estos patrones para escribir código claro y rápido con NumPy, y evita los anti‑patrones comunes que degradan el rendimiento o la claridad.\n",
        "\n",
        "### Patrones (haz esto)\n",
        "- Usa ufuncs y expresiones vectorizadas (suma, multiplicación, trigonometría).\n",
        "- Aplica broadcasting para combinar formas compatibles sin copias.\n",
        "- Emplea agregaciones de NumPy (`np.sum`, `np.mean`, `np.max`, ...).\n",
        "- Filtra y transforma con máscaras booleanas y `np.where`.\n",
        "- Preasigna o calcula de una vez; evita crecer arreglos en bucles.\n",
        "- Elige `dtype` mínimo suficiente; usa operaciones in‑place o `out=` cuando convenga.\n",
        "\n",
        "### Anti‑patrones (evita esto)\n",
        "- Iterar en Python sobre `ndarray` para operaciones elemento a elemento.\n",
        "- Usar `np.vectorize` para “acelerar” (no acelera).\n",
        "- Hacer `np.append`/`np.concatenate` dentro de bucles.\n",
        "- Convertir ida y vuelta entre listas y `ndarray` en cada iteración.\n",
        "- Usar `sum`/`max`/`min` de Python sobre arreglos en lugar de las funciones de NumPy.\n",
        "- Crear copias innecesarias; abusar de `.copy()` sin necesidad.\n",
        "\n"
      ]
    },
    {
      "cell_type": "code",
      "execution_count": 14,
      "metadata": {},
      "outputs": [
        {
          "data": {
            "text/plain": [
              "array([ 3.,  5.,  7.,  9., 11., 13., 15., 17.])"
            ]
          },
          "execution_count": 14,
          "metadata": {},
          "output_type": "execute_result"
        }
      ],
      "source": [
        "# Anti‑patrón 1: bucle Python para suma y escala\n",
        "x = np.arange(8, dtype=np.float64)\n",
        "mal = [xi * 2 + 3 for xi in x]\n",
        "# Patrón correcto: expresión vectorizada\n",
        "bien = x * 2 + 3\n",
        "assert np.allclose(np.array(mal), bien)\n",
        "bien\n"
      ]
    },
    {
      "cell_type": "code",
      "execution_count": 15,
      "metadata": {},
      "outputs": [
        {
          "data": {
            "text/plain": [
              "10000"
            ]
          },
          "execution_count": 15,
          "metadata": {},
          "output_type": "execute_result"
        }
      ],
      "source": [
        "# Anti‑patrón 2: concatenar en bucle\n",
        "parts = [np.ones((1000,), dtype=np.float64) for _ in range(10)]\n",
        "# Evitar esto: crece en cada paso (O(n^2) tiempo)\n",
        "mal = np.array([], dtype=np.float64)\n",
        "for p in parts:\n",
        "    mal = np.concatenate([mal, p])\n",
        "\n",
        "# Patrón correcto: concatenar una vez\n",
        "bien = np.concatenate(parts)\n",
        "assert np.allclose(mal, bien)\n",
        "len(bien)\n"
      ]
    },
    {
      "cell_type": "code",
      "execution_count": 16,
      "metadata": {},
      "outputs": [],
      "source": [
        "# Anti‑patrón 3: vectorize para acelerar\n",
        "# Incorrecto: np.vectorize sigue llamando a Python por elemento\n",
        "f = lambda t: math.sin(t) + t\n",
        "vf = np.vectorize(f)\n",
        "mal = vf(x)\n",
        "# Correcto: combinar ufuncs nativas\n",
        "bien = np.sin(x) + x\n",
        "assert np.allclose(mal, bien)\n",
        "\n"
      ]
    },
    {
      "cell_type": "code",
      "execution_count": 17,
      "metadata": {},
      "outputs": [
        {
          "data": {
            "text/plain": [
              "array([0, 0, 0, 0, 0, 1, 2, 3, 4])"
            ]
          },
          "execution_count": 17,
          "metadata": {},
          "output_type": "execute_result"
        }
      ],
      "source": [
        "# Patrón: máscaras booleanas y np.where\n",
        "x = np.arange(-4, 5)\n",
        "mask = x < 0\n",
        "# Reemplazar negativos por 0\n",
        "bien = np.where(mask, 0, x)\n",
        "# Equivalente con bucle (evitar)\n",
        "mal = [0 if xi < 0 else xi for xi in x]\n",
        "assert np.allclose(np.array(mal), bien)\n",
        "bien\n"
      ]
    },
    {
      "cell_type": "code",
      "execution_count": 18,
      "metadata": {},
      "outputs": [
        {
          "name": "stdout",
          "output_type": "stream",
          "text": [
            "array_equal: False\n",
            "allclose: True\n"
          ]
        }
      ],
      "source": [
        "# Mini ejemplo: np.array_equal vs np.allclose\n",
        "# Igualdad exacta falla por redondeo; allclose pasa con tolerancias\n",
        "x = np.array([0.1 + 0.2])\n",
        "y = np.array([0.3])\n",
        "print(\"array_equal:\", np.array_equal(x, y))\n",
        "print(\"allclose:\", np.allclose(x, y))\n"
      ]
    },
    {
      "cell_type": "markdown",
      "metadata": {},
      "source": [
        "## Conclusiones prácticas\n",
        "\n",
        "- Vectoriza siempre que haya una ufunc que cubra tu operación.\n",
        "- Usa broadcasting para evitar bucles anidados y copias innecesarias.\n",
        "- Prefiere `float32` cuando la precisión lo permita y el volumen de datos sea grande.\n",
        "- Evita `np.vectorize` si tu objetivo es acelerar; es solo azúcar sintáctico.\n",
        "- Mide con `timeit` usando mediana y trabajo comparable.\n",
        "\n",
        "## Ejercicios sugeridos\n",
        "\n",
        "1) Implementa `y = 3*x**2 + 2*x + 1` con `for`, comprensión y NumPy, y compara tiempos.\n",
        "2) Calcula distancias de cada punto de `A (n,2)` a cada punto de `B (m,2)` con broadcasting.\n",
        "3) Repite las pruebas con `float32` y `float64` y compara memoria/tiempos.\n",
        "4) Escribe una función Python cualquiera y contrástala con una combinación de ufuncs de NumPy.\n",
        "\n"
      ]
    }
  ],
  "metadata": {
    "kernelspec": {
      "display_name": ".venv (3.10.12)",
      "language": "python",
      "name": "python3"
    },
    "language_info": {
      "codemirror_mode": {
        "name": "ipython",
        "version": 3
      },
      "file_extension": ".py",
      "mimetype": "text/x-python",
      "name": "python",
      "nbconvert_exporter": "python",
      "pygments_lexer": "ipython3",
      "version": "3.10.12"
    }
  },
  "nbformat": 4,
  "nbformat_minor": 2
}
