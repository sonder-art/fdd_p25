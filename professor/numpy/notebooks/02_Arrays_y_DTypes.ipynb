{
  "cells": [
    {
      "cell_type": "markdown",
      "metadata": {},
      "source": [
        "<a target=\"_blank\" href=\"https://colab.research.google.com/github/sonder-art/fdd_p25/blob/main/professor/numpy/notebooks/02_Arrays_y_DTypes.ipynb\">\n",
        "  <img src=\"https://colab.research.google.com/assets/colab-badge.svg\" alt=\"Open In Colab\"/>\n",
        "</a>\n"
      ]
    },
    {
      "cell_type": "markdown",
      "metadata": {},
      "source": [
        "# 02 — Arrays de NumPy y DTypes\n",
        "\n",
        "- Crear arrays: `np.array`, `np.zeros`, `np.ones`, `np.arange`, `np.linspace`\n",
        "- `dtype` y casting vs tipos nativos de Python\n",
        "- `shape`, `ndim`, `size`\n",
        "- Copia vs vista (`copy`, slicing)\n",
        "\n"
      ]
    },
    {
      "cell_type": "code",
      "execution_count": 5,
      "metadata": {},
      "outputs": [
        {
          "data": {
            "text/plain": [
              "(dtype('int64'),\n",
              " (2, 3),\n",
              " 2,\n",
              " 5,\n",
              " array([0.        , 0.01886792, 0.03773585, 0.05660377, 0.0754717 ,\n",
              "        0.09433962, 0.11320755, 0.13207547, 0.1509434 , 0.16981132,\n",
              "        0.18867925, 0.20754717, 0.22641509, 0.24528302, 0.26415094,\n",
              "        0.28301887, 0.30188679, 0.32075472, 0.33962264, 0.35849057,\n",
              "        0.37735849, 0.39622642, 0.41509434, 0.43396226, 0.45283019,\n",
              "        0.47169811, 0.49056604, 0.50943396, 0.52830189, 0.54716981,\n",
              "        0.56603774, 0.58490566, 0.60377358, 0.62264151, 0.64150943,\n",
              "        0.66037736, 0.67924528, 0.69811321, 0.71698113, 0.73584906,\n",
              "        0.75471698, 0.77358491, 0.79245283, 0.81132075, 0.83018868,\n",
              "        0.8490566 , 0.86792453, 0.88679245, 0.90566038, 0.9245283 ,\n",
              "        0.94339623, 0.96226415, 0.98113208, 1.        ]))"
            ]
          },
          "execution_count": 5,
          "metadata": {},
          "output_type": "execute_result"
        }
      ],
      "source": [
        "import numpy as np\n",
        "\n",
        "# creacion\n",
        "arr1 = np.array([1,2,3])\n",
        "arr2 = np.zeros((2,3))\n",
        "arr3 = np.ones((2,3))\n",
        "arr4 = np.arange(0,10,2)\n",
        "arr5 = np.linspace(0, 1, 54)\n",
        "\n",
        "arr1.dtype, arr2.shape, arr3.ndim, arr4.size, arr5\n"
      ]
    },
    {
      "cell_type": "code",
      "execution_count": 7,
      "metadata": {},
      "outputs": [
        {
          "data": {
            "text/plain": [
              "(int, True, False, dtype('float64'))"
            ]
          },
          "execution_count": 7,
          "metadata": {},
          "output_type": "execute_result"
        }
      ],
      "source": [
        "# dtypes y casting\n",
        "arr = np.array([1, 2, 3], dtype=np.int64)\n",
        "arr_float = arr.astype(np.float64)\n",
        "(type(1), isinstance(1, int), isinstance(np.int64(1), int), arr_float.dtype)\n"
      ]
    },
    {
      "cell_type": "code",
      "execution_count": 4,
      "metadata": {},
      "outputs": [
        {
          "data": {
            "text/plain": [
              "numpy.ndarray"
            ]
          },
          "execution_count": 4,
          "metadata": {},
          "output_type": "execute_result"
        }
      ],
      "source": [
        "type(arr1)"
      ]
    },
    {
      "cell_type": "code",
      "execution_count": 8,
      "metadata": {},
      "outputs": [
        {
          "data": {
            "text/plain": [
              "(array([ 0, -1,  2,  3,  4]), array([-1,  2,  3]), array([1, 2, 3]))"
            ]
          },
          "execution_count": 8,
          "metadata": {},
          "output_type": "execute_result"
        }
      ],
      "source": [
        "# copia vs vista\n",
        "base = np.arange(5)\n",
        "view = base[1:4]\n",
        "copy = base[1:4].copy()\n",
        "view[0] = -1\n",
        "(base, view, copy)\n"
      ]
    }
  ],
  "metadata": {
    "kernelspec": {
      "display_name": ".venv (3.10.12)",
      "language": "python",
      "name": "python3"
    },
    "language_info": {
      "codemirror_mode": {
        "name": "ipython",
        "version": 3
      },
      "file_extension": ".py",
      "mimetype": "text/x-python",
      "name": "python",
      "nbconvert_exporter": "python",
      "pygments_lexer": "ipython3",
      "version": "3.10.12"
    }
  },
  "nbformat": 4,
  "nbformat_minor": 2
}
