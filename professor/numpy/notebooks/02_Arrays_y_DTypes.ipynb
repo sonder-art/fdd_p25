{
  "cells": [
    {
      "cell_type": "markdown",
      "metadata": {},
      "source": [
        "<a target=\"_blank\" href=\"https://colab.research.google.com/github/sonder-art/fdd_p25/blob/main/professor/numpy/notebooks/02_Arrays_y_DTypes.ipynb\">\n",
        "  <img src=\"https://colab.research.google.com/assets/colab-badge.svg\" alt=\"Open In Colab\"/>\n",
        "</a>\n"
      ]
    },
    {
      "cell_type": "markdown",
      "metadata": {},
      "source": [
        "# 02 — Arrays de NumPy y DTypes\n",
        "\n",
        "- Crear arrays: `np.array`, `np.zeros`, `np.ones`, `np.arange`, `np.linspace`\n",
        "- `dtype` y casting vs tipos nativos de Python\n",
        "- `shape`, `ndim`, `size`\n",
        "- Copia vs vista (`copy`, slicing)\n",
        "\n"
      ]
    },
    {
      "cell_type": "code",
      "execution_count": null,
      "metadata": {},
      "outputs": [],
      "source": [
        "import numpy as np\n",
        "\n",
        "# creacion\n",
        "arr1 = np.array([1,2,3])\n",
        "arr2 = np.zeros((2,3))\n",
        "arr3 = np.ones((2,3))\n",
        "arr4 = np.arange(0,10,2)\n",
        "arr5 = np.linspace(0, 1, 5)\n",
        "\n",
        "arr1.dtype, arr2.shape, arr3.ndim, arr4.size, arr5\n"
      ]
    },
    {
      "cell_type": "code",
      "execution_count": null,
      "metadata": {},
      "outputs": [],
      "source": [
        "# dtypes y casting\n",
        "arr = np.array([1, 2, 3], dtype=np.int64)\n",
        "arr_float = arr.astype(np.float64)\n",
        "(type(1), isinstance(1, int), isinstance(np.int64(1), np.integer), arr_float.dtype)\n"
      ]
    },
    {
      "cell_type": "code",
      "execution_count": null,
      "metadata": {},
      "outputs": [],
      "source": [
        "# copia vs vista\n",
        "base = np.arange(5)\n",
        "view = base[1:4]\n",
        "copy = base[1:4].copy()\n",
        "view[0] = -1\n",
        "(base, view, copy)\n"
      ]
    }
  ],
  "metadata": {
    "language_info": {
      "name": "python"
    }
  },
  "nbformat": 4,
  "nbformat_minor": 2
}
