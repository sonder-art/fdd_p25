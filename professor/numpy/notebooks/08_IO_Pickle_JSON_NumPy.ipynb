{
  "cells": [
    {
      "cell_type": "markdown",
      "metadata": {},
      "source": [
        "<a target=\"_blank\" href=\"https://colab.research.google.com/github/sonder-art/fdd_p25/blob/main/professor/numpy/notebooks/08_IO_Pickle_JSON_NumPy.ipynb\">\n",
        "  <img src=\"https://colab.research.google.com/assets/colab-badge.svg\" alt=\"Open In Colab\"/>\n",
        "</a>\n"
      ]
    },
    {
      "cell_type": "markdown",
      "metadata": {},
      "source": [
        "# 08 — E/S con Pickle y JSON (NumPy)\n",
        "\n",
        "Integramos y mejoramos el material de `legacy/01_numpy_pkl.ipynb`.\n",
        "\n",
        "- Guardar y cargar arrays con Pickle\n",
        "- Guardar y cargar dicts con Pickle\n",
        "- JSON: serialización legible y tamaños\n",
        "- Serializar `ndarray` y `np.number` a JSON (función `default`)\n",
        "- Consideraciones de codificación (UTF-8)\n",
        "\n"
      ]
    },
    {
      "cell_type": "code",
      "execution_count": null,
      "metadata": {},
      "outputs": [],
      "source": [
        "import numpy as np, pickle, json, os, sys\n",
        "\n",
        "# Guardar y cargar con pickle\n",
        "arr = np.array([1,2,3,4,5])\n",
        "with open(\"array.pkl\", \"wb\") as f:\n",
        "    pickle.dump(arr, f)\n",
        "\n",
        "arr[0] = -1\n",
        "with open(\"array.pkl\", \"rb\") as f:\n",
        "    loaded = pickle.load(f)\n",
        "loaded\n"
      ]
    },
    {
      "cell_type": "code",
      "execution_count": null,
      "metadata": {},
      "outputs": [],
      "source": [
        "# Dict + pickle\n",
        "data = {\"name\": \"John Doe\", \"age\": 32, \"email\": \"johndoe@example.com\"}\n",
        "with open(\"data.pkl\", \"wb\") as f:\n",
        "    pickle.dump(data, f)\n",
        "with open(\"data.pkl\", \"rb\") as f:\n",
        "    data_loaded = pickle.load(f)\n",
        "data_loaded\n"
      ]
    },
    {
      "cell_type": "code",
      "execution_count": null,
      "metadata": {},
      "outputs": [],
      "source": [
        "# JSON legible\n",
        "with open(\"data.json\", \"w\", encoding=\"utf-8\") as f:\n",
        "    json.dump(data, f)\n",
        "with open(\"data.json\", \"r\", encoding=\"utf-8\") as f:\n",
        "    json.load(f)\n"
      ]
    },
    {
      "cell_type": "code",
      "execution_count": null,
      "metadata": {},
      "outputs": [],
      "source": [
        "# Serializar ndarray y np.number\n",
        "def json_serializable(o):\n",
        "    if isinstance(o, np.ndarray):\n",
        "        return o.tolist()\n",
        "    if isinstance(o, np.number):\n",
        "        return o.item()\n",
        "    raise TypeError(f\"No serializable: {type(o)}\")\n",
        "\n",
        "arr2 = np.array([[1,2,3], [4,5,6]], dtype=np.int64)\n",
        "with open(\"ndarray_json.json\", \"w\", encoding=\"utf-8\") as f:\n",
        "    json.dump(arr2, f, default=json_serializable)\n",
        "with open(\"ndarray_json.json\", \"r\", encoding=\"utf-8\") as f:\n",
        "    json.load(f)\n"
      ]
    },
    {
      "cell_type": "code",
      "execution_count": null,
      "metadata": {},
      "outputs": [],
      "source": [
        "# UTF-8 y caracteres especiales\n",
        "with open(\"string.json\", \"w\", encoding=\"utf-8\") as f:\n",
        "    json.dump(\"Ñ\", f, ensure_ascii=False)\n",
        "with open(\"string.json\", \"r\", encoding=\"utf-8\") as f:\n",
        "    json.load(f)\n"
      ]
    }
  ],
  "metadata": {
    "language_info": {
      "name": "python"
    }
  },
  "nbformat": 4,
  "nbformat_minor": 2
}
